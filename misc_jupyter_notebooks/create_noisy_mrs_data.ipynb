{
 "cells": [
  {
   "cell_type": "code",
   "execution_count": 5,
   "id": "initial_id",
   "metadata": {
    "ExecuteTime": {
     "end_time": "2025-02-06T08:47:46.520332Z",
     "start_time": "2025-02-06T08:47:46.518066Z"
    },
    "collapsed": true,
    "jupyter": {
     "outputs_hidden": true
    }
   },
   "outputs": [],
   "source": [
    "from fsl_mrs.utils import mrs_io\n",
    "import numpy as np\n",
    "import matplotlib.pyplot as plt\n",
    "import nibabel as nib\n",
    "from statsmodels.sandbox.distributions.genpareto import shape"
   ]
  },
  {
   "cell_type": "markdown",
   "id": "e1456b52143b3a4c",
   "metadata": {},
   "source": [
    "# Create noisy data to see where individual fits break and universal fitting is superior\n"
   ]
  },
  {
   "cell_type": "code",
   "execution_count": 6,
   "id": "490bb645798090e8",
   "metadata": {
    "ExecuteTime": {
     "end_time": "2025-02-06T08:47:48.234872Z",
     "start_time": "2025-02-06T08:47:48.232776Z"
    }
   },
   "outputs": [],
   "source": [
    "data_path = '/home/malte/Documents/Projects/dMRS_starting_data_cristina/CristinasTestData/derivatives/preprocessed/sub-01/ses-01/dmrs/sub-01_ses-01_dmrs.nii.gz'"
   ]
  },
  {
   "cell_type": "code",
   "execution_count": 7,
   "id": "f77bd8d92e714531",
   "metadata": {
    "ExecuteTime": {
     "end_time": "2025-02-06T08:47:48.876108Z",
     "start_time": "2025-02-06T08:47:48.870017Z"
    }
   },
   "outputs": [],
   "source": [
    "mrs_data = nib.load(data_path)"
   ]
  },
  {
   "cell_type": "code",
   "execution_count": 9,
   "id": "355011097d4fb11",
   "metadata": {
    "ExecuteTime": {
     "end_time": "2025-02-06T08:48:10.193847Z",
     "start_time": "2025-02-06T08:48:10.191054Z"
    }
   },
   "outputs": [],
   "source": [
    "noise_scale = 1e3/2.335\n",
    "noise = np.random.normal(scale=noise_scale,size=mrs_data.dataobj.shape) + 1.j * np.random.normal(scale=noise_scale,size=mrs_data.dataobj.shape)"
   ]
  },
  {
   "cell_type": "code",
   "execution_count": 10,
   "id": "2725303d297e9804",
   "metadata": {
    "ExecuteTime": {
     "end_time": "2025-02-06T08:48:11.306242Z",
     "start_time": "2025-02-06T08:48:11.302380Z"
    }
   },
   "outputs": [],
   "source": [
    "noisy_mrs_data = nib.Nifti2Image(np.asarray(mrs_data.dataobj) + noise, affine=mrs_data.affine, header=mrs_data.header)"
   ]
  },
  {
   "cell_type": "code",
   "execution_count": 18,
   "id": "14098b749f44ab97",
   "metadata": {
    "ExecuteTime": {
     "end_time": "2025-02-06T09:00:03.361404Z",
     "start_time": "2025-02-06T09:00:03.036706Z"
    }
   },
   "outputs": [
    {
     "name": "stdout",
     "output_type": "stream",
     "text": [
      "mkdir: cannot create directory ‘/home/malte/Documents/Projects/dMRS_starting_data_cristina/CristinasTestData/derivatives/preprocessed/sub-04/ses-01’: File exists\r\n",
      "mkdir: cannot create directory ‘/home/malte/Documents/Projects/dMRS_starting_data_cristina/CristinasTestData/derivatives/preprocessed/sub-01/ses-01/dmrs’: File exists\r\n"
     ]
    }
   ],
   "source": [
    "!mkdir /home/malte/Documents/Projects/dMRS_starting_data_cristina/CristinasTestData/derivatives/preprocessed/sub-04/\n",
    "!mkdir /home/malte/Documents/Projects/dMRS_starting_data_cristina/CristinasTestData/derivatives/preprocessed/sub-04/ses-01\n",
    "!mkdir /home/malte/Documents/Projects/dMRS_starting_data_cristina/CristinasTestData/derivatives/preprocessed/sub-04/ses-01/dmrs"
   ]
  },
  {
   "cell_type": "code",
   "execution_count": 19,
   "id": "d41bb10e1c95fde1",
   "metadata": {
    "ExecuteTime": {
     "end_time": "2025-02-06T09:00:13.946791Z",
     "start_time": "2025-02-06T09:00:13.928896Z"
    }
   },
   "outputs": [],
   "source": [
    "nib.save(noisy_mrs_data, '/home/malte/Documents/Projects/dMRS_starting_data_cristina/CristinasTestData/derivatives/preprocessed/sub-04/ses-01/dmrs/sub-04_ses-01_dmrs.nii.gz')"
   ]
  },
  {
   "cell_type": "code",
   "execution_count": 20,
   "id": "c689e631554a5c85",
   "metadata": {
    "ExecuteTime": {
     "end_time": "2025-02-06T09:06:08.566118Z",
     "start_time": "2025-02-06T09:06:08.560329Z"
    }
   },
   "outputs": [],
   "source": [
    "noise_scale = 3e3/2.335\n",
    "noise = np.random.normal(scale=noise_scale,size=mrs_data.dataobj.shape) + 1.j * np.random.normal(scale=noise_scale,size=mrs_data.dataobj.shape)"
   ]
  },
  {
   "cell_type": "code",
   "execution_count": 21,
   "id": "83c3c247a7f909d6",
   "metadata": {
    "ExecuteTime": {
     "end_time": "2025-02-06T09:06:09.006419Z",
     "start_time": "2025-02-06T09:06:09.003146Z"
    }
   },
   "outputs": [],
   "source": [
    "noisy_mrs_data = nib.Nifti2Image(np.asarray(mrs_data.dataobj) + noise, affine=mrs_data.affine, header=mrs_data.header)"
   ]
  },
  {
   "cell_type": "code",
   "execution_count": 22,
   "id": "f3806ee7d1ef575a",
   "metadata": {
    "ExecuteTime": {
     "end_time": "2025-02-06T09:06:14.822Z",
     "start_time": "2025-02-06T09:06:14.313830Z"
    }
   },
   "outputs": [],
   "source": [
    "!mkdir /home/malte/Documents/Projects/dMRS_starting_data_cristina/CristinasTestData/derivatives/preprocessed/sub-05/\n",
    "!mkdir /home/malte/Documents/Projects/dMRS_starting_data_cristina/CristinasTestData/derivatives/preprocessed/sub-05/ses-01\n",
    "!mkdir /home/malte/Documents/Projects/dMRS_starting_data_cristina/CristinasTestData/derivatives/preprocessed/sub-05/ses-01/dmrs"
   ]
  },
  {
   "cell_type": "code",
   "execution_count": 23,
   "id": "f5c579782ea78554",
   "metadata": {
    "ExecuteTime": {
     "end_time": "2025-02-06T09:06:25.230029Z",
     "start_time": "2025-02-06T09:06:25.210293Z"
    }
   },
   "outputs": [],
   "source": [
    "nib.save(noisy_mrs_data, '/home/malte/Documents/Projects/dMRS_starting_data_cristina/CristinasTestData/derivatives/preprocessed/sub-05/ses-01/dmrs/sub-05_ses-01_dmrs.nii.gz')"
   ]
  },
  {
   "cell_type": "code",
   "execution_count": 24,
   "id": "476b848e42f6710a",
   "metadata": {
    "ExecuteTime": {
     "end_time": "2025-02-06T09:06:56.718139Z",
     "start_time": "2025-02-06T09:06:56.715424Z"
    }
   },
   "outputs": [],
   "source": [
    "noise_scale = 5e3/2.335\n",
    "noise = np.random.normal(scale=noise_scale,size=mrs_data.dataobj.shape) + 1.j * np.random.normal(scale=noise_scale,size=mrs_data.dataobj.shape)"
   ]
  },
  {
   "cell_type": "code",
   "execution_count": 25,
   "id": "1c4a6e3b7f43cdd5",
   "metadata": {
    "ExecuteTime": {
     "end_time": "2025-02-06T09:06:58.925729Z",
     "start_time": "2025-02-06T09:06:58.920907Z"
    }
   },
   "outputs": [],
   "source": [
    "noisy_mrs_data = nib.Nifti2Image(np.asarray(mrs_data.dataobj) + noise, affine=mrs_data.affine, header=mrs_data.header)"
   ]
  },
  {
   "cell_type": "code",
   "execution_count": 26,
   "id": "6dfbca123b4ff8e9",
   "metadata": {
    "ExecuteTime": {
     "end_time": "2025-02-06T09:07:04.961639Z",
     "start_time": "2025-02-06T09:07:04.442161Z"
    }
   },
   "outputs": [],
   "source": [
    "!mkdir /home/malte/Documents/Projects/dMRS_starting_data_cristina/CristinasTestData/derivatives/preprocessed/sub-06/\n",
    "!mkdir /home/malte/Documents/Projects/dMRS_starting_data_cristina/CristinasTestData/derivatives/preprocessed/sub-06/ses-01\n",
    "!mkdir /home/malte/Documents/Projects/dMRS_starting_data_cristina/CristinasTestData/derivatives/preprocessed/sub-06/ses-01/dmrs"
   ]
  },
  {
   "cell_type": "code",
   "execution_count": 33,
   "id": "dd8588401b1a76db",
   "metadata": {
    "ExecuteTime": {
     "end_time": "2025-02-06T09:11:35.106388Z",
     "start_time": "2025-02-06T09:11:35.086927Z"
    }
   },
   "outputs": [],
   "source": [
    "nib.save(noisy_mrs_data, '/home/malte/Documents/Projects/dMRS_starting_data_cristina/CristinasTestData/derivatives/preprocessed/sub-06/ses-01/dmrs/sub-06_ses-01_dmrs.nii.gz')"
   ]
  },
  {
   "cell_type": "code",
   "execution_count": 28,
   "id": "b7a535be9bd05394",
   "metadata": {
    "ExecuteTime": {
     "end_time": "2025-02-06T09:07:18.657811Z",
     "start_time": "2025-02-06T09:07:18.655320Z"
    }
   },
   "outputs": [],
   "source": [
    "noise_scale = 1e4/2.335\n",
    "noise = np.random.normal(scale=noise_scale,size=mrs_data.dataobj.shape) + 1.j * np.random.normal(scale=noise_scale,size=mrs_data.dataobj.shape)"
   ]
  },
  {
   "cell_type": "code",
   "execution_count": 29,
   "id": "5df95c15048c0585",
   "metadata": {
    "ExecuteTime": {
     "end_time": "2025-02-06T09:07:19.914793Z",
     "start_time": "2025-02-06T09:07:19.910992Z"
    }
   },
   "outputs": [],
   "source": [
    "noisy_mrs_data = nib.Nifti2Image(np.asarray(mrs_data.dataobj) + noise, affine=mrs_data.affine, header=mrs_data.header)"
   ]
  },
  {
   "cell_type": "code",
   "execution_count": 31,
   "id": "241824317fe0c4cd",
   "metadata": {
    "ExecuteTime": {
     "end_time": "2025-02-06T09:07:33.666644Z",
     "start_time": "2025-02-06T09:07:33.169010Z"
    }
   },
   "outputs": [],
   "source": [
    "!mkdir /home/malte/Documents/Projects/dMRS_starting_data_cristina/CristinasTestData/derivatives/preprocessed/sub-07/\n",
    "!mkdir /home/malte/Documents/Projects/dMRS_starting_data_cristina/CristinasTestData/derivatives/preprocessed/sub-07/ses-01\n",
    "!mkdir /home/malte/Documents/Projects/dMRS_starting_data_cristina/CristinasTestData/derivatives/preprocessed/sub-07/ses-01/dmrs"
   ]
  },
  {
   "cell_type": "code",
   "execution_count": 34,
   "id": "8897c11b9914b0cc",
   "metadata": {
    "ExecuteTime": {
     "end_time": "2025-02-06T09:11:39.630139Z",
     "start_time": "2025-02-06T09:11:39.609563Z"
    }
   },
   "outputs": [],
   "source": [
    "nib.save(noisy_mrs_data, '/home/malte/Documents/Projects/dMRS_starting_data_cristina/CristinasTestData/derivatives/preprocessed/sub-07/ses-01/dmrs/sub-07_ses-01_dmrs.nii.gz')"
   ]
  },
  {
   "cell_type": "code",
   "execution_count": null,
   "id": "f014cb97ed0f3e9d",
   "metadata": {},
   "outputs": [],
   "source": []
  }
 ],
 "metadata": {
  "kernelspec": {
   "display_name": "Python 3 (ipykernel)",
   "language": "python",
   "name": "python3"
  },
  "language_info": {
   "codemirror_mode": {
    "name": "ipython",
    "version": 3
   },
   "file_extension": ".py",
   "mimetype": "text/x-python",
   "name": "python",
   "nbconvert_exporter": "python",
   "pygments_lexer": "ipython3",
   "version": "3.12.3"
  }
 },
 "nbformat": 4,
 "nbformat_minor": 5
}
