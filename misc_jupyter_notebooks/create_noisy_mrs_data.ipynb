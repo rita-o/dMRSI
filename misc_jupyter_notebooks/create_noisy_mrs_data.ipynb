{
 "cells": [
  {
   "cell_type": "code",
   "id": "initial_id",
   "metadata": {
    "collapsed": true,
    "ExecuteTime": {
     "end_time": "2025-02-06T08:47:46.520332Z",
     "start_time": "2025-02-06T08:47:46.518066Z"
    }
   },
   "source": [
    "from fsl_mrs.utils import mrs_io\n",
    "import numpy as np\n",
    "import matplotlib.pyplot as plt\n",
    "import nibabel as nib\n",
    "from statsmodels.sandbox.distributions.genpareto import shape"
   ],
   "outputs": [],
   "execution_count": 5
  },
  {
   "metadata": {},
   "cell_type": "markdown",
   "source": "# Create noisy data to see where individual fits break and universal fitting is superior\n",
   "id": "e1456b52143b3a4c"
  },
  {
   "metadata": {
    "ExecuteTime": {
     "end_time": "2025-02-06T08:47:48.234872Z",
     "start_time": "2025-02-06T08:47:48.232776Z"
    }
   },
   "cell_type": "code",
   "source": "data_path = '/home/malte/Documents/Projects/dMRS_starting_data_cristina/CristinasTestData/derivatives/preprocessed/sub-01/ses-01/dmrs/sub-01_ses-01_dmrs.nii.gz'",
   "id": "490bb645798090e8",
   "outputs": [],
   "execution_count": 6
  },
  {
   "metadata": {
    "ExecuteTime": {
     "end_time": "2025-02-06T08:47:48.876108Z",
     "start_time": "2025-02-06T08:47:48.870017Z"
    }
   },
   "cell_type": "code",
   "source": "mrs_data = nib.load(data_path)",
   "id": "f77bd8d92e714531",
   "outputs": [],
   "execution_count": 7
  },
  {
   "metadata": {
    "ExecuteTime": {
     "end_time": "2025-02-06T08:48:10.193847Z",
     "start_time": "2025-02-06T08:48:10.191054Z"
    }
   },
   "cell_type": "code",
   "source": [
    "noise_scale = 1e3/2.335\n",
    "noise = np.random.normal(scale=noise_scale,size=mrs_data.dataobj.shape) + 1.j * np.random.normal(scale=noise_scale,size=mrs_data.dataobj.shape)"
   ],
   "id": "355011097d4fb11",
   "outputs": [],
   "execution_count": 9
  },
  {
   "metadata": {
    "ExecuteTime": {
     "end_time": "2025-02-06T08:48:11.306242Z",
     "start_time": "2025-02-06T08:48:11.302380Z"
    }
   },
   "cell_type": "code",
   "source": "noisy_mrs_data = nib.Nifti2Image(np.asarray(mrs_data.dataobj) + noise, affine=mrs_data.affine, header=mrs_data.header)",
   "id": "2725303d297e9804",
   "outputs": [],
   "execution_count": 10
  },
  {
   "metadata": {
    "ExecuteTime": {
     "end_time": "2025-02-06T09:00:03.361404Z",
     "start_time": "2025-02-06T09:00:03.036706Z"
    }
   },
   "cell_type": "code",
   "source": [
    "!mkdir /home/malte/Documents/Projects/dMRS_starting_data_cristina/CristinasTestData/derivatives/preprocessed/sub-04/\n",
    "!mkdir /home/malte/Documents/Projects/dMRS_starting_data_cristina/CristinasTestData/derivatives/preprocessed/sub-04/ses-01\n",
    "!mkdir /home/malte/Documents/Projects/dMRS_starting_data_cristina/CristinasTestData/derivatives/preprocessed/sub-04/ses-01/dmrs"
   ],
   "id": "14098b749f44ab97",
   "outputs": [
    {
     "name": "stdout",
     "output_type": "stream",
     "text": [
      "mkdir: cannot create directory ‘/home/malte/Documents/Projects/dMRS_starting_data_cristina/CristinasTestData/derivatives/preprocessed/sub-04/ses-01’: File exists\r\n",
      "mkdir: cannot create directory ‘/home/malte/Documents/Projects/dMRS_starting_data_cristina/CristinasTestData/derivatives/preprocessed/sub-01/ses-01/dmrs’: File exists\r\n"
     ]
    }
   ],
   "execution_count": 18
  },
  {
   "metadata": {
    "ExecuteTime": {
     "end_time": "2025-02-06T09:00:13.946791Z",
     "start_time": "2025-02-06T09:00:13.928896Z"
    }
   },
   "cell_type": "code",
   "source": "nib.save(noisy_mrs_data, '/home/malte/Documents/Projects/dMRS_starting_data_cristina/CristinasTestData/derivatives/preprocessed/sub-04/ses-01/dmrs/sub-04_ses-01_dmrs.nii.gz')",
   "id": "d41bb10e1c95fde1",
   "outputs": [],
   "execution_count": 19
  },
  {
   "metadata": {
    "ExecuteTime": {
     "end_time": "2025-02-06T09:06:08.566118Z",
     "start_time": "2025-02-06T09:06:08.560329Z"
    }
   },
   "cell_type": "code",
   "source": [
    "noise_scale = 3e3/2.335\n",
    "noise = np.random.normal(scale=noise_scale,size=mrs_data.dataobj.shape) + 1.j * np.random.normal(scale=noise_scale,size=mrs_data.dataobj.shape)"
   ],
   "id": "c689e631554a5c85",
   "outputs": [],
   "execution_count": 20
  },
  {
   "metadata": {
    "ExecuteTime": {
     "end_time": "2025-02-06T09:06:09.006419Z",
     "start_time": "2025-02-06T09:06:09.003146Z"
    }
   },
   "cell_type": "code",
   "source": "noisy_mrs_data = nib.Nifti2Image(np.asarray(mrs_data.dataobj) + noise, affine=mrs_data.affine, header=mrs_data.header)",
   "id": "83c3c247a7f909d6",
   "outputs": [],
   "execution_count": 21
  },
  {
   "metadata": {
    "ExecuteTime": {
     "end_time": "2025-02-06T09:06:14.822Z",
     "start_time": "2025-02-06T09:06:14.313830Z"
    }
   },
   "cell_type": "code",
   "source": [
    "!mkdir /home/malte/Documents/Projects/dMRS_starting_data_cristina/CristinasTestData/derivatives/preprocessed/sub-05/\n",
    "!mkdir /home/malte/Documents/Projects/dMRS_starting_data_cristina/CristinasTestData/derivatives/preprocessed/sub-05/ses-01\n",
    "!mkdir /home/malte/Documents/Projects/dMRS_starting_data_cristina/CristinasTestData/derivatives/preprocessed/sub-05/ses-01/dmrs"
   ],
   "id": "f3806ee7d1ef575a",
   "outputs": [],
   "execution_count": 22
  },
  {
   "metadata": {
    "ExecuteTime": {
     "end_time": "2025-02-06T09:06:25.230029Z",
     "start_time": "2025-02-06T09:06:25.210293Z"
    }
   },
   "cell_type": "code",
   "source": "nib.save(noisy_mrs_data, '/home/malte/Documents/Projects/dMRS_starting_data_cristina/CristinasTestData/derivatives/preprocessed/sub-05/ses-01/dmrs/sub-05_ses-01_dmrs.nii.gz')",
   "id": "f5c579782ea78554",
   "outputs": [],
   "execution_count": 23
  },
  {
   "metadata": {
    "ExecuteTime": {
     "end_time": "2025-02-06T09:06:56.718139Z",
     "start_time": "2025-02-06T09:06:56.715424Z"
    }
   },
   "cell_type": "code",
   "source": [
    "noise_scale = 5e3/2.335\n",
    "noise = np.random.normal(scale=noise_scale,size=mrs_data.dataobj.shape) + 1.j * np.random.normal(scale=noise_scale,size=mrs_data.dataobj.shape)"
   ],
   "id": "476b848e42f6710a",
   "outputs": [],
   "execution_count": 24
  },
  {
   "metadata": {
    "ExecuteTime": {
     "end_time": "2025-02-06T09:06:58.925729Z",
     "start_time": "2025-02-06T09:06:58.920907Z"
    }
   },
   "cell_type": "code",
   "source": "noisy_mrs_data = nib.Nifti2Image(np.asarray(mrs_data.dataobj) + noise, affine=mrs_data.affine, header=mrs_data.header)",
   "id": "1c4a6e3b7f43cdd5",
   "outputs": [],
   "execution_count": 25
  },
  {
   "metadata": {
    "ExecuteTime": {
     "end_time": "2025-02-06T09:07:04.961639Z",
     "start_time": "2025-02-06T09:07:04.442161Z"
    }
   },
   "cell_type": "code",
   "source": [
    "!mkdir /home/malte/Documents/Projects/dMRS_starting_data_cristina/CristinasTestData/derivatives/preprocessed/sub-06/\n",
    "!mkdir /home/malte/Documents/Projects/dMRS_starting_data_cristina/CristinasTestData/derivatives/preprocessed/sub-06/ses-01\n",
    "!mkdir /home/malte/Documents/Projects/dMRS_starting_data_cristina/CristinasTestData/derivatives/preprocessed/sub-06/ses-01/dmrs"
   ],
   "id": "6dfbca123b4ff8e9",
   "outputs": [],
   "execution_count": 26
  },
  {
   "metadata": {
    "ExecuteTime": {
     "end_time": "2025-02-06T09:11:35.106388Z",
     "start_time": "2025-02-06T09:11:35.086927Z"
    }
   },
   "cell_type": "code",
   "source": "nib.save(noisy_mrs_data, '/home/malte/Documents/Projects/dMRS_starting_data_cristina/CristinasTestData/derivatives/preprocessed/sub-06/ses-01/dmrs/sub-06_ses-01_dmrs.nii.gz')",
   "id": "dd8588401b1a76db",
   "outputs": [],
   "execution_count": 33
  },
  {
   "metadata": {
    "ExecuteTime": {
     "end_time": "2025-02-06T09:07:18.657811Z",
     "start_time": "2025-02-06T09:07:18.655320Z"
    }
   },
   "cell_type": "code",
   "source": [
    "noise_scale = 1e4/2.335\n",
    "noise = np.random.normal(scale=noise_scale,size=mrs_data.dataobj.shape) + 1.j * np.random.normal(scale=noise_scale,size=mrs_data.dataobj.shape)"
   ],
   "id": "b7a535be9bd05394",
   "outputs": [],
   "execution_count": 28
  },
  {
   "metadata": {
    "ExecuteTime": {
     "end_time": "2025-02-06T09:07:19.914793Z",
     "start_time": "2025-02-06T09:07:19.910992Z"
    }
   },
   "cell_type": "code",
   "source": "noisy_mrs_data = nib.Nifti2Image(np.asarray(mrs_data.dataobj) + noise, affine=mrs_data.affine, header=mrs_data.header)",
   "id": "5df95c15048c0585",
   "outputs": [],
   "execution_count": 29
  },
  {
   "metadata": {
    "ExecuteTime": {
     "end_time": "2025-02-06T09:07:33.666644Z",
     "start_time": "2025-02-06T09:07:33.169010Z"
    }
   },
   "cell_type": "code",
   "source": [
    "!mkdir /home/malte/Documents/Projects/dMRS_starting_data_cristina/CristinasTestData/derivatives/preprocessed/sub-07/\n",
    "!mkdir /home/malte/Documents/Projects/dMRS_starting_data_cristina/CristinasTestData/derivatives/preprocessed/sub-07/ses-01\n",
    "!mkdir /home/malte/Documents/Projects/dMRS_starting_data_cristina/CristinasTestData/derivatives/preprocessed/sub-07/ses-01/dmrs"
   ],
   "id": "241824317fe0c4cd",
   "outputs": [],
   "execution_count": 31
  },
  {
   "metadata": {
    "ExecuteTime": {
     "end_time": "2025-02-06T09:11:39.630139Z",
     "start_time": "2025-02-06T09:11:39.609563Z"
    }
   },
   "cell_type": "code",
   "source": "nib.save(noisy_mrs_data, '/home/malte/Documents/Projects/dMRS_starting_data_cristina/CristinasTestData/derivatives/preprocessed/sub-07/ses-01/dmrs/sub-07_ses-01_dmrs.nii.gz')",
   "id": "8897c11b9914b0cc",
   "outputs": [],
   "execution_count": 34
  },
  {
   "metadata": {},
   "cell_type": "code",
   "outputs": [],
   "execution_count": null,
   "source": "",
   "id": "f014cb97ed0f3e9d"
  }
 ],
 "metadata": {
  "kernelspec": {
   "display_name": "Python [conda env:fsl]",
   "language": "python",
   "name": "conda-env-fsl-py"
  },
  "language_info": {
   "codemirror_mode": {
    "name": "ipython",
    "version": 2
   },
   "file_extension": ".py",
   "mimetype": "text/x-python",
   "name": "python",
   "nbconvert_exporter": "python",
   "pygments_lexer": "ipython2",
   "version": "2.7.6"
  }
 },
 "nbformat": 4,
 "nbformat_minor": 5
}
