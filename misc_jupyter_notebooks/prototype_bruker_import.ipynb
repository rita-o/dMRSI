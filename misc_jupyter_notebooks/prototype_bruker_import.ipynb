{
 "cells": [
  {
   "cell_type": "code",
   "id": "344fe83e-4894-4ec8-9b1e-5521ffb70221",
   "metadata": {
    "ExecuteTime": {
     "end_time": "2025-05-16T09:05:58.045556Z",
     "start_time": "2025-05-16T09:05:57.573574Z"
    }
   },
   "source": [
    "import os, sys\n",
    "sys.path.append('../common/nifti_mrs_from_raw')\n",
    "sys.path.append('../')\n",
    "import importlib\n",
    "\n",
    "import numpy as np\n",
    "from scipy.io import loadmat\n",
    "from matplotlib import pyplot as plt\n",
    "from pathlib import Path\n",
    "import re\n",
    "import fsl_mrs.utils.mrs_io as mrs_io\n",
    "import fsl_mrs.core.nifti_mrs as ntools\n",
    "from fsl_mrs.utils.preproc import nifti_mrs_proc as proc\n",
    "import numpy as np\n",
    "\n",
    "from datetime import datetime\n",
    "\n",
    "\n",
    "from fsl_mrs.utils import preproc\n",
    "from fsl_mrs.core import NIFTI_MRS\n",
    "from fsl_mrs.core import nifti_mrs as ntools\n",
    "from fsl_mrs.utils.misc import shift_FID\n",
    "\n",
    "from nifti_mrs_from_raw_pv3 import main as bruker2niimrs\n",
    "import nifti_mrs_from_raw_pv3 as bruker2fsl\n",
    "\n",
    "from bids_structure import *\n",
    "from custom_functions import *"
   ],
   "outputs": [],
   "execution_count": 1
  },
  {
   "cell_type": "code",
   "id": "0f71fb3f-8521-469b-b48b-1cd9937ff75b",
   "metadata": {
    "ExecuteTime": {
     "end_time": "2025-05-16T08:27:22.105690Z",
     "start_time": "2025-05-16T08:27:22.101340Z"
    }
   },
   "source": [
    "# from https://git.fmrib.ox.ac.uk/fsl/fsl_mrs/-/blob/master/fsl_mrs/utils/preproc/nifti_mrs_proc.py\n",
    "\n",
    "def remove_unlike(data, ppmlim=None, sdlimit=1.96, niter=2, figure=False, report=None, return_indices=False):\n",
    "    '''Remove unlike dynamics operating on DIM_DYN\n",
    "\n",
    "    :param NIFTI_MRS data: Data to truncate or pad\n",
    "    :param figure: True to show figure.\n",
    "    :param report: Provide output location as path to generate report\n",
    "\n",
    "    :return: Data passing likeness criteria.\n",
    "    :return: Data failing likness criteria\n",
    "    '''\n",
    "    if data.shape[:3] != (1, 1, 1):\n",
    "        raise OnlySVS(\"remove_unlike only specified for SVS data\")\n",
    "\n",
    "    if data.ndim > 5:\n",
    "        raise ValueError('remove_unlike only makes sense for a single dynamic dimension. Combined coils etc. first')\n",
    "    elif data.ndim < 5:\n",
    "        raise ValueError('remove_unlike only makes sense for data with a dynamic dimension')\n",
    "\n",
    "    goodFIDs, badFIDs, gIndicies, bIndicies, metric = \\\n",
    "        preproc.identifyUnlikeFIDs(data[0, 0, 0, :, :].T,\n",
    "                                   data.bandwidth,\n",
    "                                   data.spectrometer_frequency[0],\n",
    "                                   nucleus=data.nucleus[0],\n",
    "                                   ppmlim=ppmlim,\n",
    "                                   sdlimit=sdlimit,\n",
    "                                   iterations=niter,\n",
    "                                   shift=True)\n",
    "\n",
    "    if figure or report:\n",
    "        from fsl_mrs.utils.preproc.unlike import identifyUnlikeFIDs_report\n",
    "        fig = identifyUnlikeFIDs_report(goodFIDs,\n",
    "                                        badFIDs,\n",
    "                                        gIndicies,\n",
    "                                        bIndicies,\n",
    "                                        metric,\n",
    "                                        data.bandwidth,\n",
    "                                        data.spectrometer_frequency[0],\n",
    "                                        nucleus=data.nucleus[0],\n",
    "                                        ppmlim=ppmlim,\n",
    "                                        sdlimit=sdlimit,\n",
    "                                        html=report)\n",
    "        if figure:\n",
    "            fig.show()\n",
    "    \n",
    "    if return_indices:\n",
    "        return gIndicies, bIndicies\n",
    "\n",
    "    # goodFIDs = np.asarray(goodFIDs).T\n",
    "    # goodFIDs = goodFIDs.reshape([1, 1, 1] + list(goodFIDs.shape))\n",
    "\n",
    "    if len(badFIDs) > 0:\n",
    "        bad_out, good_out  = ntools.split(\n",
    "            data,\n",
    "            data.dim_tags[0],\n",
    "            gIndicies)\n",
    "    else:\n",
    "        good_out = data.copy()\n",
    "\n",
    "    good_out.add_hdr_field(\n",
    "        f'{data.dim_tags[0]} Indices',\n",
    "        gIndicies,\n",
    "        doc=f\"Data's original index values in the {data.dim_tags[0]} dimension\")\n",
    "\n",
    "    if len(badFIDs) > 0:\n",
    "        bad_out.add_hdr_field(\n",
    "            f'{data.dim_tags[0]} Indices',\n",
    "            bIndicies,\n",
    "            doc=f\"Data's original index values in the {data.dim_tags[0]} dimension\")\n",
    "    else:\n",
    "        bad_out = None\n",
    "\n",
    "    # Update processing prov\n",
    "    processing_info = f'{__name__}.remove_unlike, '\n",
    "    if ppmlim is None:\n",
    "        processing_info += 'ppmlim=None, '\n",
    "    else:\n",
    "        processing_info += f'ppmlim={ppmlim}, '\n",
    "    processing_info += f'sdlimit={sdlimit}, '\n",
    "    processing_info += f'niter={niter}.'\n",
    "\n",
    "    update_processing_prov(good_out, 'Outlier removal', processing_info)\n",
    "\n",
    "    return good_out, bad_out\n"
   ],
   "outputs": [],
   "execution_count": 2
  },
  {
   "cell_type": "code",
   "id": "6a340117-279d-4818-9178-89ac44207c9c",
   "metadata": {
    "ExecuteTime": {
     "end_time": "2025-05-16T08:27:23.098246Z",
     "start_time": "2025-05-16T08:27:23.095919Z"
    }
   },
   "source": [
    "from fsl_mrs import __version__\n",
    "\n",
    "\n",
    "def update_processing_prov(nmrs_obj: NIFTI_MRS, method, details):\n",
    "    \"\"\"Insert appropriate processing provenance information into the\n",
    "    NIfTI-MRS header extension.\n",
    "\n",
    "    :param nmrs_obj: NIFTI-MRS object which has been modified\n",
    "    :type nmrs_obj: fsl_mrs.core.NIFTI_MRS\n",
    "    :param method: [description]\n",
    "    :type method: str\n",
    "    :param details: [description]\n",
    "    :type details: str\n",
    "    \"\"\"\n",
    "    # 1. Check for ProcessingApplied key and create if not present\n",
    "    if 'ProcessingApplied' in nmrs_obj.hdr_ext:\n",
    "        current_processing = nmrs_obj.hdr_ext['ProcessingApplied']\n",
    "    else:\n",
    "        current_processing = []\n",
    "\n",
    "    # 2. Form object to append.\n",
    "    prov_dict = {\n",
    "        'Time': datetime.now().isoformat(sep='T', timespec='milliseconds'),\n",
    "        'Program': 'FSL-MRS',\n",
    "        'Version': __version__,\n",
    "        'Method': method,\n",
    "        'Details': details}\n",
    "\n",
    "    # 3. Append\n",
    "    current_processing.append(prov_dict)\n",
    "    nmrs_obj.add_hdr_field('ProcessingApplied', current_processing)\n"
   ],
   "outputs": [],
   "execution_count": 3
  },
  {
   "cell_type": "code",
   "id": "496b25a0-3559-4632-9bed-82cc4809f49a",
   "metadata": {
    "ExecuteTime": {
     "end_time": "2025-05-16T08:27:23.334301Z",
     "start_time": "2025-05-16T08:27:23.331129Z"
    }
   },
   "source": [
    "def _read_header_file_info(file_path, keys_single, keys_array):\n",
    "    \"\"\"Read information from the method file\n",
    "\n",
    "    :param file_path: path to the header file\n",
    "    :type file_path: str or pathlib.Path\n",
    "    :param keys_single: List of header keys that are a single value\n",
    "    :type keys_single: list of str\n",
    "    :param keys_array: List of header keys that have array values\n",
    "    :type keys_array: list of str\n",
    "    :return: Dict containing the information\n",
    "    :rtype: dict\n",
    "    \"\"\"\n",
    "    re_searches = [re.compile(fr'({x})\\=(\\d+)') for x in keys_single]\n",
    "    re_searches2 = [re.compile(fr'({x})\\=\\((\\s?\\d+\\s?)\\)') for x in keys_array]\n",
    "\n",
    "    with open(file_path) as fp:\n",
    "        methodlines = fp.readlines()\n",
    "\n",
    "    method_values = {}\n",
    "    for line in methodlines:\n",
    "        for re_ptrn in re_searches:\n",
    "            match = re.search(re_ptrn, line)\n",
    "            if match:\n",
    "                method_values[match[1]] = int(match[2])\n",
    "\n",
    "    # For array values that occur on the line after\n",
    "    for idx, line in enumerate(methodlines):\n",
    "        for re_ptrn in re_searches2:\n",
    "            match = re.search(re_ptrn, line)\n",
    "            if match:\n",
    "                method_values[match[1]] = np.array(\n",
    "                    methodlines[idx+1].split(' ')).astype('float')\n",
    "\n",
    "    return method_values\n"
   ],
   "outputs": [],
   "execution_count": 4
  },
  {
   "cell_type": "markdown",
   "id": "0d2a0bb3-6c1b-4f28-b940-59475b2e085a",
   "metadata": {},
   "source": [
    "# MRS raw data preprocessing"
   ]
  },
  {
   "cell_type": "code",
   "id": "38eb7637-c375-4ad5-a7c2-c649c0c43097",
   "metadata": {
    "ExecuteTime": {
     "end_time": "2025-05-16T08:27:29.776351Z",
     "start_time": "2025-05-16T08:27:29.766931Z"
    }
   },
   "source": [
    "def preproc_SPECIAL(path_to_data, \n",
    "                    water_reference_seqeunce_number,\n",
    "                   min_seq_number,\n",
    "                   max_seq_number,\n",
    "                   fixed_phase_shift=245,\n",
    "                   ppmlim_outlier=(0.2,4.3),\n",
    "                   subject_name = 'sub-01',\n",
    "                   session_number = 1):\n",
    "    \n",
    "\n",
    "\n",
    "    # PROCESS WATER REFERENCE DATA\n",
    "    \n",
    "    ## Convert bruker raw data to nifti mrs\n",
    "    bruker2niimrs(f'{path_to_data}/{water_reference_seqeunce_number}/rawdata.job0', f'{path_to_data}/{water_reference_seqeunce_number}/rawdata_nifti')\n",
    "\n",
    "    ref_data = mrs_io.read_FID(f'{path_to_data}/{water_reference_seqeunce_number}/rawdata_nifti.nii.gz')\n",
    "\n",
    "    ## crop water reference along trivial dimensions\n",
    "    if ref_data.shape[-1]==1:\n",
    "        ref_data = ntools.reshape(ref_data,(ref_data.shape[-3],ref_data.shape[-1],ref_data.shape[-2]))\n",
    "    for i,dim in enumerate(ref_data.dim_tags):\n",
    "        if ref_data.shape[4+i]==1:\n",
    "            ref_data_crop = ref_data.copy(remove_dim=4+i)\n",
    "    ref_data=ref_data_crop\n",
    "\n",
    "    ## for SPECIAL sequence: split even and odd repetitions\n",
    "    even_reps = [2*n for n in range(ref_data.shape[5]//2)]\n",
    "    ref_data_even, ref_data_odd = ntools.split(ref_data,5,even_reps)\n",
    "    \n",
    "    avg_ref_data_even = proc.average(ref_data_even, 'DIM_USER_0',report='./report_ref_av_even.html')\n",
    "    avg_ref_data_odd = proc.average(ref_data_odd, 'DIM_USER_0',report='./report_ref_av_odd.html')\n",
    "\n",
    "    ## coil combination\n",
    "    avg_ref_data_even_cc = proc.coilcombine(avg_ref_data_even,reference=avg_ref_data_even)\n",
    "    avg_ref_data_odd_cc = proc.coilcombine(avg_ref_data_odd,reference=avg_ref_data_odd)\n",
    "\n",
    "    ## fixed phase shift\n",
    "    avg_ref_data_even_cc_shift = proc.apply_fixed_phase(avg_ref_data_even_cc,fixed_phase_shift)\n",
    "    avg_ref_data_odd_cc_shift = proc.apply_fixed_phase(avg_ref_data_odd_cc,fixed_phase_shift)\n",
    "\n",
    "    # SPECIAL: add even and odd averages\n",
    "    avg_ref_data_combined_cc_shift = proc.add(avg_ref_data_even_cc_shift,avg_ref_data_odd_cc_shift)\n",
    "\n",
    "    # PROCESS METABOLITE DATA\n",
    "    \n",
    "    ## convert raw data and load\n",
    "    data = []\n",
    "    for seq_number in range(min_seq_number,max_seq_number+1):\n",
    "        bruker2niimrs(f'{path_to_data}/{seq_number}/rawdata.job0', f'{path_to_data}/{seq_number}/rawdata_nifti')\n",
    "        data.append(mrs_io.read_FID(f'{path_to_data}/{seq_number}/rawdata_nifti.nii.gz'))\n",
    "    \n",
    "    ## remove trivial dimension\n",
    "    for j,this_data in enumerate(data):\n",
    "        if this_data.shape[-1]==1:\n",
    "            this_data = ntools.reshape(this_data,(this_data.shape[-3],this_data.shape[-1],this_data.shape[-2]))\n",
    "        for i,dim in enumerate(this_data.dim_tags):\n",
    "            if this_data.shape[4+i]==1:\n",
    "                data[j] = this_data.copy(remove_dim=dim)\n",
    "                \n",
    "    ## for SPECIAL processing: split even and odd repetitions\n",
    "    data_even = []\n",
    "    data_odd = []\n",
    "    for this_data in data:\n",
    "        even_reps = [2*n for n in range(this_data.shape[5]//2)]\n",
    "        this_data_even, this_data_odd = ntools.split(this_data,5,even_reps)\n",
    "        data_even.append(this_data_even)\n",
    "        data_odd.append(this_data_odd)\n",
    "        \n",
    "    ## coil combination\n",
    "    data_even_cc = []\n",
    "    data_odd_cc = []\n",
    "    \n",
    "    for this_data in data_even:\n",
    "        data_even_cc.append(proc.coilcombine(this_data,reference=avg_ref_data_even,figure=False))\n",
    "        \n",
    "    for this_data in data_odd:\n",
    "        data_odd_cc.append(proc.coilcombine(this_data,reference=avg_ref_data_odd,figure=False))\n",
    "\n",
    "    ## shift by fixed shit\n",
    "    data_even_cc_shift = []\n",
    "    data_odd_cc_shift = []\n",
    "    \n",
    "    for this_data in data_even_cc:\n",
    "        data_even_cc_shift.append(proc.apply_fixed_phase(this_data,fixed_phase_shift))\n",
    "        \n",
    "    for this_data in data_odd_cc:\n",
    "        data_odd_cc_shift.append(proc.apply_fixed_phase(this_data,fixed_phase_shift))\n",
    "\n",
    "    ## align averages\n",
    "    data_even_cc_shift_align = []\n",
    "    data_odd_cc_shift_align = []\n",
    "    \n",
    "    for this_data in data_even_cc_shift:\n",
    "        data_even_cc_shift_align.append(proc.align(this_data, 'DIM_USER_0', ppmlim=(0.2,4.2), figure=False))\n",
    "    \n",
    "    for this_data in data_odd_cc_shift:\n",
    "        data_odd_cc_shift_align.append(proc.align(this_data, 'DIM_USER_0', ppmlim=(0.2,4.2), figure=False))\n",
    "\n",
    "    ## outlier removal\n",
    "    data_even_cc_shift_align_unlike_good_ind = []\n",
    "    data_odd_cc_shift_align_unlike_good_ind = []\n",
    "    \n",
    "    data_even_cc_shift_align_unlike_bad_ind = []\n",
    "    data_odd_cc_shift_align_unlike_bad_ind = []\n",
    "    \n",
    "    \n",
    "    for this_data in data_even_cc_shift_align:\n",
    "        this_unlike = remove_unlike(this_data, ppmlim=ppmlim_outlier,return_indices=True)\n",
    "        data_even_cc_shift_align_unlike_good_ind.append(this_unlike[0])\n",
    "        data_even_cc_shift_align_unlike_bad_ind.append(this_unlike[1])\n",
    "    for this_data in data_odd_cc_shift_align:\n",
    "        this_unlike = remove_unlike(this_data, ppmlim=ppmlim_outlier,return_indices=True)\n",
    "        data_odd_cc_shift_align_unlike_good_ind.append(this_unlike[0])\n",
    "        data_odd_cc_shift_align_unlike_bad_ind.append(this_unlike[1])\n",
    "\n",
    "    data_combined_cc_shift_align_unlike = []\n",
    "    for j,this_data in enumerate(data_even_cc_shift_align):\n",
    "        these_good_data = []\n",
    "        for i in range(this_data.shape[-1]):\n",
    "            # only consider data where both even and odd version is not an outlier\n",
    "            if (i in data_even_cc_shift_align_unlike_good_ind[j]) and (i in data_odd_cc_shift_align_unlike_good_ind[j]):\n",
    "                # take out data to add\n",
    "                scrap, this_even_rep = ntools.split(data_even_cc_shift_align[j],4,[i])\n",
    "                scrap, this_odd_rep = ntools.split(data_odd_cc_shift_align[j],4,[i])\n",
    "                # add data and append\n",
    "                these_good_data.append(proc.add(this_even_rep,this_odd_rep))\n",
    "        # stack along repetition dimension\n",
    "        data_combined_cc_shift_align_unlike.append(ntools.merge(these_good_data,'DIM_USER_0'))\n",
    "    print('Warning: We are adding two averages and not dividing by 2, maybe confusing quantification.')\n",
    "\n",
    "    ## averaging data\n",
    "    data_combined_cc_shift_align_unlike_av = []\n",
    "    \n",
    "    for this_data in data_combined_cc_shift_align_unlike:\n",
    "        data_combined_cc_shift_align_unlike_av.append(proc.average(this_data, 'DIM_USER_0'))\n",
    "\n",
    "    ## eddy current correction\n",
    "    data_combined_cc_shift_align_unlike_av_ecc = []\n",
    "\n",
    "    for this_data in data_combined_cc_shift_align_unlike_av:\n",
    "        data_combined_cc_shift_align_unlike_av_ecc.append(proc.ecc(this_data, avg_ref_data_combined_cc_shift))\n",
    "\n",
    "    print('Truncation etc needed? Double check Jessies script.')\n",
    "\n",
    "    limits = [-0.15,0.15]\n",
    "    limunits = 'ppm'\n",
    "    \n",
    "    data_combined_cc_shift_align_unlike_av_ecc_watersupp = [proc.remove_peaks(this_data, limits, limit_units=limunits) \n",
    "                                                            for this_data in data_combined_cc_shift_align_unlike_av_ecc]\n",
    "    \n",
    "    data_combined_cc_shift_align_unlike_av_ecc_watersupp_refshift = [proc.shift_to_reference(this_data, 3.027, (2.9, 3.1)) \n",
    "                                                                     for this_data in data_combined_cc_shift_align_unlike_av_ecc_watersupp ]\n",
    "    \n",
    "    data_combined_cc_shift_align_unlike_av_ecc_watersupp_refshift_phased = [proc.phase_correct(this_data, (2.9, 3.1))\n",
    "                                                                            for this_data in data_combined_cc_shift_align_unlike_av_ecc_watersupp_refshift]\n",
    "    avg_ref_data_combined_cc_shift_phased = proc.phase_correct(avg_ref_data_combined_cc_shift, (4.55, 4.7), hlsvd=False)\n",
    "\n",
    "    # add meta data\n",
    "    doc = dict()\n",
    "    doc['Bvalue'] = 'B value in ms / mu m^2.'\n",
    "    doc['Delta'] = 'Diffusion gratient duration in ms.'\n",
    "    doc['DiffusionTime'] = 'Diffusion time in ms.'\n",
    "    doc['MixingTime'] = 'Mixing time in ms.'\n",
    "\n",
    "    ## add water reference meta data\n",
    "    meta_data = _read_header_file_info(f'{path_to_data}/{water_reference_seqeunce_number}/method',['Bvalue','Delta','DiffusionTime', 'MixingTime'],[])\n",
    "    for key in meta_data:\n",
    "        avg_ref_data_combined_cc_shift_phased.add_hdr_field(key, meta_data[key], doc=doc[key])\n",
    "\n",
    "    ## add metabolite meta data\n",
    "    for seq_number in range(min_seq_number,max_seq_number+1):\n",
    "        meta_data = _read_header_file_info(f'{path_to_data}/{seq_number}/method',['Bvalue','Delta','DiffusionTime', 'MixingTime'],[])\n",
    "        for key in meta_data:\n",
    "            data_combined_cc_shift_align_unlike_av_ecc_watersupp_refshift_phased[seq_number-min_seq_number].add_hdr_field(key, meta_data[key], doc=doc[key])\n",
    "\n",
    "    # SAVE DATA\n",
    "\n",
    "    ## create bids structure\n",
    "    bids_strc = create_bids_structure(subj=subject_name, sess=1, datatype='dmrs', root=path_to_data, \n",
    "                                            folderlevel='derivatives', workingdir='preprocessed')     \n",
    "\n",
    "    if not os.path.exists(bids_strc.get_path()):\n",
    "        os.makedirs(bids_strc.get_path())\n",
    "\n",
    "    for i,this_data in enumerate(data_combined_cc_shift_align_unlike_av_ecc_watersupp_refshift_phased):\n",
    "        this_data.save(bids_strc.get_path(f'seq_{min_seq_number+i}_dmrs.nii.gz'))\n",
    "    avg_ref_data_combined_cc_shift_phased.save(bids_strc.get_path(f'seq_{water_reference_seqeunce_number}_ref_dmrs.nii.gz'))\n",
    "    return \"All data preprocessed successfully.\""
   ],
   "outputs": [],
   "execution_count": 5
  },
  {
   "cell_type": "code",
   "id": "f9738578-edfd-41b8-af1a-93e3be5a45cf",
   "metadata": {
    "scrolled": true,
    "ExecuteTime": {
     "end_time": "2025-05-16T08:29:37.093506Z",
     "start_time": "2025-05-16T08:27:56.931958Z"
    }
   },
   "source": [
    "path_to_data='/media/localadmin/DATA/data/20250424/'\n",
    "water_reference_seqeunce_number = 41\n",
    "min_seq_number = 42\n",
    "max_seq_number = 62\n",
    "fixed_phase_shift =245\n",
    "preproc_SPECIAL(path_to_data, water_reference_seqeunce_number,min_seq_number,max_seq_number,fixed_phase_shift)"
   ],
   "outputs": [
    {
     "name": "stdout",
     "output_type": "stream",
     "text": [
      "You may not have enough samples to accurately estimate the noise covariance, 10^5 samples recommended.\n",
      "You may not have enough samples to accurately estimate the noise covariance, 10^5 samples recommended.\n",
      "You may not have enough samples to accurately estimate the noise covariance, 10^5 samples recommended.\n",
      "You may not have enough samples to accurately estimate the noise covariance, 10^5 samples recommended.\n",
      "You may not have enough samples to accurately estimate the noise covariance, 10^5 samples recommended.\n",
      "You may not have enough samples to accurately estimate the noise covariance, 10^5 samples recommended.\n",
      "You may not have enough samples to accurately estimate the noise covariance, 10^5 samples recommended.\n",
      "You may not have enough samples to accurately estimate the noise covariance, 10^5 samples recommended.\n",
      "You may not have enough samples to accurately estimate the noise covariance, 10^5 samples recommended.\n",
      "You may not have enough samples to accurately estimate the noise covariance, 10^5 samples recommended.\n",
      "You may not have enough samples to accurately estimate the noise covariance, 10^5 samples recommended.\n",
      "You may not have enough samples to accurately estimate the noise covariance, 10^5 samples recommended.\n",
      "You may not have enough samples to accurately estimate the noise covariance, 10^5 samples recommended.\n",
      "You may not have enough samples to accurately estimate the noise covariance, 10^5 samples recommended.\n",
      "You may not have enough samples to accurately estimate the noise covariance, 10^5 samples recommended.\n",
      "You may not have enough samples to accurately estimate the noise covariance, 10^5 samples recommended.\n",
      "You may not have enough samples to accurately estimate the noise covariance, 10^5 samples recommended.\n",
      "You may not have enough samples to accurately estimate the noise covariance, 10^5 samples recommended.\n",
      "You may not have enough samples to accurately estimate the noise covariance, 10^5 samples recommended.\n",
      "You may not have enough samples to accurately estimate the noise covariance, 10^5 samples recommended.\n",
      "You may not have enough samples to accurately estimate the noise covariance, 10^5 samples recommended.\n",
      "You may not have enough samples to accurately estimate the noise covariance, 10^5 samples recommended.\n",
      "You may not have enough samples to accurately estimate the noise covariance, 10^5 samples recommended.\n",
      "You may not have enough samples to accurately estimate the noise covariance, 10^5 samples recommended.\n",
      "You may not have enough samples to accurately estimate the noise covariance, 10^5 samples recommended.\n",
      "You may not have enough samples to accurately estimate the noise covariance, 10^5 samples recommended.\n",
      "You may not have enough samples to accurately estimate the noise covariance, 10^5 samples recommended.\n",
      "You may not have enough samples to accurately estimate the noise covariance, 10^5 samples recommended.\n",
      "You may not have enough samples to accurately estimate the noise covariance, 10^5 samples recommended.\n",
      "You may not have enough samples to accurately estimate the noise covariance, 10^5 samples recommended.\n",
      "You may not have enough samples to accurately estimate the noise covariance, 10^5 samples recommended.\n",
      "You may not have enough samples to accurately estimate the noise covariance, 10^5 samples recommended.\n",
      "You may not have enough samples to accurately estimate the noise covariance, 10^5 samples recommended.\n",
      "You may not have enough samples to accurately estimate the noise covariance, 10^5 samples recommended.\n",
      "You may not have enough samples to accurately estimate the noise covariance, 10^5 samples recommended.\n",
      "You may not have enough samples to accurately estimate the noise covariance, 10^5 samples recommended.\n",
      "You may not have enough samples to accurately estimate the noise covariance, 10^5 samples recommended.\n",
      "You may not have enough samples to accurately estimate the noise covariance, 10^5 samples recommended.\n",
      "You may not have enough samples to accurately estimate the noise covariance, 10^5 samples recommended.\n",
      "You may not have enough samples to accurately estimate the noise covariance, 10^5 samples recommended.\n",
      "You may not have enough samples to accurately estimate the noise covariance, 10^5 samples recommended.\n",
      "You may not have enough samples to accurately estimate the noise covariance, 10^5 samples recommended.\n",
      "You may not have enough samples to accurately estimate the noise covariance, 10^5 samples recommended.\n",
      "You may not have enough samples to accurately estimate the noise covariance, 10^5 samples recommended.\n",
      "Warning: We are adding two averages and not dividing by 2, maybe confusing quantification.\n",
      "Truncation etc needed? Double check Jessies script.\n"
     ]
    },
    {
     "data": {
      "text/plain": [
       "'All data preprocessed successfully.'"
      ]
     },
     "execution_count": 6,
     "metadata": {},
     "output_type": "execute_result"
    }
   ],
   "execution_count": 6
  },
  {
   "cell_type": "markdown",
   "id": "781ff3bd-4bf0-434c-9266-a3fac23c9318",
   "metadata": {},
   "source": [
    "## Combine data"
   ]
  },
  {
   "cell_type": "markdown",
   "id": "c4594515-0e46-4db6-948a-32430a86a53d",
   "metadata": {},
   "source": [
    "Create dict of sequence numbers for b values and mixing times TM"
   ]
  },
  {
   "cell_type": "markdown",
   "id": "b50dc35b-bf5a-4ffd-9083-94e7ce22f1c0",
   "metadata": {},
   "source": [
    "Read relevant MRS niftis"
   ]
  },
  {
   "cell_type": "code",
   "id": "e6dc8a78-32ae-43a1-8acd-0a0c159440cd",
   "metadata": {
    "ExecuteTime": {
     "end_time": "2025-05-16T08:29:57.530971Z",
     "start_time": "2025-05-16T08:29:57.441363Z"
    }
   },
   "source": [
    "bids_strc.get_path()"
   ],
   "outputs": [
    {
     "ename": "NameError",
     "evalue": "name 'bids_strc' is not defined",
     "output_type": "error",
     "traceback": [
      "\u001B[31m---------------------------------------------------------------------------\u001B[39m",
      "\u001B[31mNameError\u001B[39m                                 Traceback (most recent call last)",
      "\u001B[36mCell\u001B[39m\u001B[36m \u001B[39m\u001B[32mIn[7]\u001B[39m\u001B[32m, line 1\u001B[39m\n\u001B[32m----> \u001B[39m\u001B[32m1\u001B[39m \u001B[43mbids_strc\u001B[49m.get_path()\n",
      "\u001B[31mNameError\u001B[39m: name 'bids_strc' is not defined"
     ]
    }
   ],
   "execution_count": 7
  },
  {
   "cell_type": "code",
   "id": "c6e395e1-13e1-42db-a6a3-3163b71748e3",
   "metadata": {
    "ExecuteTime": {
     "end_time": "2025-05-16T08:30:03.059475Z",
     "start_time": "2025-05-16T08:30:03.044596Z"
    }
   },
   "source": [
    "subject_name = 'sub-01'\n",
    "ses_no = 1\n",
    "bids_strc = create_bids_structure(subj=subject_name, sess=ses_no, datatype='dmrs', root=path_to_data, \n",
    "                                            folderlevel='derivatives', workingdir='preprocessed')\n",
    "\n",
    "niftis = [mrs_io.read_FID(f'{bids_strc.get_path()}/{subject_name}_ses-0{ses_no}_seq_{seq_no}_dmrs.nii.gz') for seq_no in [42]+[i for i in range(min_seq_number,max_seq_number+1)]]"
   ],
   "outputs": [],
   "execution_count": 8
  },
  {
   "cell_type": "code",
   "id": "a00bac94-cce5-4449-9210-d1669e5b73db",
   "metadata": {
    "ExecuteTime": {
     "end_time": "2025-05-16T08:30:05.407905Z",
     "start_time": "2025-05-16T08:30:05.403929Z"
    }
   },
   "source": [
    "DiffusionTimes = np.unique([nifti.hdr_ext['DiffusionTime']['Value'] for nifti in niftis])"
   ],
   "outputs": [],
   "execution_count": 9
  },
  {
   "cell_type": "code",
   "id": "23e4d90b-bdf7-4df3-9092-214fee328b3b",
   "metadata": {
    "ExecuteTime": {
     "end_time": "2025-05-16T08:30:10.184051Z",
     "start_time": "2025-05-16T08:30:10.128262Z"
    }
   },
   "source": [
    "for DiffusionTime in DiffusionTimes:\n",
    "    these_niftis = []\n",
    "    bvals = []\n",
    "    for nifti in niftis:\n",
    "        if nifti.hdr_ext['DiffusionTime']['Value']==DiffusionTime:\n",
    "            nifti.set_dim_tag(4,'DIM_USER_0')\n",
    "            these_niftis.append(nifti)\n",
    "            bvals.append(nifti.hdr_ext['Bvalue']['Value'])\n",
    "    print(bvals)\n",
    "    nifti_dict = dict(zip(bvals,these_niftis ))\n",
    "    these_niftis_sorted = [nifti_dict[bval] for bval in sorted(bvals)]\n",
    "    big_nifti = ntools.merge(these_niftis_sorted,dimension=4)\n",
    "    big_nifti.set_dim_tag(\n",
    "    'DIM_USER_0',\n",
    "    'DIM_USER_0',\n",
    "    'b-value',\n",
    "    {'b_value': {'Value': sorted(bvals), 'Description': 'b-value in ms.μm^-2'}})\n",
    "    big_nifti.save(f'{bids_strc.get_path()}/{subject_name}_ses-0{ses_no}_TD_{int(DiffusionTime)}_dmrs.nii.gz')        "
   ],
   "outputs": [
    {
     "name": "stdout",
     "output_type": "stream",
     "text": [
      "[50, 50, 50, 15000, 4000, 22000, 1500]\n",
      "[50, 15000, 4000, 22000, 1500]\n",
      "[50, 15000, 4000, 22000, 1500]\n",
      "[50, 15000, 4000, 22000, 1500]\n"
     ]
    }
   ],
   "execution_count": 10
  },
  {
   "cell_type": "code",
   "id": "60a3053f-f969-4ca6-a282-1a3a050252ff",
   "metadata": {
    "ExecuteTime": {
     "end_time": "2025-05-16T08:30:19.960726Z",
     "start_time": "2025-05-16T08:30:19.832591Z"
    }
   },
   "source": [
    "niftis[0].plot()"
   ],
   "outputs": [
    {
     "data": {
      "text/plain": [
       "<Figure size 640x480 with 1 Axes>"
      ],
      "image/png": "[encoded data removed]"
     },
     "execution_count": 11,
     "metadata": {},
     "output_type": "execute_result"
    },
    {
     "data": {
      "text/plain": [
       "<Figure size 640x480 with 1 Axes>"
      ],
      "image/png": "[encoded data removed]"
     },
     "metadata": {},
     "output_type": "display_data"
    }
   ],
   "execution_count": 11
  },
  {
   "cell_type": "code",
   "execution_count": 91,
   "id": "54f62c9b-7e38-408c-aba7-b11ccc287c34",
   "metadata": {},
   "outputs": [
    {
     "data": {
      "text/plain": [
       "File sub-01_ses-01_seq_43_dmrs.nii.gz (/data/pt_02093/new_data_structure/CHUV/2025_04_24_dMR_S_I/20250424/derivatives/preprocessed/sub-01/ses-01/dmrs)\n",
       "NIfTI-MRS version 0.9\n",
       "Data shape (1, 1, 1, 4096, 1)\n",
       "Dimension tags: ['DIM_USER_0', None, None]\n",
       "Spectrometer Frequency: 400.263989952738 MHz\n",
       "Dwelltime (Spectral bandwidth): 2.000E-04 s (5000 Hz)\n",
       "Nucleus: 1H\n",
       "Field Strength: 9.40 T"
      ]
     },
     "execution_count": 91,
     "metadata": {},
     "output_type": "execute_result"
    }
   ],
   "source": [
    "nifti_dict[bvals[0]]"
   ]
  },
  {
   "cell_type": "code",
   "execution_count": 86,
   "id": "e71553c5-8989-4dad-afdc-2e17114f3c4d",
   "metadata": {},
   "outputs": [
    {
     "ename": "TypeError",
     "evalue": "'<' not supported between instances of 'NIFTI_MRS' and 'NIFTI_MRS'",
     "output_type": "error",
     "traceback": [
      "\u001B[0;31m---------------------------------------------------------------------------\u001B[0m",
      "\u001B[0;31mTypeError\u001B[0m                                 Traceback (most recent call last)",
      "Cell \u001B[0;32mIn[86], line 1\u001B[0m\n\u001B[0;32m----> 1\u001B[0m these_niftis_bvals \u001B[38;5;241m=\u001B[39m \u001B[38;5;28;43msorted\u001B[39;49m\u001B[43m(\u001B[49m\u001B[38;5;28;43mdict\u001B[39;49m\u001B[43m(\u001B[49m\u001B[38;5;28;43mzip\u001B[39;49m\u001B[43m(\u001B[49m\u001B[43mthese_niftis\u001B[49m\u001B[43m,\u001B[49m\u001B[43mbvals\u001B[49m\u001B[43m \u001B[49m\u001B[43m)\u001B[49m\u001B[43m)\u001B[49m\u001B[43m)\u001B[49m\n",
      "\u001B[0;31mTypeError\u001B[0m: '<' not supported between instances of 'NIFTI_MRS' and 'NIFTI_MRS'"
     ]
    }
   ],
   "source": [
    "these_niftis_bvals = sorted(dict(zip(these_niftis,bvals )))\n"
   ]
  },
  {
   "cell_type": "code",
   "execution_count": 81,
   "id": "d77e8812-486e-49ce-b625-51f3f648b673",
   "metadata": {},
   "outputs": [
    {
     "data": {
      "text/plain": [
       "[File sub-01_ses-01_seq_46_dmrs.nii.gz (/data/pt_02093/new_data_structure/CHUV/2025_04_24_dMR_S_I/20250424/derivatives/preprocessed/sub-01/ses-01/dmrs)\n",
       " NIfTI-MRS version 0.9\n",
       " Data shape (1, 1, 1, 4096, 1)\n",
       " Dimension tags: ['DIM_USER_0', None, None]\n",
       " Spectrometer Frequency: 400.263989952738 MHz\n",
       " Dwelltime (Spectral bandwidth): 2.000E-04 s (5000 Hz)\n",
       " Nucleus: 1H\n",
       " Field Strength: 9.40 T,\n",
       " File sub-01_ses-01_seq_62_dmrs.nii.gz (/data/pt_02093/new_data_structure/CHUV/2025_04_24_dMR_S_I/20250424/derivatives/preprocessed/sub-01/ses-01/dmrs)\n",
       " NIfTI-MRS version 0.9\n",
       " Data shape (1, 1, 1, 4096, 1)\n",
       " Dimension tags: ['DIM_USER_0', None, None]\n",
       " Spectrometer Frequency: 400.263989952738 MHz\n",
       " Dwelltime (Spectral bandwidth): 2.000E-04 s (5000 Hz)\n",
       " Nucleus: 1H\n",
       " Field Strength: 9.40 T,\n",
       " File sub-01_ses-01_seq_54_dmrs.nii.gz (/data/pt_02093/new_data_structure/CHUV/2025_04_24_dMR_S_I/20250424/derivatives/preprocessed/sub-01/ses-01/dmrs)\n",
       " NIfTI-MRS version 0.9\n",
       " Data shape (1, 1, 1, 4096, 1)\n",
       " Dimension tags: ['DIM_USER_0', None, None]\n",
       " Spectrometer Frequency: 400.263989952738 MHz\n",
       " Dwelltime (Spectral bandwidth): 2.000E-04 s (5000 Hz)\n",
       " Nucleus: 1H\n",
       " Field Strength: 9.40 T,\n",
       " File sub-01_ses-01_seq_50_dmrs.nii.gz (/data/pt_02093/new_data_structure/CHUV/2025_04_24_dMR_S_I/20250424/derivatives/preprocessed/sub-01/ses-01/dmrs)\n",
       " NIfTI-MRS version 0.9\n",
       " Data shape (1, 1, 1, 4096, 1)\n",
       " Dimension tags: ['DIM_USER_0', None, None]\n",
       " Spectrometer Frequency: 400.263989952738 MHz\n",
       " Dwelltime (Spectral bandwidth): 2.000E-04 s (5000 Hz)\n",
       " Nucleus: 1H\n",
       " Field Strength: 9.40 T,\n",
       " File sub-01_ses-01_seq_58_dmrs.nii.gz (/data/pt_02093/new_data_structure/CHUV/2025_04_24_dMR_S_I/20250424/derivatives/preprocessed/sub-01/ses-01/dmrs)\n",
       " NIfTI-MRS version 0.9\n",
       " Data shape (1, 1, 1, 4096, 1)\n",
       " Dimension tags: ['DIM_USER_0', None, None]\n",
       " Spectrometer Frequency: 400.263989952738 MHz\n",
       " Dwelltime (Spectral bandwidth): 2.000E-04 s (5000 Hz)\n",
       " Nucleus: 1H\n",
       " Field Strength: 9.40 T]"
      ]
     },
     "execution_count": 81,
     "metadata": {},
     "output_type": "execute_result"
    }
   ],
   "source": [
    "these_niftis_sorted"
   ]
  },
  {
   "cell_type": "code",
   "execution_count": 69,
   "id": "37dc7cf9-5860-4b7e-90b4-06cf8f36d0f8",
   "metadata": {},
   "outputs": [
    {
     "ename": "ValueError",
     "evalue": "File sub-01_ses-01_seq_46_dmrs.nii.gz (/data/pt_02093/new_data_structure/CHUV/2025_04_24_dMR_S_I/20250424/derivatives/preprocessed/sub-01/ses-01/dmrs)\nNIfTI-MRS version 0.9\nData shape (1, 1, 1, 4096, 1)\nDimension tags: ['DIM_USER_0', None, None]\nSpectrometer Frequency: 400.263989952738 MHz\nDwelltime (Spectral bandwidth): 2.000E-04 s (5000 Hz)\nNucleus: 1H\nField Strength: 9.40 T\n is not in list",
     "output_type": "error",
     "traceback": [
      "\u001B[0;31m---------------------------------------------------------------------------\u001B[0m",
      "\u001B[0;31mValueError\u001B[0m                                Traceback (most recent call last)",
      "Cell \u001B[0;32mIn[69], line 1\u001B[0m\n\u001B[0;32m----> 1\u001B[0m \u001B[38;5;28;43msorted\u001B[39;49m\u001B[43m(\u001B[49m\u001B[43mthese_niftis\u001B[49m\u001B[43m,\u001B[49m\u001B[43mkey\u001B[49m\u001B[43m \u001B[49m\u001B[38;5;241;43m=\u001B[39;49m\u001B[43m \u001B[49m\u001B[38;5;28;43;01mlambda\u001B[39;49;00m\u001B[43m \u001B[49m\u001B[43mx\u001B[49m\u001B[43m:\u001B[49m\u001B[43m \u001B[49m\u001B[43mbvals\u001B[49m\u001B[38;5;241;43m.\u001B[39;49m\u001B[43mindex\u001B[49m\u001B[43m(\u001B[49m\u001B[43mx\u001B[49m\u001B[43m)\u001B[49m\u001B[43m)\u001B[49m\n",
      "Cell \u001B[0;32mIn[69], line 1\u001B[0m, in \u001B[0;36m<lambda>\u001B[0;34m(x)\u001B[0m\n\u001B[0;32m----> 1\u001B[0m \u001B[38;5;28msorted\u001B[39m(these_niftis,key \u001B[38;5;241m=\u001B[39m \u001B[38;5;28;01mlambda\u001B[39;00m x: \u001B[43mbvals\u001B[49m\u001B[38;5;241;43m.\u001B[39;49m\u001B[43mindex\u001B[49m\u001B[43m(\u001B[49m\u001B[43mx\u001B[49m\u001B[43m)\u001B[49m)\n",
      "\u001B[0;31mValueError\u001B[0m: File sub-01_ses-01_seq_46_dmrs.nii.gz (/data/pt_02093/new_data_structure/CHUV/2025_04_24_dMR_S_I/20250424/derivatives/preprocessed/sub-01/ses-01/dmrs)\nNIfTI-MRS version 0.9\nData shape (1, 1, 1, 4096, 1)\nDimension tags: ['DIM_USER_0', None, None]\nSpectrometer Frequency: 400.263989952738 MHz\nDwelltime (Spectral bandwidth): 2.000E-04 s (5000 Hz)\nNucleus: 1H\nField Strength: 9.40 T\n is not in list"
     ]
    }
   ],
   "source": [
    "sorted(these_niftis,key = lambda x: bvals.index(x))"
   ]
  },
  {
   "cell_type": "code",
   "execution_count": 64,
   "id": "7f66e73c-7626-49a9-8f87-05765dfa0831",
   "metadata": {},
   "outputs": [
    {
     "data": {
      "text/plain": [
       "NIfTI-MRS version 0.9\n",
       "Data shape (1, 1, 1, 4096, 5)\n",
       "Dimension tags: ['DIM_USER_0', None, None]\n",
       "Spectrometer Frequency: 400.263989952738 MHz\n",
       "Dwelltime (Spectral bandwidth): 2.000E-04 s (5000 Hz)\n",
       "Nucleus: 1H\n",
       "Field Strength: 9.40 T"
      ]
     },
     "execution_count": 64,
     "metadata": {},
     "output_type": "execute_result"
    }
   ],
   "source": [
    "testnifti"
   ]
  },
  {
   "cell_type": "markdown",
   "id": "c02f7b4d-2dcc-4a6a-a3cd-64289f25af62",
   "metadata": {},
   "source": [
    "# LATER: USE EPFL COIL COMBINE instead of water reference peak. "
   ]
  },
  {
   "cell_type": "markdown",
   "id": "f016cef6-a32e-4370-bf6a-9cfa0a5db391",
   "metadata": {},
   "source": [
    "## Get SPECIAL rephasing into nifti read"
   ]
  },
  {
   "cell_type": "code",
   "execution_count": 386,
   "id": "e832a169-c845-4a24-aac8-ab703f1de323",
   "metadata": {},
   "outputs": [],
   "source": [
    "def _read_header_file_info(file_path, keys_single, keys_array):\n",
    "    \"\"\"Read information from the method file\n",
    "\n",
    "    :param file_path: path to the header file\n",
    "    :type file_path: str or pathlib.Path\n",
    "    :param keys_single: List of header keys that are a single value\n",
    "    :type keys_single: list of str\n",
    "    :param keys_array: List of header keys that have array values\n",
    "    :type keys_array: list of str\n",
    "    :return: Dict containing the information\n",
    "    :rtype: dict\n",
    "    \"\"\"\n",
    "    re_searches = [re.compile(fr'({x})\\=(\\d+)') for x in keys_single]\n",
    "    re_searches2 = [re.compile(fr'({x})\\=\\((\\s?\\d+\\s?)\\)') for x in keys_array]\n",
    "\n",
    "    with open(file_path) as fp:\n",
    "        methodlines = fp.readlines()\n",
    "\n",
    "    method_values = {}\n",
    "    for line in methodlines:\n",
    "        for re_ptrn in re_searches:\n",
    "            match = re.search(re_ptrn, line)\n",
    "            if match:\n",
    "                method_values[match[1]] = int(match[2])\n",
    "\n",
    "    # For array values that occur on the line after\n",
    "    for idx, line in enumerate(methodlines):\n",
    "        for re_ptrn in re_searches2:\n",
    "            match = re.search(re_ptrn, line)\n",
    "            if match:\n",
    "                method_values[match[1]] = np.array(\n",
    "                    methodlines[idx+1].split(' ')).astype('float')\n",
    "\n",
    "    return method_values\n"
   ]
  },
  {
   "cell_type": "code",
   "execution_count": 124,
   "id": "0c32e7d1-155f-45e0-b567-490dcf32bda0",
   "metadata": {},
   "outputs": [],
   "source": [
    "BRUKERparamnames=[\"PVM_ArrayPhase\", \n",
    "                  \"PVM_EncChanScaling\"];"
   ]
  },
  {
   "cell_type": "code",
   "execution_count": 125,
   "id": "8d5cf230-d4e0-4fa8-8f3a-8e59daf84b30",
   "metadata": {},
   "outputs": [],
   "source": [
    "hdr = _read_header_file_info(f'{path_to_data}/{water_reference_seqeunce_number}/method',[],BRUKERparamnames)"
   ]
  },
  {
   "cell_type": "code",
   "execution_count": 126,
   "id": "a508bb38-80e7-487e-af1f-552b8bea9612",
   "metadata": {},
   "outputs": [],
   "source": [
    "rxarrayphases = hdr['PVM_ArrayPhase']\n",
    "scalingloops = hdr['PVM_EncChanScaling']"
   ]
  },
  {
   "cell_type": "code",
   "execution_count": 27,
   "id": "f642ac09-e82c-4e77-ab66-1a7844782b1b",
   "metadata": {},
   "outputs": [],
   "source": [
    "nbtsfid = 4096\n",
    "nloops = 4\n",
    "\n",
    "raw_data_coil_rep = []\n",
    "for coil in range(nloops):\n",
    "    raw_data_coil_rep.append([])\n",
    "    for avrep in range(8):\n",
    "        this_raw = raw_data[(avrep*nbtsfid*2*nloops + coil * nbtsfid*2):(avrep*nbtsfid*2*nloops + coil * nbtsfid*2 + 2*nbtsfid)]\n",
    "        this_raw_cmplx = this_raw[::2] + 1j*this_raw[1::2]\n",
    "        raw_data_coil_rep[coil].append(this_raw_cmplx)\n",
    "raw_data_coil_rep = np.array(raw_data_coil_rep)"
   ]
  },
  {
   "cell_type": "code",
   "execution_count": null,
   "id": "2f3b776f-c4a2-414b-84e5-e7f54bf154cb",
   "metadata": {},
   "outputs": [],
   "source": [
    "fid_comb_re=zeros(study.nav*study.nrep,nbptsfid);\n",
    "fid_comb_im=zeros(study.nav*study.nrep,nbptsfid);\n",
    "\n",
    "fid_reorganized_rephased_re=zeros(nloops,study.nav*study.nrep,nbptsfid);\n",
    "fid_reorganized_rephased_im=zeros(nloops,study.nav*study.nrep,nbptsfid);\n",
    "\n",
    "for coil=1:nloops\n",
    "    fid_comb_re=fid_comb_re + ...\n",
    "                    (squeeze(real(fid_reorganized(coil,:,:))).*cos(rxarrayphases(coil)/180*pi) ... \n",
    "                    -squeeze(imag(fid_reorganized(coil,:,:))).*sin(rxarrayphases(coil)/180*pi)).*scalingloops(coil);\n",
    "\n",
    "    fid_reorganized_rephased_re(coil,:,:)=(squeeze(real(fid_reorganized(coil,:,:))).*cos(rxarrayphases(coil)/180*pi) ... \n",
    "                    -squeeze(imag(fid_reorganized(coil,:,:))).*sin(rxarrayphases(coil)/180*pi)).*scalingloops(coil);\n",
    "\n",
    "    fid_comb_im= fid_comb_im+ ...\n",
    "                    (squeeze(real(fid_reorganized(coil,:,:))).*sin(rxarrayphases(coil)/180*pi) ... \n",
    "                    +squeeze(imag(fid_reorganized(coil,:,:))).*cos(rxarrayphases(coil)/180*pi)).*scalingloops(coil);\n",
    "\n",
    "    fid_reorganized_rephased_im(coil,:,:)=(squeeze(real(fid_reorganized(coil,:,:))).*sin(rxarrayphases(coil)/180*pi) ... \n",
    "                    +squeeze(imag(fid_reorganized(coil,:,:))).*cos(rxarrayphases(coil)/180*pi)).*scalingloops(coil);\n",
    "end \n"
   ]
  },
  {
   "cell_type": "code",
   "execution_count": 39,
   "id": "3979d47c-e4ae-4ea6-883e-9f79d420af5c",
   "metadata": {},
   "outputs": [
    {
     "data": {
      "text/plain": [
       "[<matplotlib.lines.Line2D at 0x7fdf90007020>]"
      ]
     },
     "execution_count": 39,
     "metadata": {},
     "output_type": "execute_result"
    },
    {
     "data": {
      "image/png": "[encoded data removed]",
      "text/plain": [
       "<Figure size 640x480 with 1 Axes>"
      ]
     },
     "metadata": {},
     "output_type": "display_data"
    }
   ],
   "source": [
    "plt.plot(np.absolute(raw_data_coil_rep[0,3,:]))"
   ]
  },
  {
   "cell_type": "code",
   "execution_count": null,
   "id": "c64609c5-5a5f-42d9-a65a-ab8d21c2a8d2",
   "metadata": {},
   "outputs": [],
   "source": []
  },
  {
   "cell_type": "code",
   "execution_count": 151,
   "id": "5118f617-9c1c-427f-b26e-99b090a3c646",
   "metadata": {},
   "outputs": [],
   "source": [
    "matdata = loadmat('/data/pt_02093/new_data_structure/CHUV/2025_04_24_dMR_S_I/20250424/Bruker_2025-04-24_41_Toi_check_fidrefscan.mat')"
   ]
  },
  {
   "cell_type": "code",
   "execution_count": 152,
   "id": "15dd4b29-679c-49b9-8741-cb0ba1ed15ec",
   "metadata": {},
   "outputs": [
    {
     "data": {
      "text/plain": [
       "[<matplotlib.lines.Line2D at 0x7fdf8ec8ed80>]"
      ]
     },
     "execution_count": 152,
     "metadata": {},
     "output_type": "execute_result"
    },
    {
     "data": {
      "image/png": "[encoded data removed]",
      "text/plain": [
       "<Figure size 640x480 with 1 Axes>"
      ]
     },
     "metadata": {},
     "output_type": "display_data"
    }
   ],
   "source": [
    "plt.plot(matdata['study'][0]['data'][0]['real'][0][0][0,0])"
   ]
  },
  {
   "cell_type": "code",
   "execution_count": 153,
   "id": "0c70a522-bd31-40a7-8807-e78a028abcc9",
   "metadata": {},
   "outputs": [
    {
     "data": {
      "text/plain": [
       "[<matplotlib.lines.Line2D at 0x7fdf8f78d520>]"
      ]
     },
     "execution_count": 153,
     "metadata": {},
     "output_type": "execute_result"
    },
    {
     "data": {
      "image/png": "[encoded data removed]",
      "text/plain": [
       "<Figure size 640x480 with 1 Axes>"
      ]
     },
     "metadata": {},
     "output_type": "display_data"
    }
   ],
   "source": [
    "plt.plot(matdata['study'][0]['data'][0]['imag'][0][0][0,0])"
   ]
  },
  {
   "cell_type": "code",
   "execution_count": 161,
   "id": "507fedc2-c9ac-4db8-af4f-d6b08b9c5442",
   "metadata": {},
   "outputs": [
    {
     "data": {
      "text/plain": [
       "(1, 1, 4096)"
      ]
     },
     "execution_count": 161,
     "metadata": {},
     "output_type": "execute_result"
    }
   ],
   "source": [
    "matdata['study'][0]['data'][0]['real'][0][0].shape"
   ]
  },
  {
   "cell_type": "code",
   "execution_count": 162,
   "id": "3a244a1b-46c4-452a-b53f-86c2d26a7f10",
   "metadata": {},
   "outputs": [],
   "source": [
    "cmplx = matdata['study'][0]['data'][0]['imag'][0][0][:,0]+matdata['study'][0]['data'][0]['real'][0][0][:,0]"
   ]
  },
  {
   "cell_type": "code",
   "execution_count": null,
   "id": "2d35de00-122f-4d4a-a77d-dc7c7c74b47c",
   "metadata": {},
   "outputs": [],
   "source": []
  },
  {
   "cell_type": "code",
   "execution_count": 163,
   "id": "bddaa126-eb01-4635-813f-00c14e68f2be",
   "metadata": {},
   "outputs": [],
   "source": [
    "absolute = np.absolute(cmplx)"
   ]
  },
  {
   "cell_type": "code",
   "execution_count": 243,
   "id": "6280b309-223f-4a87-a509-11e163668b25",
   "metadata": {},
   "outputs": [],
   "source": [
    "raw_data_cmplx = (raw_data[0::2] + 1j * raw_data[1::2])/2"
   ]
  },
  {
   "cell_type": "code",
   "execution_count": 250,
   "id": "fd3d4865-c716-45cc-9498-731a1f832a66",
   "metadata": {},
   "outputs": [
    {
     "data": {
      "text/plain": [
       "[<matplotlib.lines.Line2D at 0x7fc2fbb9c590>]"
      ]
     },
     "execution_count": 250,
     "metadata": {},
     "output_type": "execute_result"
    },
    {
     "data": {
      "image/png": "[encoded data removed]",
      "text/plain": [
       "<Figure size 640x480 with 1 Axes>"
      ]
     },
     "metadata": {},
     "output_type": "display_data"
    }
   ],
   "source": [
    "for i in range(8,12):\n",
    "    plt.plot(np.absolute(raw_data_cmplx[i*4096:(i+1)*4096]))\n",
    "\n",
    "plt.plot(np.sqrt(matdata['study'][0]['data'][0]['imag'][0][0][0,0]**2+matdata['study'][0]['data'][0]['real'][0][0][0,0]**2)*3000)"
   ]
  },
  {
   "cell_type": "code",
   "execution_count": 208,
   "id": "b6407551-b6ea-4239-a6f0-2557963f3ccf",
   "metadata": {},
   "outputs": [
    {
     "data": {
      "image/png": "[encoded data removed]",
      "text/plain": [
       "<Figure size 640x480 with 1 Axes>"
      ]
     },
     "metadata": {},
     "output_type": "display_data"
    }
   ],
   "source": [
    "for i in range(4,8):\n",
    "    plt.plot(np.absolute(raw_data_cmplx[i*4096:(i+1)*4096]))\n",
    "for i in range(12,16):\n",
    "    plt.plot(np.absolute(raw_data_cmplx[i*4096:(i+1)*4096]))\n",
    "for i in range(20,24):\n",
    "    plt.plot(np.absolute(raw_data_cmplx[i*4096:(i+1)*4096]))\n"
   ]
  },
  {
   "cell_type": "markdown",
   "id": "c56945a4-2498-4484-8935-1bf93f5eea94",
   "metadata": {},
   "source": [
    "# Old and not working"
   ]
  },
  {
   "cell_type": "code",
   "execution_count": 16,
   "id": "451ae987-bdd4-4b42-9690-7135a4e5c466",
   "metadata": {},
   "outputs": [],
   "source": [
    "data_nii_path = f'{path_to_data}/{seqeunce_number}/rawdata_nifti.nii.gz'\n",
    "water_nii_path = f'{path_to_data}/{water_reference_seqeunce_number}/rawdata_nifti.nii.gz'"
   ]
  },
  {
   "cell_type": "code",
   "execution_count": 30,
   "id": "b2d7e657-bc17-4a36-94fb-1bfefa9a0ff7",
   "metadata": {},
   "outputs": [
    {
     "data": {
      "text/plain": [
       "'/data/pt_02093/new_data_structure/CHUV/2025_04_24_dMR_S_I/20250424/51/rawdata_nifti.nii.gz'"
      ]
     },
     "execution_count": 30,
     "metadata": {},
     "output_type": "execute_result"
    }
   ],
   "source": [
    "data_nii_path"
   ]
  },
  {
   "cell_type": "code",
   "execution_count": 29,
   "id": "394baa6c-50b2-451c-be73-6c598b390e4d",
   "metadata": {},
   "outputs": [
    {
     "name": "stdout",
     "output_type": "stream",
     "text": [
      "Performing coil combination\n",
      "/software/fsl/6.0.7.11/debian-bullseye-amd64/lib/python3.11/site-packages/fsl_mrs/utils/preproc/combine.py:48: UserWarning:\n",
      "\n",
      "You may not have enough samples to accurately estimate the noise covariance, 10^5 samples recommended.\n",
      "\n",
      "Averaging DIM_DYN\n",
      "Figure(640x480)\n"
     ]
    }
   ],
   "source": [
    "!mrs_tools vis $water_nii_path"
   ]
  },
  {
   "cell_type": "code",
   "execution_count": 18,
   "id": "d9bebf26-41f9-4206-9323-ac47b8707a5a",
   "metadata": {},
   "outputs": [
    {
     "name": "stdout",
     "output_type": "stream",
     "text": [
      "/software/fsl/6.0.7.11/debian-bullseye-amd64/lib/python3.11/site-packages/fsl_mrs/utils/preproc/combine.py:48: UserWarning:\n",
      "\n",
      "You may not have enough samples to accurately estimate the noise covariance, 10^5 samples recommended.\n",
      "\n",
      "Traceback (most recent call last):\n",
      "  File \"/software/fsl/6.0.7.11/debian-bookworm-amd64/bin/fsl_mrs_preproc\", line 10, in <module>\n",
      "    sys.exit(main())\n",
      "             ^^^^^^\n",
      "  File \"/software/fsl/6.0.7.11/debian-bullseye-amd64/lib/python3.11/site-packages/fsl_mrs/scripts/fsl_mrs_preproc.py\", line 240, in main\n",
      "    supp_data = nifti_mrs_proc.coilcombine(\n",
      "                ^^^^^^^^^^^^^^^^^^^^^^^^^^^\n",
      "  File \"/software/fsl/6.0.7.11/debian-bullseye-amd64/lib/python3.11/site-packages/fsl_mrs/utils/preproc/nifti_mrs_proc.py\", line 134, in coilcombine\n",
      "    _, ref_weights[idx_no_t], _ = preproc.combine_FIDs(\n",
      "       ~~~~~~~~~~~^^^^^^^^^^\n",
      "ValueError: could not broadcast input array from shape (4,) into shape (4,1)\n"
     ]
    }
   ],
   "source": [
    "!fsl_mrs_preproc --output output/ --data $data_nii_path --reference $water_nii_path --report"
   ]
  },
  {
   "cell_type": "code",
   "execution_count": 15,
   "id": "d4a48f10-9d7e-4f0b-ae76-998396bdddc4",
   "metadata": {},
   "outputs": [
    {
     "name": "stdout",
     "output_type": "stream",
     "text": [
      "--output output/ --data /data/pt_02093/new_data_structure/CHUV/2025_04_24_dMR_S_I/20250424/51/rawdata_nifti.nii.gz\n"
     ]
    }
   ],
   "source": [
    "!echo --output output/ --data $data_nii_path"
   ]
  },
  {
   "cell_type": "code",
   "execution_count": 44,
   "id": "83c8dd4b-ff94-4083-9bf4-5c680e8bf28f",
   "metadata": {},
   "outputs": [],
   "source": [
    "import os, subprocess\n",
    "import brukerapi\n",
    "from brukerapi.folders import Study\n",
    "from brukerapi.dataset import Dataset\n",
    "from matplotlib import pyplot as plt\n",
    "import spec2nii as s2n\n",
    "from spec2nii import bruker as b2n\n",
    "from spec2nii.spec2nii import main, spec2nii"
   ]
  },
  {
   "cell_type": "code",
   "execution_count": 24,
   "id": "e96a39bb-cff9-4c0d-9fb4-a60e4a9baf9d",
   "metadata": {},
   "outputs": [
    {
     "data": {
      "text/plain": [
       "<module 'brukerapi' from '/data/u_mbrammerloh_diss/tools/anaconda3/lib/python3.12/site-packages/brukerapi/__init__.py'>"
      ]
     },
     "execution_count": 24,
     "metadata": {},
     "output_type": "execute_result"
    }
   ],
   "source": [
    "brukerapi"
   ]
  },
  {
   "cell_type": "code",
   "execution_count": 4,
   "id": "364737e9-3a3d-4613-a588-73d9eb8d77b9",
   "metadata": {
    "scrolled": true
   },
   "outputs": [
    {
     "ename": "FileNotFoundError",
     "evalue": "[Errno 2] No such file or directory: './spec2nii bruker -m FID '",
     "output_type": "error",
     "traceback": [
      "\u001B[0;31m---------------------------------------------------------------------------\u001B[0m",
      "\u001B[0;31mFileNotFoundError\u001B[0m                         Traceback (most recent call last)",
      "Cell \u001B[0;32mIn[4], line 2\u001B[0m\n\u001B[1;32m      1\u001B[0m spec2nii_command \u001B[38;5;241m=\u001B[39m \u001B[38;5;124m\"\u001B[39m\u001B[38;5;124m./spec2nii bruker -m FID \u001B[39m\u001B[38;5;124m\"\u001B[39m\n\u001B[0;32m----> 2\u001B[0m \u001B[43msubprocess\u001B[49m\u001B[38;5;241;43m.\u001B[39;49m\u001B[43mcall\u001B[49m\u001B[43m(\u001B[49m\u001B[43mspec2nii_command\u001B[49m\u001B[43m)\u001B[49m\n",
      "File \u001B[0;32m/data/u_mbrammerloh_diss/tools/anaconda3/lib/python3.12/subprocess.py:389\u001B[0m, in \u001B[0;36mcall\u001B[0;34m(timeout, *popenargs, **kwargs)\u001B[0m\n\u001B[1;32m    381\u001B[0m \u001B[38;5;28;01mdef\u001B[39;00m \u001B[38;5;21mcall\u001B[39m(\u001B[38;5;241m*\u001B[39mpopenargs, timeout\u001B[38;5;241m=\u001B[39m\u001B[38;5;28;01mNone\u001B[39;00m, \u001B[38;5;241m*\u001B[39m\u001B[38;5;241m*\u001B[39mkwargs):\n\u001B[1;32m    382\u001B[0m \u001B[38;5;250m    \u001B[39m\u001B[38;5;124;03m\"\"\"Run command with arguments.  Wait for command to complete or\u001B[39;00m\n\u001B[1;32m    383\u001B[0m \u001B[38;5;124;03m    timeout, then return the returncode attribute.\u001B[39;00m\n\u001B[1;32m    384\u001B[0m \n\u001B[0;32m   (...)\u001B[0m\n\u001B[1;32m    387\u001B[0m \u001B[38;5;124;03m    retcode = call([\"ls\", \"-l\"])\u001B[39;00m\n\u001B[1;32m    388\u001B[0m \u001B[38;5;124;03m    \"\"\"\u001B[39;00m\n\u001B[0;32m--> 389\u001B[0m     \u001B[38;5;28;01mwith\u001B[39;00m \u001B[43mPopen\u001B[49m\u001B[43m(\u001B[49m\u001B[38;5;241;43m*\u001B[39;49m\u001B[43mpopenargs\u001B[49m\u001B[43m,\u001B[49m\u001B[43m \u001B[49m\u001B[38;5;241;43m*\u001B[39;49m\u001B[38;5;241;43m*\u001B[39;49m\u001B[43mkwargs\u001B[49m\u001B[43m)\u001B[49m \u001B[38;5;28;01mas\u001B[39;00m p:\n\u001B[1;32m    390\u001B[0m         \u001B[38;5;28;01mtry\u001B[39;00m:\n\u001B[1;32m    391\u001B[0m             \u001B[38;5;28;01mreturn\u001B[39;00m p\u001B[38;5;241m.\u001B[39mwait(timeout\u001B[38;5;241m=\u001B[39mtimeout)\n",
      "File \u001B[0;32m/data/u_mbrammerloh_diss/tools/anaconda3/lib/python3.12/subprocess.py:1026\u001B[0m, in \u001B[0;36mPopen.__init__\u001B[0;34m(self, args, bufsize, executable, stdin, stdout, stderr, preexec_fn, close_fds, shell, cwd, env, universal_newlines, startupinfo, creationflags, restore_signals, start_new_session, pass_fds, user, group, extra_groups, encoding, errors, text, umask, pipesize, process_group)\u001B[0m\n\u001B[1;32m   1022\u001B[0m         \u001B[38;5;28;01mif\u001B[39;00m \u001B[38;5;28mself\u001B[39m\u001B[38;5;241m.\u001B[39mtext_mode:\n\u001B[1;32m   1023\u001B[0m             \u001B[38;5;28mself\u001B[39m\u001B[38;5;241m.\u001B[39mstderr \u001B[38;5;241m=\u001B[39m io\u001B[38;5;241m.\u001B[39mTextIOWrapper(\u001B[38;5;28mself\u001B[39m\u001B[38;5;241m.\u001B[39mstderr,\n\u001B[1;32m   1024\u001B[0m                     encoding\u001B[38;5;241m=\u001B[39mencoding, errors\u001B[38;5;241m=\u001B[39merrors)\n\u001B[0;32m-> 1026\u001B[0m     \u001B[38;5;28;43mself\u001B[39;49m\u001B[38;5;241;43m.\u001B[39;49m\u001B[43m_execute_child\u001B[49m\u001B[43m(\u001B[49m\u001B[43margs\u001B[49m\u001B[43m,\u001B[49m\u001B[43m \u001B[49m\u001B[43mexecutable\u001B[49m\u001B[43m,\u001B[49m\u001B[43m \u001B[49m\u001B[43mpreexec_fn\u001B[49m\u001B[43m,\u001B[49m\u001B[43m \u001B[49m\u001B[43mclose_fds\u001B[49m\u001B[43m,\u001B[49m\n\u001B[1;32m   1027\u001B[0m \u001B[43m                        \u001B[49m\u001B[43mpass_fds\u001B[49m\u001B[43m,\u001B[49m\u001B[43m \u001B[49m\u001B[43mcwd\u001B[49m\u001B[43m,\u001B[49m\u001B[43m \u001B[49m\u001B[43menv\u001B[49m\u001B[43m,\u001B[49m\n\u001B[1;32m   1028\u001B[0m \u001B[43m                        \u001B[49m\u001B[43mstartupinfo\u001B[49m\u001B[43m,\u001B[49m\u001B[43m \u001B[49m\u001B[43mcreationflags\u001B[49m\u001B[43m,\u001B[49m\u001B[43m \u001B[49m\u001B[43mshell\u001B[49m\u001B[43m,\u001B[49m\n\u001B[1;32m   1029\u001B[0m \u001B[43m                        \u001B[49m\u001B[43mp2cread\u001B[49m\u001B[43m,\u001B[49m\u001B[43m \u001B[49m\u001B[43mp2cwrite\u001B[49m\u001B[43m,\u001B[49m\n\u001B[1;32m   1030\u001B[0m \u001B[43m                        \u001B[49m\u001B[43mc2pread\u001B[49m\u001B[43m,\u001B[49m\u001B[43m \u001B[49m\u001B[43mc2pwrite\u001B[49m\u001B[43m,\u001B[49m\n\u001B[1;32m   1031\u001B[0m \u001B[43m                        \u001B[49m\u001B[43merrread\u001B[49m\u001B[43m,\u001B[49m\u001B[43m \u001B[49m\u001B[43merrwrite\u001B[49m\u001B[43m,\u001B[49m\n\u001B[1;32m   1032\u001B[0m \u001B[43m                        \u001B[49m\u001B[43mrestore_signals\u001B[49m\u001B[43m,\u001B[49m\n\u001B[1;32m   1033\u001B[0m \u001B[43m                        \u001B[49m\u001B[43mgid\u001B[49m\u001B[43m,\u001B[49m\u001B[43m \u001B[49m\u001B[43mgids\u001B[49m\u001B[43m,\u001B[49m\u001B[43m \u001B[49m\u001B[43muid\u001B[49m\u001B[43m,\u001B[49m\u001B[43m \u001B[49m\u001B[43mumask\u001B[49m\u001B[43m,\u001B[49m\n\u001B[1;32m   1034\u001B[0m \u001B[43m                        \u001B[49m\u001B[43mstart_new_session\u001B[49m\u001B[43m,\u001B[49m\u001B[43m \u001B[49m\u001B[43mprocess_group\u001B[49m\u001B[43m)\u001B[49m\n\u001B[1;32m   1035\u001B[0m \u001B[38;5;28;01mexcept\u001B[39;00m:\n\u001B[1;32m   1036\u001B[0m     \u001B[38;5;66;03m# Cleanup if the child failed starting.\u001B[39;00m\n\u001B[1;32m   1037\u001B[0m     \u001B[38;5;28;01mfor\u001B[39;00m f \u001B[38;5;129;01min\u001B[39;00m \u001B[38;5;28mfilter\u001B[39m(\u001B[38;5;28;01mNone\u001B[39;00m, (\u001B[38;5;28mself\u001B[39m\u001B[38;5;241m.\u001B[39mstdin, \u001B[38;5;28mself\u001B[39m\u001B[38;5;241m.\u001B[39mstdout, \u001B[38;5;28mself\u001B[39m\u001B[38;5;241m.\u001B[39mstderr)):\n",
      "File \u001B[0;32m/data/u_mbrammerloh_diss/tools/anaconda3/lib/python3.12/subprocess.py:1955\u001B[0m, in \u001B[0;36mPopen._execute_child\u001B[0;34m(self, args, executable, preexec_fn, close_fds, pass_fds, cwd, env, startupinfo, creationflags, shell, p2cread, p2cwrite, c2pread, c2pwrite, errread, errwrite, restore_signals, gid, gids, uid, umask, start_new_session, process_group)\u001B[0m\n\u001B[1;32m   1953\u001B[0m     err_msg \u001B[38;5;241m=\u001B[39m os\u001B[38;5;241m.\u001B[39mstrerror(errno_num)\n\u001B[1;32m   1954\u001B[0m \u001B[38;5;28;01mif\u001B[39;00m err_filename \u001B[38;5;129;01mis\u001B[39;00m \u001B[38;5;129;01mnot\u001B[39;00m \u001B[38;5;28;01mNone\u001B[39;00m:\n\u001B[0;32m-> 1955\u001B[0m     \u001B[38;5;28;01mraise\u001B[39;00m child_exception_type(errno_num, err_msg, err_filename)\n\u001B[1;32m   1956\u001B[0m \u001B[38;5;28;01melse\u001B[39;00m:\n\u001B[1;32m   1957\u001B[0m     \u001B[38;5;28;01mraise\u001B[39;00m child_exception_type(errno_num, err_msg)\n",
      "\u001B[0;31mFileNotFoundError\u001B[0m: [Errno 2] No such file or directory: './spec2nii bruker -m FID '"
     ]
    }
   ],
   "source": [
    "spec2nii_command = \"./spec2nii bruker -m FID \"\n",
    "subprocess.call(spec2nii_command)"
   ]
  },
  {
   "cell_type": "code",
   "execution_count": 112,
   "id": "d03a2215-0118-497a-8a5b-330620d07b36",
   "metadata": {},
   "outputs": [
    {
     "ename": "ZeroDivisionError",
     "evalue": "float division by zero",
     "output_type": "error",
     "traceback": [
      "\u001B[0;31m---------------------------------------------------------------------------\u001B[0m",
      "\u001B[0;31mZeroDivisionError\u001B[0m                         Traceback (most recent call last)",
      "Cell \u001B[0;32mIn[112], line 1\u001B[0m\n\u001B[0;32m----> 1\u001B[0m study \u001B[38;5;241m=\u001B[39m \u001B[43mDataset\u001B[49m\u001B[43m(\u001B[49m\u001B[38;5;124;43m'\u001B[39;49m\u001B[38;5;124;43m/data/pt_02093/new_data_structure/CHUV/2025_04_24_dMR_S_I/20250424/47/fid\u001B[39;49m\u001B[38;5;124;43m'\u001B[39;49m\u001B[43m)\u001B[49m\n",
      "File \u001B[0;32m/data/u_mbrammerloh_diss/tools/anaconda3/lib/python3.12/site-packages/brukerapi/dataset.py:190\u001B[0m, in \u001B[0;36mDataset.__init__\u001B[0;34m(self, path, **state)\u001B[0m\n\u001B[1;32m    187\u001B[0m \u001B[38;5;28mself\u001B[39m\u001B[38;5;241m.\u001B[39m_validate()\n\u001B[1;32m    189\u001B[0m \u001B[38;5;66;03m# load data if the load kwarg is true\u001B[39;00m\n\u001B[0;32m--> 190\u001B[0m \u001B[38;5;28;43mself\u001B[39;49m\u001B[38;5;241;43m.\u001B[39;49m\u001B[43mload\u001B[49m\u001B[43m(\u001B[49m\u001B[43m)\u001B[49m\n",
      "File \u001B[0;32m/data/u_mbrammerloh_diss/tools/anaconda3/lib/python3.12/site-packages/brukerapi/dataset.py:264\u001B[0m, in \u001B[0;36mDataset.load\u001B[0;34m(self)\u001B[0m\n\u001B[1;32m    260\u001B[0m \u001B[38;5;28mself\u001B[39m\u001B[38;5;241m.\u001B[39mload_parameters()\n\u001B[1;32m    262\u001B[0m \u001B[38;5;28;01mif\u001B[39;00m \u001B[38;5;28mself\u001B[39m\u001B[38;5;241m.\u001B[39m_state[\u001B[38;5;124m'\u001B[39m\u001B[38;5;124mload\u001B[39m\u001B[38;5;124m'\u001B[39m] \u001B[38;5;129;01mis\u001B[39;00m LOAD_STAGES[\u001B[38;5;124m'\u001B[39m\u001B[38;5;124mparameters\u001B[39m\u001B[38;5;124m'\u001B[39m]: \u001B[38;5;28;01mreturn\u001B[39;00m\n\u001B[0;32m--> 264\u001B[0m \u001B[38;5;28;43mself\u001B[39;49m\u001B[38;5;241;43m.\u001B[39;49m\u001B[43mload_properties\u001B[49m\u001B[43m(\u001B[49m\u001B[43m)\u001B[49m\n\u001B[1;32m    266\u001B[0m \u001B[38;5;28;01mif\u001B[39;00m \u001B[38;5;28mself\u001B[39m\u001B[38;5;241m.\u001B[39m_state[\u001B[38;5;124m'\u001B[39m\u001B[38;5;124mload\u001B[39m\u001B[38;5;124m'\u001B[39m] \u001B[38;5;129;01mis\u001B[39;00m LOAD_STAGES[\u001B[38;5;124m'\u001B[39m\u001B[38;5;124mproperties\u001B[39m\u001B[38;5;124m'\u001B[39m]: \u001B[38;5;28;01mreturn\u001B[39;00m\n\u001B[1;32m    268\u001B[0m \u001B[38;5;28mself\u001B[39m\u001B[38;5;241m.\u001B[39mload_schema()\n",
      "File \u001B[0;32m/data/u_mbrammerloh_diss/tools/anaconda3/lib/python3.12/site-packages/brukerapi/dataset.py:373\u001B[0m, in \u001B[0;36mDataset.load_properties\u001B[0;34m(self)\u001B[0m\n\u001B[1;32m    348\u001B[0m \u001B[38;5;250m\u001B[39m\u001B[38;5;124;03m\"\"\"\u001B[39;00m\n\u001B[1;32m    349\u001B[0m \u001B[38;5;124;03mLoad properties from two default configuration files. First configuration file contains core properties -\u001B[39;00m\n\u001B[1;32m    350\u001B[0m \u001B[38;5;124;03mproperties essential for data loading, second contains custom properties - to provide more information about\u001B[39;00m\n\u001B[0;32m   (...)\u001B[0m\n\u001B[1;32m    370\u001B[0m \n\u001B[1;32m    371\u001B[0m \u001B[38;5;124;03m\"\"\"\u001B[39;00m\n\u001B[1;32m    372\u001B[0m \u001B[38;5;28;01mfor\u001B[39;00m file \u001B[38;5;129;01min\u001B[39;00m \u001B[38;5;28mself\u001B[39m\u001B[38;5;241m.\u001B[39m_state[\u001B[38;5;124m'\u001B[39m\u001B[38;5;124mproperty_files\u001B[39m\u001B[38;5;124m'\u001B[39m]:\n\u001B[0;32m--> 373\u001B[0m     \u001B[38;5;28;43mself\u001B[39;49m\u001B[38;5;241;43m.\u001B[39;49m\u001B[43madd_property_file\u001B[49m\u001B[43m(\u001B[49m\u001B[43mfile\u001B[49m\u001B[43m)\u001B[49m\n\u001B[1;32m    375\u001B[0m \u001B[38;5;28mself\u001B[39m\u001B[38;5;241m.\u001B[39m_state[\u001B[38;5;124m'\u001B[39m\u001B[38;5;124mload_properties\u001B[39m\u001B[38;5;124m'\u001B[39m] \u001B[38;5;241m=\u001B[39m \u001B[38;5;28;01mTrue\u001B[39;00m\n",
      "File \u001B[0;32m/data/u_mbrammerloh_diss/tools/anaconda3/lib/python3.12/site-packages/brukerapi/dataset.py:390\u001B[0m, in \u001B[0;36mDataset.add_property_file\u001B[0;34m(self, path)\u001B[0m\n\u001B[1;32m    388\u001B[0m \u001B[38;5;28;01mwith\u001B[39;00m \u001B[38;5;28mopen\u001B[39m(path) \u001B[38;5;28;01mas\u001B[39;00m f:\n\u001B[1;32m    389\u001B[0m     \u001B[38;5;28;01mfor\u001B[39;00m \u001B[38;5;28mproperty\u001B[39m \u001B[38;5;129;01min\u001B[39;00m json\u001B[38;5;241m.\u001B[39mload(f)\u001B[38;5;241m.\u001B[39mitems():\n\u001B[0;32m--> 390\u001B[0m         \u001B[38;5;28;43mself\u001B[39;49m\u001B[38;5;241;43m.\u001B[39;49m\u001B[43m_add_property\u001B[49m\u001B[43m(\u001B[49m\u001B[38;5;28;43mproperty\u001B[39;49m\u001B[43m)\u001B[49m\n",
      "File \u001B[0;32m/data/u_mbrammerloh_diss/tools/anaconda3/lib/python3.12/site-packages/brukerapi/dataset.py:407\u001B[0m, in \u001B[0;36mDataset._add_property\u001B[0;34m(self, property)\u001B[0m\n\u001B[1;32m    405\u001B[0m \u001B[38;5;28mself\u001B[39m\u001B[38;5;241m.\u001B[39m_eval_conditions(desc[\u001B[38;5;124m'\u001B[39m\u001B[38;5;124mconditions\u001B[39m\u001B[38;5;124m'\u001B[39m])\n\u001B[1;32m    406\u001B[0m \u001B[38;5;28;01mtry\u001B[39;00m:\n\u001B[0;32m--> 407\u001B[0m     value \u001B[38;5;241m=\u001B[39m \u001B[38;5;28;43mself\u001B[39;49m\u001B[38;5;241;43m.\u001B[39;49m\u001B[43m_make_element\u001B[49m\u001B[43m(\u001B[49m\u001B[43mdesc\u001B[49m\u001B[43m[\u001B[49m\u001B[38;5;124;43m'\u001B[39;49m\u001B[38;5;124;43mcmd\u001B[39;49m\u001B[38;5;124;43m'\u001B[39;49m\u001B[43m]\u001B[49m\u001B[43m)\u001B[49m\n\u001B[1;32m    408\u001B[0m     \u001B[38;5;28mself\u001B[39m\u001B[38;5;241m.\u001B[39m\u001B[38;5;21m__setattr__\u001B[39m(\u001B[38;5;28mproperty\u001B[39m[\u001B[38;5;241m0\u001B[39m], value)\n\u001B[1;32m    410\u001B[0m     \u001B[38;5;28;01mif\u001B[39;00m \u001B[38;5;129;01mnot\u001B[39;00m \u001B[38;5;28mhasattr\u001B[39m(\u001B[38;5;28mself\u001B[39m, \u001B[38;5;124m'\u001B[39m\u001B[38;5;124m_properties\u001B[39m\u001B[38;5;124m'\u001B[39m):\n",
      "File \u001B[0;32m/data/u_mbrammerloh_diss/tools/anaconda3/lib/python3.12/site-packages/brukerapi/dataset.py:431\u001B[0m, in \u001B[0;36mDataset._make_element\u001B[0;34m(self, cmd)\u001B[0m\n\u001B[1;32m    424\u001B[0m \u001B[38;5;250m\u001B[39m\u001B[38;5;124;03m\"\"\"\u001B[39;00m\n\u001B[1;32m    425\u001B[0m \u001B[38;5;124;03mCalculate value of a property using the command string.\u001B[39;00m\n\u001B[1;32m    426\u001B[0m \n\u001B[1;32m    427\u001B[0m \u001B[38;5;124;03m:param cmd: command string, or list of command strings\u001B[39;00m\n\u001B[1;32m    428\u001B[0m \u001B[38;5;124;03m:return: value of property, or list of values of properties\u001B[39;00m\n\u001B[1;32m    429\u001B[0m \u001B[38;5;124;03m\"\"\"\u001B[39;00m\n\u001B[1;32m    430\u001B[0m \u001B[38;5;28;01mif\u001B[39;00m \u001B[38;5;28misinstance\u001B[39m(cmd, \u001B[38;5;28mstr\u001B[39m):\n\u001B[0;32m--> 431\u001B[0m     \u001B[38;5;28;01mreturn\u001B[39;00m \u001B[38;5;28;43meval\u001B[39;49m\u001B[43m(\u001B[49m\u001B[38;5;28;43mself\u001B[39;49m\u001B[38;5;241;43m.\u001B[39;49m\u001B[43m_sub_parameters\u001B[49m\u001B[43m(\u001B[49m\u001B[43mcmd\u001B[49m\u001B[43m)\u001B[49m\u001B[43m)\u001B[49m\n\u001B[1;32m    432\u001B[0m \u001B[38;5;28;01melif\u001B[39;00m \u001B[38;5;28misinstance\u001B[39m(cmd, \u001B[38;5;28mint\u001B[39m) \u001B[38;5;129;01mor\u001B[39;00m \u001B[38;5;28misinstance\u001B[39m(cmd, \u001B[38;5;28mfloat\u001B[39m):\n\u001B[1;32m    433\u001B[0m     \u001B[38;5;28;01mreturn\u001B[39;00m cmd\n",
      "File \u001B[0;32m<string>:1\u001B[0m\n",
      "\u001B[0;31mZeroDivisionError\u001B[0m: float division by zero"
     ]
    }
   ],
   "source": [
    "study = Dataset('/data/pt_02093/new_data_structure/CHUV/2025_04_24_dMR_S_I/20250424/47/fid')"
   ]
  },
  {
   "cell_type": "code",
   "execution_count": 111,
   "id": "8656e035-8ffd-4d9b-a526-0d45121ae54d",
   "metadata": {},
   "outputs": [
    {
     "ename": "NotStudyFolder",
     "evalue": "Not a Bruker study folder.",
     "output_type": "error",
     "traceback": [
      "\u001B[0;31m---------------------------------------------------------------------------\u001B[0m",
      "\u001B[0;31mNotStudyFolder\u001B[0m                            Traceback (most recent call last)",
      "Cell \u001B[0;32mIn[111], line 1\u001B[0m\n\u001B[0;32m----> 1\u001B[0m study \u001B[38;5;241m=\u001B[39m \u001B[43mStudy\u001B[49m\u001B[43m(\u001B[49m\u001B[38;5;124;43m'\u001B[39;49m\u001B[38;5;124;43m/data/pt_02093/new_data_structure/CHUV/2025_04_24_dMR_S_I/20250424/\u001B[39;49m\u001B[38;5;124;43m'\u001B[39;49m\u001B[43m,\u001B[49m\u001B[43m)\u001B[49m\n",
      "File \u001B[0;32m/data/u_mbrammerloh_diss/tools/anaconda3/lib/python3.12/site-packages/brukerapi/folders.py:341\u001B[0m, in \u001B[0;36mStudy.__init__\u001B[0;34m(self, path, parent, recursive, dataset_index, dataset_state)\u001B[0m\n\u001B[1;32m    333\u001B[0m \u001B[38;5;250m\u001B[39m\u001B[38;5;124;03m\"\"\"The constructor for Study class.\u001B[39;00m\n\u001B[1;32m    334\u001B[0m \n\u001B[1;32m    335\u001B[0m \u001B[38;5;124;03m:param path: path to a folder\u001B[39;00m\n\u001B[0;32m   (...)\u001B[0m\n\u001B[1;32m    338\u001B[0m \u001B[38;5;124;03m:return:\u001B[39;00m\n\u001B[1;32m    339\u001B[0m \u001B[38;5;124;03m\"\"\"\u001B[39;00m\n\u001B[1;32m    340\u001B[0m \u001B[38;5;28mself\u001B[39m\u001B[38;5;241m.\u001B[39mpath \u001B[38;5;241m=\u001B[39m Path(path)\n\u001B[0;32m--> 341\u001B[0m \u001B[38;5;28;43mself\u001B[39;49m\u001B[38;5;241;43m.\u001B[39;49m\u001B[43mvalidate\u001B[49m\u001B[43m(\u001B[49m\u001B[43m)\u001B[49m\n\u001B[1;32m    342\u001B[0m \u001B[38;5;28msuper\u001B[39m(Study, \u001B[38;5;28mself\u001B[39m)\u001B[38;5;241m.\u001B[39m\u001B[38;5;21m__init__\u001B[39m(path, parent\u001B[38;5;241m=\u001B[39mparent, recursive\u001B[38;5;241m=\u001B[39mrecursive, dataset_index\u001B[38;5;241m=\u001B[39mdataset_index,\n\u001B[1;32m    343\u001B[0m                             dataset_state\u001B[38;5;241m=\u001B[39mdataset_state)\n",
      "File \u001B[0;32m/data/u_mbrammerloh_diss/tools/anaconda3/lib/python3.12/site-packages/brukerapi/folders.py:354\u001B[0m, in \u001B[0;36mStudy.validate\u001B[0;34m(self)\u001B[0m\n\u001B[1;32m    351\u001B[0m     \u001B[38;5;28;01mraise\u001B[39;00m NotStudyFolder\n\u001B[1;32m    353\u001B[0m \u001B[38;5;28;01mif\u001B[39;00m \u001B[38;5;129;01mnot\u001B[39;00m \u001B[38;5;28mself\u001B[39m\u001B[38;5;241m.\u001B[39mcontains(\u001B[38;5;28mself\u001B[39m\u001B[38;5;241m.\u001B[39mpath, [\u001B[38;5;124m'\u001B[39m\u001B[38;5;124msubject\u001B[39m\u001B[38;5;124m'\u001B[39m,]):\n\u001B[0;32m--> 354\u001B[0m     \u001B[38;5;28;01mraise\u001B[39;00m NotStudyFolder\n",
      "\u001B[0;31mNotStudyFolder\u001B[0m: Not a Bruker study folder."
     ]
    }
   ],
   "source": [
    "study = Study('/data/pt_02093/new_data_structure/CHUV/2025_04_24_dMR_S_I/20250424/',)"
   ]
  },
  {
   "cell_type": "code",
   "execution_count": 105,
   "id": "ccf43da8-2bbc-4cac-af3a-5e19143f703e",
   "metadata": {},
   "outputs": [
    {
     "data": {
      "text/plain": [
       "['spectroscopic', '<FG_CYCLE>']"
      ]
     },
     "execution_count": 105,
     "metadata": {},
     "output_type": "execute_result"
    }
   ],
   "source": [
    "study.dim_type"
   ]
  },
  {
   "cell_type": "code",
   "execution_count": null,
   "id": "9506e5d9-4683-428f-89de-4598575d95a7",
   "metadata": {},
   "outputs": [],
   "source": []
  },
  {
   "cell_type": "code",
   "execution_count": 104,
   "id": "7bf20a45-7367-4bfe-8297-80b11c78f362",
   "metadata": {},
   "outputs": [
    {
     "data": {
      "text/plain": [
       "[[<matplotlib.lines.Line2D at 0x7f0ebd74ae10>]]"
      ]
     },
     "execution_count": 104,
     "metadata": {},
     "output_type": "execute_result"
    },
    {
     "data": {
      "image/png": "[encoded data removed]",
      "text/plain": [
       "<Figure size 640x480 with 1 Axes>"
      ]
     },
     "metadata": {},
     "output_type": "display_data"
    }
   ],
   "source": [
    "[plt.plot(study.data[:].mean(axis=1))]"
   ]
  },
  {
   "cell_type": "code",
   "execution_count": 7,
   "id": "ea03d0ae-c86a-477c-a608-e38d9d82342a",
   "metadata": {
    "scrolled": true
   },
   "outputs": [
    {
     "name": "stdout",
     "output_type": "stream",
     "text": [
      "spec2nii bruker -m 2DSEQ /data/pt_02093/new_data_structure/CHUV/2025_04_24_dMR_S_I/20250424/41/pdata/1/2dseq\n"
     ]
    },
    {
     "ename": "FileNotFoundError",
     "evalue": "[Errno 2] No such file or directory: 'spec2nii bruker -m 2DSEQ /data/pt_02093/new_data_structure/CHUV/2025_04_24_dMR_S_I/20250424/41/pdata/1/2dseq'",
     "output_type": "error",
     "traceback": [
      "\u001B[0;31m---------------------------------------------------------------------------\u001B[0m",
      "\u001B[0;31mFileNotFoundError\u001B[0m                         Traceback (most recent call last)",
      "Cell \u001B[0;32mIn[7], line 5\u001B[0m\n\u001B[1;32m      3\u001B[0m spec2nii_command \u001B[38;5;241m=\u001B[39m \u001B[38;5;124m\"\u001B[39m\u001B[38;5;124mspec2nii bruker -m 2DSEQ \u001B[39m\u001B[38;5;124m\"\u001B[39m \u001B[38;5;241m+\u001B[39m os\u001B[38;5;241m.\u001B[39mpath\u001B[38;5;241m.\u001B[39mjoin(data_folder,\u001B[38;5;28mstr\u001B[39m(sequencedir), \u001B[38;5;124m'\u001B[39m\u001B[38;5;124mpdata\u001B[39m\u001B[38;5;124m'\u001B[39m,\u001B[38;5;124m'\u001B[39m\u001B[38;5;124m1\u001B[39m\u001B[38;5;124m'\u001B[39m,\u001B[38;5;124m'\u001B[39m\u001B[38;5;124m2dseq\u001B[39m\u001B[38;5;124m'\u001B[39m)\n\u001B[1;32m      4\u001B[0m \u001B[38;5;28mprint\u001B[39m(spec2nii_command)\n\u001B[0;32m----> 5\u001B[0m \u001B[43msubprocess\u001B[49m\u001B[38;5;241;43m.\u001B[39;49m\u001B[43mcall\u001B[49m\u001B[43m(\u001B[49m\u001B[43mspec2nii_command\u001B[49m\u001B[43m)\u001B[49m\n\u001B[1;32m      6\u001B[0m \u001B[38;5;28;01mbreak\u001B[39;00m\n",
      "File \u001B[0;32m/data/u_mbrammerloh_diss/tools/anaconda3/lib/python3.12/subprocess.py:389\u001B[0m, in \u001B[0;36mcall\u001B[0;34m(timeout, *popenargs, **kwargs)\u001B[0m\n\u001B[1;32m    381\u001B[0m \u001B[38;5;28;01mdef\u001B[39;00m \u001B[38;5;21mcall\u001B[39m(\u001B[38;5;241m*\u001B[39mpopenargs, timeout\u001B[38;5;241m=\u001B[39m\u001B[38;5;28;01mNone\u001B[39;00m, \u001B[38;5;241m*\u001B[39m\u001B[38;5;241m*\u001B[39mkwargs):\n\u001B[1;32m    382\u001B[0m \u001B[38;5;250m    \u001B[39m\u001B[38;5;124;03m\"\"\"Run command with arguments.  Wait for command to complete or\u001B[39;00m\n\u001B[1;32m    383\u001B[0m \u001B[38;5;124;03m    timeout, then return the returncode attribute.\u001B[39;00m\n\u001B[1;32m    384\u001B[0m \n\u001B[0;32m   (...)\u001B[0m\n\u001B[1;32m    387\u001B[0m \u001B[38;5;124;03m    retcode = call([\"ls\", \"-l\"])\u001B[39;00m\n\u001B[1;32m    388\u001B[0m \u001B[38;5;124;03m    \"\"\"\u001B[39;00m\n\u001B[0;32m--> 389\u001B[0m     \u001B[38;5;28;01mwith\u001B[39;00m \u001B[43mPopen\u001B[49m\u001B[43m(\u001B[49m\u001B[38;5;241;43m*\u001B[39;49m\u001B[43mpopenargs\u001B[49m\u001B[43m,\u001B[49m\u001B[43m \u001B[49m\u001B[38;5;241;43m*\u001B[39;49m\u001B[38;5;241;43m*\u001B[39;49m\u001B[43mkwargs\u001B[49m\u001B[43m)\u001B[49m \u001B[38;5;28;01mas\u001B[39;00m p:\n\u001B[1;32m    390\u001B[0m         \u001B[38;5;28;01mtry\u001B[39;00m:\n\u001B[1;32m    391\u001B[0m             \u001B[38;5;28;01mreturn\u001B[39;00m p\u001B[38;5;241m.\u001B[39mwait(timeout\u001B[38;5;241m=\u001B[39mtimeout)\n",
      "File \u001B[0;32m/data/u_mbrammerloh_diss/tools/anaconda3/lib/python3.12/subprocess.py:1026\u001B[0m, in \u001B[0;36mPopen.__init__\u001B[0;34m(self, args, bufsize, executable, stdin, stdout, stderr, preexec_fn, close_fds, shell, cwd, env, universal_newlines, startupinfo, creationflags, restore_signals, start_new_session, pass_fds, user, group, extra_groups, encoding, errors, text, umask, pipesize, process_group)\u001B[0m\n\u001B[1;32m   1022\u001B[0m         \u001B[38;5;28;01mif\u001B[39;00m \u001B[38;5;28mself\u001B[39m\u001B[38;5;241m.\u001B[39mtext_mode:\n\u001B[1;32m   1023\u001B[0m             \u001B[38;5;28mself\u001B[39m\u001B[38;5;241m.\u001B[39mstderr \u001B[38;5;241m=\u001B[39m io\u001B[38;5;241m.\u001B[39mTextIOWrapper(\u001B[38;5;28mself\u001B[39m\u001B[38;5;241m.\u001B[39mstderr,\n\u001B[1;32m   1024\u001B[0m                     encoding\u001B[38;5;241m=\u001B[39mencoding, errors\u001B[38;5;241m=\u001B[39merrors)\n\u001B[0;32m-> 1026\u001B[0m     \u001B[38;5;28;43mself\u001B[39;49m\u001B[38;5;241;43m.\u001B[39;49m\u001B[43m_execute_child\u001B[49m\u001B[43m(\u001B[49m\u001B[43margs\u001B[49m\u001B[43m,\u001B[49m\u001B[43m \u001B[49m\u001B[43mexecutable\u001B[49m\u001B[43m,\u001B[49m\u001B[43m \u001B[49m\u001B[43mpreexec_fn\u001B[49m\u001B[43m,\u001B[49m\u001B[43m \u001B[49m\u001B[43mclose_fds\u001B[49m\u001B[43m,\u001B[49m\n\u001B[1;32m   1027\u001B[0m \u001B[43m                        \u001B[49m\u001B[43mpass_fds\u001B[49m\u001B[43m,\u001B[49m\u001B[43m \u001B[49m\u001B[43mcwd\u001B[49m\u001B[43m,\u001B[49m\u001B[43m \u001B[49m\u001B[43menv\u001B[49m\u001B[43m,\u001B[49m\n\u001B[1;32m   1028\u001B[0m \u001B[43m                        \u001B[49m\u001B[43mstartupinfo\u001B[49m\u001B[43m,\u001B[49m\u001B[43m \u001B[49m\u001B[43mcreationflags\u001B[49m\u001B[43m,\u001B[49m\u001B[43m \u001B[49m\u001B[43mshell\u001B[49m\u001B[43m,\u001B[49m\n\u001B[1;32m   1029\u001B[0m \u001B[43m                        \u001B[49m\u001B[43mp2cread\u001B[49m\u001B[43m,\u001B[49m\u001B[43m \u001B[49m\u001B[43mp2cwrite\u001B[49m\u001B[43m,\u001B[49m\n\u001B[1;32m   1030\u001B[0m \u001B[43m                        \u001B[49m\u001B[43mc2pread\u001B[49m\u001B[43m,\u001B[49m\u001B[43m \u001B[49m\u001B[43mc2pwrite\u001B[49m\u001B[43m,\u001B[49m\n\u001B[1;32m   1031\u001B[0m \u001B[43m                        \u001B[49m\u001B[43merrread\u001B[49m\u001B[43m,\u001B[49m\u001B[43m \u001B[49m\u001B[43merrwrite\u001B[49m\u001B[43m,\u001B[49m\n\u001B[1;32m   1032\u001B[0m \u001B[43m                        \u001B[49m\u001B[43mrestore_signals\u001B[49m\u001B[43m,\u001B[49m\n\u001B[1;32m   1033\u001B[0m \u001B[43m                        \u001B[49m\u001B[43mgid\u001B[49m\u001B[43m,\u001B[49m\u001B[43m \u001B[49m\u001B[43mgids\u001B[49m\u001B[43m,\u001B[49m\u001B[43m \u001B[49m\u001B[43muid\u001B[49m\u001B[43m,\u001B[49m\u001B[43m \u001B[49m\u001B[43mumask\u001B[49m\u001B[43m,\u001B[49m\n\u001B[1;32m   1034\u001B[0m \u001B[43m                        \u001B[49m\u001B[43mstart_new_session\u001B[49m\u001B[43m,\u001B[49m\u001B[43m \u001B[49m\u001B[43mprocess_group\u001B[49m\u001B[43m)\u001B[49m\n\u001B[1;32m   1035\u001B[0m \u001B[38;5;28;01mexcept\u001B[39;00m:\n\u001B[1;32m   1036\u001B[0m     \u001B[38;5;66;03m# Cleanup if the child failed starting.\u001B[39;00m\n\u001B[1;32m   1037\u001B[0m     \u001B[38;5;28;01mfor\u001B[39;00m f \u001B[38;5;129;01min\u001B[39;00m \u001B[38;5;28mfilter\u001B[39m(\u001B[38;5;28;01mNone\u001B[39;00m, (\u001B[38;5;28mself\u001B[39m\u001B[38;5;241m.\u001B[39mstdin, \u001B[38;5;28mself\u001B[39m\u001B[38;5;241m.\u001B[39mstdout, \u001B[38;5;28mself\u001B[39m\u001B[38;5;241m.\u001B[39mstderr)):\n",
      "File \u001B[0;32m/data/u_mbrammerloh_diss/tools/anaconda3/lib/python3.12/subprocess.py:1955\u001B[0m, in \u001B[0;36mPopen._execute_child\u001B[0;34m(self, args, executable, preexec_fn, close_fds, pass_fds, cwd, env, startupinfo, creationflags, shell, p2cread, p2cwrite, c2pread, c2pwrite, errread, errwrite, restore_signals, gid, gids, uid, umask, start_new_session, process_group)\u001B[0m\n\u001B[1;32m   1953\u001B[0m     err_msg \u001B[38;5;241m=\u001B[39m os\u001B[38;5;241m.\u001B[39mstrerror(errno_num)\n\u001B[1;32m   1954\u001B[0m \u001B[38;5;28;01mif\u001B[39;00m err_filename \u001B[38;5;129;01mis\u001B[39;00m \u001B[38;5;129;01mnot\u001B[39;00m \u001B[38;5;28;01mNone\u001B[39;00m:\n\u001B[0;32m-> 1955\u001B[0m     \u001B[38;5;28;01mraise\u001B[39;00m child_exception_type(errno_num, err_msg, err_filename)\n\u001B[1;32m   1956\u001B[0m \u001B[38;5;28;01melse\u001B[39;00m:\n\u001B[1;32m   1957\u001B[0m     \u001B[38;5;28;01mraise\u001B[39;00m child_exception_type(errno_num, err_msg)\n",
      "\u001B[0;31mFileNotFoundError\u001B[0m: [Errno 2] No such file or directory: 'spec2nii bruker -m 2DSEQ /data/pt_02093/new_data_structure/CHUV/2025_04_24_dMR_S_I/20250424/41/pdata/1/2dseq'"
     ]
    }
   ],
   "source": [
    "data_folder='/data/pt_02093/new_data_structure/CHUV/2025_04_24_dMR_S_I/20250424'\n",
    "for sequencedir in range(41,63):\n",
    "    spec2nii_command = \"spec2nii bruker -m 2DSEQ \" + os.path.join(data_folder,str(sequencedir), 'pdata','1','2dseq')\n",
    "    print(spec2nii_command)\n",
    "    subprocess.call(spec2nii_command)\n",
    "    break\n"
   ]
  },
  {
   "cell_type": "code",
   "execution_count": 107,
   "id": "579175df-515d-4dfa-9b87-348bf79dd30d",
   "metadata": {},
   "outputs": [
    {
     "name": "stdout",
     "output_type": "stream",
     "text": [
      "Traceback (most recent call last):\n",
      "  File \"/data/u_mbrammerloh_diss/tools/anaconda3/bin/spec2nii\", line 8, in <module>\n",
      "    sys.exit(main())\n",
      "             ^^^^^^\n",
      "  File \"/data/u_mbrammerloh_diss/tools/anaconda3/lib/python3.12/site-packages/spec2nii/spec2nii.py\", line 701, in main\n",
      "    spec2nii(*args)\n",
      "  File \"/data/u_mbrammerloh_diss/tools/anaconda3/lib/python3.12/site-packages/spec2nii/spec2nii.py\", line 297, in __init__\n",
      "    args.func(args)\n",
      "  File \"/data/u_mbrammerloh_diss/tools/anaconda3/lib/python3.12/site-packages/spec2nii/spec2nii.py\", line 670, in bruker\n",
      "    self.imageOut, self.fileoutNames = read_bruker(args)\n",
      "                                       ^^^^^^^^^^^^^^^^^\n",
      "  File \"/data/u_mbrammerloh_diss/tools/anaconda3/lib/python3.12/site-packages/spec2nii/bruker.py\", line 44, in read_bruker\n",
      "    for data, orientation, dwelltime, meta, name in yield_bruker(args):\n",
      "  File \"/data/u_mbrammerloh_diss/tools/anaconda3/lib/python3.12/site-packages/spec2nii/bruker.py\", line 79, in yield_bruker\n",
      "    d = Dataset(\n",
      "        ^^^^^^^^\n",
      "  File \"/data/u_mbrammerloh_diss/tools/anaconda3/lib/python3.12/site-packages/brukerapi/dataset.py\", line 190, in __init__\n",
      "    self.load()\n",
      "  File \"/data/u_mbrammerloh_diss/tools/anaconda3/lib/python3.12/site-packages/brukerapi/dataset.py\", line 264, in load\n",
      "    self.load_properties()\n",
      "  File \"/data/u_mbrammerloh_diss/tools/anaconda3/lib/python3.12/site-packages/brukerapi/dataset.py\", line 373, in load_properties\n",
      "    self.add_property_file(file)\n",
      "  File \"/data/u_mbrammerloh_diss/tools/anaconda3/lib/python3.12/site-packages/brukerapi/dataset.py\", line 390, in add_property_file\n",
      "    self._add_property(property)\n",
      "  File \"/data/u_mbrammerloh_diss/tools/anaconda3/lib/python3.12/site-packages/brukerapi/dataset.py\", line 407, in _add_property\n",
      "    value = self._make_element(desc['cmd'])\n",
      "            ^^^^^^^^^^^^^^^^^^^^^^^^^^^^^^^\n",
      "  File \"/data/u_mbrammerloh_diss/tools/anaconda3/lib/python3.12/site-packages/brukerapi/dataset.py\", line 431, in _make_element\n",
      "    return eval(self._sub_parameters(cmd))\n",
      "           ^^^^^^^^^^^^^^^^^^^^^^^^^^^^^^^\n",
      "  File \"<string>\", line 1, in <module>\n",
      "ZeroDivisionError: float division by zero\n"
     ]
    }
   ],
   "source": [
    "!spec2nii bruker /data/pt_02093/new_data_structure/CHUV/2025_04_24_dMR_S_I/20250424/41/fid"
   ]
  },
  {
   "cell_type": "code",
   "execution_count": null,
   "id": "809f6680-da14-4dd0-babc-34199515ebdf",
   "metadata": {},
   "outputs": [],
   "source": [
    "read_bruker()\n"
   ]
  },
  {
   "cell_type": "code",
   "execution_count": 13,
   "id": "094bfb4c-a1cc-42b7-9033-37e830598aaa",
   "metadata": {},
   "outputs": [
    {
     "ename": "TypeError",
     "evalue": "'module' object is not callable",
     "output_type": "error",
     "traceback": [
      "\u001B[0;31m---------------------------------------------------------------------------\u001B[0m",
      "\u001B[0;31mTypeError\u001B[0m                                 Traceback (most recent call last)",
      "Cell \u001B[0;32mIn[13], line 1\u001B[0m\n\u001B[0;32m----> 1\u001B[0m \u001B[43mspec2nii\u001B[49m\u001B[43m(\u001B[49m\u001B[38;5;124;43m'\u001B[39;49m\u001B[38;5;124;43m bruker -m 2DSEQ /data/pt_02093/new_data_structure/CHUV/2025_04_24_dMR_S_I/20250424/41/pdata/1/2dseq\u001B[39;49m\u001B[38;5;124;43m'\u001B[39;49m\u001B[43m)\u001B[49m\n",
      "\u001B[0;31mTypeError\u001B[0m: 'module' object is not callable"
     ]
    }
   ],
   "source": [
    "spec2nii()"
   ]
  },
  {
   "cell_type": "code",
   "execution_count": 60,
   "id": "741cf575-6e90-4c3e-8910-479906731b63",
   "metadata": {},
   "outputs": [],
   "source": [
    "\"\"\" spec2nii - tool for conversion of various MRS data formats to NIFTI format.\n",
    "\n",
    "This module contains the main class to be called as a script (through the main function).\n",
    "\n",
    "Author: William Clarke <william.clarke@ndcn.ox.ac.uk>\n",
    "Copyright (C) 2020 University of Oxford\n",
    "\"\"\"\n",
    "\n",
    "import argparse\n",
    "import sys\n",
    "import os.path as op\n",
    "from pathlib import Path\n",
    "import json\n",
    "from nibabel.nifti2 import Nifti2Image\n",
    "from spec2nii import __version__ as spec2nii_ver\n",
    "from numpy import isclose\n",
    "# There are case specific imports below\n",
    "\n",
    "\n",
    "class Spec2niiError(Exception):\n",
    "    pass\n",
    "\n",
    "\n",
    "class spec2nii:\n",
    "    def __init__(self):\n",
    "        cite_str = \"Clarke WT, Bell TK, Emir UE, Mikkelsen M, Oeltzschner G, Shamaei A, Soher BJ, Wilson M. \"\\\n",
    "                   \"NIfTI-MRS: A standard data format for magnetic resonance spectroscopy. \"\\\n",
    "                   \"Magn Reson Med. 2022. doi: 10.1002/mrm.29418.\"\n",
    "        parser = argparse.ArgumentParser(\n",
    "            description='Convert raw spectroscopy data to NIfTI format.',\n",
    "            epilog=f\"If you use spec2nii please cite: {cite_str}\")\n",
    "        parser.add_argument('-v', '--version', action='version', version=spec2nii_ver)\n",
    "\n",
    "        subparsers = parser.add_subparsers(title='spec2nii subcommands')\n",
    "\n",
    "        def add_common_parameters(subparser):\n",
    "            # Add options that are common to all subcommands\n",
    "            subparser.add_argument('-j', '--json', help='Create json sidecar.', action='store_true')\n",
    "            subparser.add_argument(\"-f\", \"--fileout\", type=str,\n",
    "                                   help=\"Output file base name (default = input file name)\")\n",
    "            subparser.add_argument(\"-o\", \"--outdir\", type=Path,\n",
    "                                   help=\"Output location (default = .)\", default='.')\n",
    "            subparser.add_argument('--nifti1', action='store_true')\n",
    "            subparser.add_argument(\"--override_nucleus\", type=str, nargs='+',\n",
    "                                   help=\"Override ResonantNucleus field with input(s). E.g. '2H'.\")\n",
    "            subparser.add_argument(\"--override_frequency\", type=float, nargs='+',\n",
    "                                   help=\"Override SpectrometerFrequency field with input(s). Input in MHz.\")\n",
    "            subparser.add_argument(\"--override_dwelltime\", type=float,\n",
    "                                   help=\"Override dwell time field with input. Input in seconds.\")\n",
    "            subparser.add_argument(\n",
    "                '--anon',\n",
    "                action='store_true',\n",
    "                help=\"Create file without sensitive metadata. For greater control use spec2nii anon.\")\n",
    "            subparser.add_argument('--verbose', action='store_true')\n",
    "\n",
    "            return subparser\n",
    "\n",
    "\n",
    "        # Bruker format\n",
    "        parser_bruker = subparsers.add_parser('bruker', help='Convert from Bruker data format.')\n",
    "        parser_bruker.add_argument('file', help='2dseq file to convert', type=str)\n",
    "        parser_bruker.add_argument('-q', '--query', action='append', default=[])\n",
    "        parser_bruker.add_argument('-m', '--mode', type=str, default='2DSEQ', choices=['2DSEQ', 'FID'])\n",
    "        parser_bruker.add_argument('-d', '--dump_headers',\n",
    "                                   help='Dump bruker header files into json header extension',\n",
    "                                   action='store_true')\n",
    "        parser_bruker = add_common_parameters(parser_bruker)\n",
    "        parser_bruker.set_defaults(func=self.bruker)\n",
    "\n",
    "\n",
    "        if len(sys.argv) == 1:\n",
    "            parser.print_usage(sys.stderr)\n",
    "            sys.exit(1)\n",
    "\n",
    "        args = parser.parse_args()\n",
    "\n",
    "        self.fileoutNames = []\n",
    "        self.imageOut = []\n",
    "        self.orientationInfoOut = []\n",
    "        self.dwellTimes = []\n",
    "        self.metaData = []\n",
    "\n",
    "        self.outputDir = args.outdir\n",
    "\n",
    "        args.func(args)\n",
    "\n",
    "        return args\n",
    "        if self.imageOut:\n",
    "            self.implement_overrides(args)\n",
    "\n",
    "            self.insert_spectralwidth()\n",
    "\n",
    "            if args.anon:\n",
    "                from spec2nii.anonymise import anon_nifti_mrs\n",
    "                for idx, nifti_mrs_img in enumerate(self.imageOut):\n",
    "                    self.imageOut[idx] = anon_nifti_mrs(nifti_mrs_img, verbose=args.verbose)\n",
    "\n",
    "            self.validate_output()\n",
    "            self.write_output(args.json, args.nifti1)\n",
    "            self.validate_write(args.verbose)\n",
    "            if args.verbose:\n",
    "                print(f'Please cite {cite_str}.')\n",
    "        elif hasattr(args, 'view') and not args.view:\n",
    "            print('No files to write.')\n",
    "\n",
    "    def implement_overrides(self, args):\n",
    "        \"\"\"Implement any command line overrides for essential parameters.\"\"\"\n",
    "        for nifti_mrs_img in self.imageOut:\n",
    "            if args.override_dwelltime:\n",
    "                nifti_mrs_img.set_dwell_time(args.override_dwelltime)\n",
    "\n",
    "            if args.override_nucleus or args.override_frequency:\n",
    "                from nibabel.nifti1 import Nifti1Extension\n",
    "                hdr_ext_codes = nifti_mrs_img.header.extensions.get_codes()\n",
    "                index = hdr_ext_codes.index(44)\n",
    "                original = json.loads(nifti_mrs_img.header.extensions[index].get_content())\n",
    "\n",
    "                if args.override_nucleus:\n",
    "                    original['ResonantNucleus'] = args.override_nucleus\n",
    "                if args.override_frequency:\n",
    "                    original['SpectrometerFrequency'] = args.override_frequency\n",
    "                json_s = json.dumps(original)\n",
    "                new_ext = Nifti1Extension(44, json_s.encode('UTF-8'))\n",
    "                nifti_mrs_img.header.extensions.clear()\n",
    "                nifti_mrs_img.header.extensions.append(new_ext)\n",
    "\n",
    "    def insert_spectralwidth(self):\n",
    "        \"\"\"Ensure that the correct spectral width is inserted into the header extension\"\"\"\n",
    "        for nifti_mrs_img in self.imageOut:\n",
    "            if 'SpectralWidth' in nifti_mrs_img.hdr_ext\\\n",
    "                    and not isclose(\n",
    "                        nifti_mrs_img.hdr_ext['SpectralWidth'],\n",
    "                        1 / nifti_mrs_img.dwelltime,\n",
    "                        atol=1E-2):\n",
    "                nifti_mrs_img.remove_hdr_field('SpectralWidth')\n",
    "                nifti_mrs_img.add_hdr_field('SpectralWidth', 1 / nifti_mrs_img.dwelltime)\n",
    "            else:\n",
    "                nifti_mrs_img.add_hdr_field('SpectralWidth', 1 / nifti_mrs_img.dwelltime)\n",
    "\n",
    "    def validate_output(self):\n",
    "        \"\"\"Run NIfTI MRS validation on output.\"\"\"\n",
    "        import nifti_mrs.validator as validate\n",
    "        # Currently this repeats the validation before the save.\n",
    "        # But useful here to do exception handling\n",
    "        for f_out, nifti_mrs_img in zip(self.fileoutNames, self.imageOut):\n",
    "            try:\n",
    "                validate.validate_nifti_mrs(nifti_mrs_img)\n",
    "            except (\n",
    "                    validate.headerExtensionError,\n",
    "                    validate.niftiDataError,\n",
    "                    validate.niftiHeaderError) as exc:\n",
    "\n",
    "                raise Spec2niiError(f'Generated file {f_out} failed validation.') from exc\n",
    "\n",
    "    def write_output(self, write_json=False, nifti1=False):\n",
    "        \"\"\"Write any NIfTI MRS objects stored.\n",
    "        If write_json is true also write meta-data as sidecar.\n",
    "        \"\"\"\n",
    "        self.outputDir.mkdir(parents=True, exist_ok=True)\n",
    "\n",
    "        for f_out, nifti_mrs_img in zip(self.fileoutNames, self.imageOut):\n",
    "            out = self.outputDir / (f_out + '.nii.gz')\n",
    "\n",
    "            if nifti1:\n",
    "                # If nifti1 is requested just remake the file.\n",
    "                # This is more than a bit hacky, but avoids passing the option to every end-point.\n",
    "                from nifti_mrs.create_nmrs import gen_nifti_mrs_hdr_ext\n",
    "                gen_nifti_mrs_hdr_ext(\n",
    "                    nifti_mrs_img[:],\n",
    "                    nifti_mrs_img.dwelltime,\n",
    "                    nifti_mrs_img.hdr_ext,\n",
    "                    nifti_mrs_img.getAffine('voxel', 'world'),\n",
    "                    nifti_version=1)\\\n",
    "                    .save(out)\n",
    "            else:\n",
    "                nifti_mrs_img.save(out)\n",
    "\n",
    "            if write_json:\n",
    "                out_json = self.outputDir / (f_out + '.json')\n",
    "                with open(out_json, 'w') as fp:\n",
    "                    json.dump(json.loads(nifti_mrs_img.header.extensions[0].get_content()), fp, indent=4)\n",
    "\n",
    "    class NIfTIMRSWriteError(IOError):\n",
    "        pass\n",
    "\n",
    "    def validate_write(self, verbose):\n",
    "        for f_out in self.fileoutNames:\n",
    "            out = self.outputDir / (f_out + '.nii.gz')\n",
    "            if out.exists() and verbose:\n",
    "                print(f'Output {out.name} written to {out.parent}')\n",
    "            elif out.exists():\n",
    "                pass\n",
    "            else:\n",
    "                raise self.NIfTIMRSWriteError(f'Output {out.name} in {out.parent} not found!')\n",
    "\n",
    " \n",
    "\n",
    "    # Bruker 2dseq files with FG_COMPLEX\n",
    "    def bruker(self, args):\n",
    "        #from spec2nii.bruker import read_bruker\n",
    "\n",
    "        self.imageOut, self.fileoutNames = read_bruker(args)\n",
    "\n",
    "\n",
    "def main(*args):\n",
    "    spec2nii(*args)\n",
    "    return 0"
   ]
  },
  {
   "cell_type": "code",
   "execution_count": 73,
   "id": "66906e33-ff27-4890-a5ad-3471fbadc882",
   "metadata": {},
   "outputs": [],
   "source": [
    "\"\"\"spec2nii module containing functions specific to interpreting Bruker formats\n",
    "Dependent on the brukerapi package developed by Tomas Psorn.\n",
    "https://github.com/isi-nmr/brukerapi-python\n",
    "\n",
    "Author: Tomas Psorn <tomaspsorn@isibrno.cz>\n",
    "        Will Clarke <william.clarke@ndcn.ox.ac.uk>\n",
    "Copyright (C) 2021 Institute of Scientific Instruments of the CAS, v. v. i.\n",
    "\"\"\"\n",
    "import os\n",
    "import importlib.resources as importlib_resources\n",
    "import warnings\n",
    "from datetime import datetime\n",
    "\n",
    "import numpy as np\n",
    "\n",
    "from brukerapi.dataset import Dataset\n",
    "from brukerapi.folders import Folder\n",
    "from brukerapi.mergers import FrameGroupMerger\n",
    "from brukerapi.exceptions import FilterEvalFalse\n",
    "\n",
    "from nifti_mrs.create_nmrs import gen_nifti_mrs_hdr_ext\n",
    "from nifti_mrs.hdr_ext import Hdr_Ext\n",
    "\n",
    "from spec2nii.nifti_orientation import NIFTIOrient\n",
    "from spec2nii import __version__ as spec2nii_ver\n",
    "\n",
    "# Default dimension assignments.\n",
    "fid_dimension_defaults = {\n",
    "    'repetition': \"DIM_DYN\",\n",
    "    'channel': \"DIM_COIL\"}\n",
    "\n",
    "\n",
    "def read_bruker(args):\n",
    "    \"\"\"\n",
    "\n",
    "    :param args:\n",
    "    :return list imageOut:\n",
    "    :return list fileoutNames:\n",
    "    \"\"\"\n",
    "    imageOut = []\n",
    "    fileoutNames = []\n",
    "\n",
    "    # for all Bruker datasets compliant all queries\n",
    "    for data, orientation, dwelltime, meta, name in yield_bruker(args):\n",
    "        print(orientation, dwelltime, meta, name)\n",
    "        imageOut.append(\n",
    "            gen_nifti_mrs_hdr_ext(\n",
    "                data,\n",
    "                dwelltime,\n",
    "                meta,\n",
    "                orientation.Q44,\n",
    "                no_conj=True)\n",
    "        )\n",
    "        fileoutNames.append(name)\n",
    "\n",
    "    return imageOut, fileoutNames\n",
    "\n",
    "\n",
    "def yield_bruker(args):\n",
    "    \"\"\"\n",
    "\n",
    "    If the path specified by args.file is:\n",
    "\n",
    "    1/ Bruker dataset file (2dseq) - function yields its data and properties of the dataset\n",
    "    2/ Directory - function yields data and properties and data of all datasets compliant to the queries\n",
    "\n",
    "    \"\"\"\n",
    "    # get a list of queries to filter datasets\n",
    "    queries = _get_queries(args)\n",
    "\n",
    "    # get location of the spec2nii Bruker properties configuration file\n",
    "    ref1 = importlib_resources.files('spec2nii') / 'bruker_properties.json'\n",
    "    ref2 = importlib_resources.files('spec2nii') / 'bruker_fid_override.json'\n",
    "\n",
    "    with importlib_resources.as_file(ref1) as bruker_properties_path:\n",
    "        with importlib_resources.as_file(ref2) as bruker_fid_override_path:\n",
    "\n",
    "            # case of Bruker dataset\n",
    "            if os.path.isfile(args.file):\n",
    "                d = Dataset(\n",
    "                    args.file,\n",
    "                    property_files=[bruker_fid_override_path, bruker_properties_path],\n",
    "                    parameter_files=['method'])\n",
    "                print(queries)\n",
    "                try:\n",
    "                    d.query(queries)\n",
    "                except FilterEvalFalse:\n",
    "                    raise ValueError(f'Bruker dataset {d.path} is not suitable for conversion to mrs_nifti')\n",
    "                yield from _proc_dataset(d, args)\n",
    "\n",
    "            # case of folder containing Bruker datasets\n",
    "            elif os.path.isdir(args.file):\n",
    "\n",
    "                # process individual datasets\n",
    "                for dataset in Folder(args.file, dataset_state={\n",
    "                    \"parameter_files\": ['method'],\n",
    "                    \"property_files\": [bruker_properties_path]\n",
    "                }).get_dataset_list_rec():\n",
    "                    with dataset as d:\n",
    "                        try:\n",
    "                            d.query(queries)\n",
    "                        except FilterEvalFalse:\n",
    "                            continue\n",
    "                        yield from _proc_dataset(d, args)\n",
    "\n",
    "\n",
    "def _get_queries(args):\n",
    "    \"\"\"\n",
    "    Returns a list of queries for filtering out only spectroscopic 2dseq datasets with a complex frame group\n",
    "\n",
    "    \"\"\"\n",
    "    if args.mode == '2DSEQ':\n",
    "        queries = [\"@type=='2dseq'\", \"@is_spectroscopy==True\", \"@is_complex==False\"]\n",
    "    elif args.mode == 'FID':\n",
    "        queries = [\"@type=='fid'\", \"@is_spectroscopy==True\"]\n",
    "    return queries + args.query\n",
    "\n",
    "\n",
    "def _proc_dataset(d, args):\n",
    "    \"\"\"\n",
    "    Yield data and properties of a single dataset\n",
    "\n",
    "    \"\"\"\n",
    "    # merge 2dseq complex frame group if present\n",
    "    if d.is_complex and d.type == '2dseq':\n",
    "        d = FrameGroupMerger().merge(d, 'FG_COMPLEX')\n",
    "\n",
    "    # prepare the data array\n",
    "    if d.is_svs:\n",
    "        data = _prep_data_svs(d)\n",
    "    elif d.is_mrsi:\n",
    "        data = _prep_data_mrsi(d)\n",
    "    else:\n",
    "        data = d.data\n",
    "\n",
    "    # get properties\n",
    "    properties = d.to_dict()\n",
    "\n",
    "    # Orientation information\n",
    "    if d.type == 'fid':\n",
    "        orientation = NIFTIOrient(_fid_affine_from_params(d))\n",
    "    else:\n",
    "        orientation = NIFTIOrient(np.reshape(np.array(properties['affine']), (4, 4)))\n",
    "\n",
    "    # Meta data\n",
    "    if d.type == 'fid':\n",
    "        meta = _fid_meta(d, dump=args.dump_headers)\n",
    "    else:\n",
    "        meta = _2dseq_meta(d, dump=args.dump_headers)\n",
    "\n",
    "    # Dwelltime - to do resolve this factor of 2 issue\n",
    "    if d.type == 'fid':\n",
    "        dwelltime = d.dwell_s * 2\n",
    "    else:\n",
    "        dwelltime = d.dwell_s * 2\n",
    "\n",
    "    if args.fileout:\n",
    "        name = args.fileout + '_' + d.id.rstrip('_')\n",
    "    else:\n",
    "        name = d.id.rstrip('_')\n",
    "\n",
    "    yield data, orientation, dwelltime, meta, name\n",
    "\n",
    "\n",
    "def _prep_data_svs(d):\n",
    "    \"\"\"\n",
    "    Push the spectral dimension of the data array to the 3rd position for SVS data\n",
    "\n",
    "    It is possible to use tuple as an axis argument of the expand_dims function since numpy>=1.18.0,\n",
    "    we decided to use this triple call to avoid limiting numpy versions\n",
    "\n",
    "    \"\"\"\n",
    "    data = d.data\n",
    "    if d.type == 'fid':\n",
    "        # Remove points acquired before echo\n",
    "        data = data[d.points_prior_to_echo:, ...]\n",
    "\n",
    "        # fid data appears to need to be conjugated for NIFTI-MRS convention\n",
    "        data = data.conj()\n",
    "\n",
    "    data = np.expand_dims(data, axis=0)\n",
    "    data = np.expand_dims(data, axis=0)\n",
    "    data = np.expand_dims(data, axis=0)\n",
    "    return data\n",
    "\n",
    "\n",
    "def _2dseq_meta(d, dump=False):\n",
    "    \"\"\" Extract information from method and acqp file into hdr_ext.\n",
    "\n",
    "    :param d: Dataset\n",
    "    :return: NIfTI MRS hdr ext object.\n",
    "    \"\"\"\n",
    "\n",
    "    # Extract required metadata and create hdr_ext object\n",
    "    cf = d.SpectrometerFrequency\n",
    "    obj = Hdr_Ext(\n",
    "        cf,\n",
    "        d.ResonantNucleus)\n",
    "\n",
    "    # # 5.1 MRS specific Tags\n",
    "    # 'EchoTime'\n",
    "    if hasattr(d, 'TE'):\n",
    "        obj.set_standard_def('EchoTime', float(d.TE * 1E-3))\n",
    "    elif hasattr(d, 'method_TE'):\n",
    "        obj.set_standard_def('EchoTime', float(d.method_TE * 1E-3))\n",
    "    # 'RepetitionTime'\n",
    "    if hasattr(d, 'TR'):\n",
    "        obj.set_standard_def('RepetitionTime', float(d.TR / 1E3))\n",
    "    elif hasattr(d, 'method_TR'):\n",
    "        obj.set_standard_def('RepetitionTime', float(d.method_TR / 1E3))\n",
    "    # 'InversionTime'\n",
    "    # 'MixingTime'\n",
    "    # 'ExcitationFlipAngle'\n",
    "    # 'TxOffset'\n",
    "    # Bit of a guess, not sure of units.\n",
    "    obj.set_standard_def('TxOffset', float(d.working_offset[0]))\n",
    "    # 'VOI'\n",
    "    # 'WaterSuppressed'\n",
    "    # No apparent parameter stored in the SPAR info.\n",
    "    # 'WaterSuppressionType'\n",
    "    # 'SequenceTriggered'\n",
    "    # # 5.2 Scanner information\n",
    "    # 'Manufacturer'\n",
    "    obj.set_standard_def('Manufacturer', 'Bruker')\n",
    "    # 'ManufacturersModelName'\n",
    "    # 'DeviceSerialNumber'\n",
    "    # 'SoftwareVersions'\n",
    "    obj.set_standard_def('SoftwareVersions', d.PV_version)\n",
    "    # 'InstitutionName'\n",
    "    # 'InstitutionAddress'\n",
    "    # 'TxCoil'\n",
    "    # 'RxCoil'\n",
    "    # # 5.3 Sequence information\n",
    "    # 'SequenceName'\n",
    "    obj.set_standard_def('SequenceName', d.method_desc)\n",
    "    # 'ProtocolName'\n",
    "    # # 5.4 Sequence information\n",
    "    # 'PatientPosition'\n",
    "    # 'PatientName'\n",
    "    obj.set_standard_def('PatientName', d.subj_id)\n",
    "    # 'PatientID'\n",
    "    # 'PatientWeight'\n",
    "    # 'PatientDoB'\n",
    "    # 'PatientSex'\n",
    "    # # 5.5 Provenance and conversion metadata\n",
    "    # 'ConversionMethod'\n",
    "    obj.set_standard_def('ConversionMethod', f'spec2nii v{spec2nii_ver}')\n",
    "    # 'ConversionTime'\n",
    "    conversion_time = datetime.now().isoformat(sep='T', timespec='milliseconds')\n",
    "    obj.set_standard_def('ConversionTime', conversion_time)\n",
    "    # 'OriginalFile'\n",
    "    obj.set_standard_def('OriginalFile', [str(d.path), ])\n",
    "    # # 5.6 Spatial information\n",
    "    # 'kSpace'\n",
    "    obj.set_standard_def('kSpace', [False, False, False])\n",
    "\n",
    "    # Stuff full headers into user fields\n",
    "    if dump:\n",
    "        for hdr_file in d.parameters:\n",
    "            obj.set_user_def(key=hdr_file,\n",
    "                             doc=f'Bruker {hdr_file} file.',\n",
    "                             value=d.parameters[hdr_file].to_dict())\n",
    "\n",
    "    # Tags\n",
    "    unknown_count = 0\n",
    "    for ddx, dim in enumerate(d.dim_type[1:]):\n",
    "        if dim in fid_dimension_defaults:\n",
    "            obj.set_dim_info(ddx, fid_dimension_defaults[dim])\n",
    "        else:\n",
    "            obj.set_dim_info(ddx, f'DIM_USER_{unknown_count}')\n",
    "            unknown_count += 1\n",
    "\n",
    "    return obj\n"
   ]
  },
  {
   "cell_type": "code",
   "execution_count": 74,
   "id": "e3175269-61c8-481f-806f-08546c069165",
   "metadata": {},
   "outputs": [
    {
     "name": "stdout",
     "output_type": "stream",
     "text": [
      "[\"@type=='2dseq'\", '@is_spectroscopy==True', '@is_complex==False']\n",
      "<spec2nii.nifti_orientation.NIFTIOrient object at 0x7f0ebe885970> 6.25e-07 {\"SpectrometerFrequency\": [400.263989952738], \"ResonantNucleus\": [\"1H\"], \"dim_5\": \"DIM_DYN\", \"EchoTime\": 0.0, \"RepetitionTime\": 3.0, \"TxOffset\": 0.0, \"Manufacturer\": \"Bruker\", \"SoftwareVersions\": \"<PV-360.3.5>\", \"SequenceName\": \"<specialDW_water_b50_avg8>\", \"PatientName\": \"Rat^^^^\", \"ConversionMethod\": \"spec2nii v0.8.6\", \"ConversionTime\": \"2025-04-30T11:20:57.988\", \"OriginalFile\": [\"/data/pt_02093/new_data_structure/CHUV/2025_04_24_dMR_S_I/20250424/41/pdata/1/2dseq\"], \"kSpace\": [false, false, false]} 2DSEQ_41_1_Rat^^^^_11\n"
     ]
    },
    {
     "ename": "ValueError",
     "evalue": "data must be complex",
     "output_type": "error",
     "traceback": [
      "\u001B[0;31m---------------------------------------------------------------------------\u001B[0m",
      "\u001B[0;31mValueError\u001B[0m                                Traceback (most recent call last)",
      "Cell \u001B[0;32mIn[74], line 1\u001B[0m\n\u001B[0;32m----> 1\u001B[0m spectrum \u001B[38;5;241m=\u001B[39m \u001B[43mspec2nii\u001B[49m\u001B[43m(\u001B[49m\u001B[43m)\u001B[49m\n",
      "Cell \u001B[0;32mIn[60], line 85\u001B[0m, in \u001B[0;36mspec2nii.__init__\u001B[0;34m(self)\u001B[0m\n\u001B[1;32m     81\u001B[0m \u001B[38;5;28mself\u001B[39m\u001B[38;5;241m.\u001B[39mmetaData \u001B[38;5;241m=\u001B[39m []\n\u001B[1;32m     83\u001B[0m \u001B[38;5;28mself\u001B[39m\u001B[38;5;241m.\u001B[39moutputDir \u001B[38;5;241m=\u001B[39m args\u001B[38;5;241m.\u001B[39moutdir\n\u001B[0;32m---> 85\u001B[0m \u001B[43margs\u001B[49m\u001B[38;5;241;43m.\u001B[39;49m\u001B[43mfunc\u001B[49m\u001B[43m(\u001B[49m\u001B[43margs\u001B[49m\u001B[43m)\u001B[49m\n\u001B[1;32m     87\u001B[0m \u001B[38;5;28;01mreturn\u001B[39;00m args\n\u001B[1;32m     88\u001B[0m \u001B[38;5;28;01mif\u001B[39;00m \u001B[38;5;28mself\u001B[39m\u001B[38;5;241m.\u001B[39mimageOut:\n",
      "Cell \u001B[0;32mIn[60], line 202\u001B[0m, in \u001B[0;36mspec2nii.bruker\u001B[0;34m(self, args)\u001B[0m\n\u001B[1;32m    199\u001B[0m \u001B[38;5;28;01mdef\u001B[39;00m \u001B[38;5;21mbruker\u001B[39m(\u001B[38;5;28mself\u001B[39m, args):\n\u001B[1;32m    200\u001B[0m     \u001B[38;5;66;03m#from spec2nii.bruker import read_bruker\u001B[39;00m\n\u001B[0;32m--> 202\u001B[0m     \u001B[38;5;28mself\u001B[39m\u001B[38;5;241m.\u001B[39mimageOut, \u001B[38;5;28mself\u001B[39m\u001B[38;5;241m.\u001B[39mfileoutNames \u001B[38;5;241m=\u001B[39m \u001B[43mread_bruker\u001B[49m\u001B[43m(\u001B[49m\u001B[43margs\u001B[49m\u001B[43m)\u001B[49m\n",
      "Cell \u001B[0;32mIn[73], line 47\u001B[0m, in \u001B[0;36mread_bruker\u001B[0;34m(args)\u001B[0m\n\u001B[1;32m     44\u001B[0m \u001B[38;5;28;01mfor\u001B[39;00m data, orientation, dwelltime, meta, name \u001B[38;5;129;01min\u001B[39;00m yield_bruker(args):\n\u001B[1;32m     45\u001B[0m     \u001B[38;5;28mprint\u001B[39m(orientation, dwelltime, meta, name)\n\u001B[1;32m     46\u001B[0m     imageOut\u001B[38;5;241m.\u001B[39mappend(\n\u001B[0;32m---> 47\u001B[0m         \u001B[43mgen_nifti_mrs_hdr_ext\u001B[49m\u001B[43m(\u001B[49m\n\u001B[1;32m     48\u001B[0m \u001B[43m            \u001B[49m\u001B[43mdata\u001B[49m\u001B[43m,\u001B[49m\n\u001B[1;32m     49\u001B[0m \u001B[43m            \u001B[49m\u001B[43mdwelltime\u001B[49m\u001B[43m,\u001B[49m\n\u001B[1;32m     50\u001B[0m \u001B[43m            \u001B[49m\u001B[43mmeta\u001B[49m\u001B[43m,\u001B[49m\n\u001B[1;32m     51\u001B[0m \u001B[43m            \u001B[49m\u001B[43morientation\u001B[49m\u001B[38;5;241;43m.\u001B[39;49m\u001B[43mQ44\u001B[49m\u001B[43m,\u001B[49m\n\u001B[1;32m     52\u001B[0m \u001B[43m            \u001B[49m\u001B[43mno_conj\u001B[49m\u001B[38;5;241;43m=\u001B[39;49m\u001B[38;5;28;43;01mTrue\u001B[39;49;00m\u001B[43m)\u001B[49m\n\u001B[1;32m     53\u001B[0m     )\n\u001B[1;32m     54\u001B[0m     fileoutNames\u001B[38;5;241m.\u001B[39mappend(name)\n\u001B[1;32m     56\u001B[0m \u001B[38;5;28;01mreturn\u001B[39;00m imageOut, fileoutNames\n",
      "File \u001B[0;32m/data/u_mbrammerloh_diss/tools/anaconda3/lib/python3.12/site-packages/nifti_mrs/create_nmrs.py:113\u001B[0m, in \u001B[0;36mgen_nifti_mrs_hdr_ext\u001B[0;34m(data, dwelltime, hdr_ext, affine, nifti_version, no_conj)\u001B[0m\n\u001B[1;32m     92\u001B[0m \u001B[38;5;250m\u001B[39m\u001B[38;5;124;03m\"\"\"Generate NIfTI-MRS from data and header extension object\u001B[39;00m\n\u001B[1;32m     93\u001B[0m \n\u001B[1;32m     94\u001B[0m \u001B[38;5;124;03m:param data: Complex-typed numpy array of at least 4 dimensions (max 7)\u001B[39;00m\n\u001B[0;32m   (...)\u001B[0m\n\u001B[1;32m    109\u001B[0m \u001B[38;5;124;03m:rtype: nifti_mrs.nifti_mrs.NIFTI_MRS\u001B[39;00m\n\u001B[1;32m    110\u001B[0m \u001B[38;5;124;03m\"\"\"\u001B[39;00m\n\u001B[1;32m    112\u001B[0m \u001B[38;5;28;01mif\u001B[39;00m \u001B[38;5;129;01mnot\u001B[39;00m np\u001B[38;5;241m.\u001B[39miscomplexobj(data):\n\u001B[0;32m--> 113\u001B[0m     \u001B[38;5;28;01mraise\u001B[39;00m \u001B[38;5;167;01mValueError\u001B[39;00m(\u001B[38;5;124m'\u001B[39m\u001B[38;5;124mdata must be complex\u001B[39m\u001B[38;5;124m'\u001B[39m)\n\u001B[1;32m    114\u001B[0m \u001B[38;5;28;01mif\u001B[39;00m data\u001B[38;5;241m.\u001B[39mndim \u001B[38;5;241m<\u001B[39m \u001B[38;5;241m4\u001B[39m \u001B[38;5;129;01mor\u001B[39;00m data\u001B[38;5;241m.\u001B[39mndim \u001B[38;5;241m>\u001B[39m \u001B[38;5;241m7\u001B[39m:\n\u001B[1;32m    115\u001B[0m     \u001B[38;5;28;01mraise\u001B[39;00m \u001B[38;5;167;01mValueError\u001B[39;00m(\u001B[38;5;124mf\u001B[39m\u001B[38;5;124m'\u001B[39m\u001B[38;5;124mdata must have between 4 and 7 dimensions, currently has \u001B[39m\u001B[38;5;132;01m{\u001B[39;00mdata\u001B[38;5;241m.\u001B[39mndim\u001B[38;5;132;01m}\u001B[39;00m\u001B[38;5;124m'\u001B[39m)\n",
      "\u001B[0;31mValueError\u001B[0m: data must be complex"
     ]
    }
   ],
   "source": [
    "spectrum = spec2nii()"
   ]
  },
  {
   "cell_type": "code",
   "execution_count": 32,
   "id": "70fc2957-127b-454f-9791-e589e6c9de75",
   "metadata": {},
   "outputs": [],
   "source": [
    "import re\n",
    "sysargv = ['spec2nii','bruker', '-m', '2DSEQ', '/data/pt_02093/new_data_structure/CHUV/2025_04_24_dMR_S_I/20250424/41/pdata/1/2dseq']\n",
    "sysargv[0] = re.sub(r'(-script\\.pyw?|\\.exe)?$', '', sysargv[0])"
   ]
  },
  {
   "cell_type": "code",
   "execution_count": 33,
   "id": "27c3e6a4-4cdb-4bdb-a112-425d52194dde",
   "metadata": {},
   "outputs": [
    {
     "data": {
      "text/plain": [
       "['spec2nii',\n",
       " 'bruker',\n",
       " '-m',\n",
       " '2DSEQ',\n",
       " '/data/pt_02093/new_data_structure/CHUV/2025_04_24_dMR_S_I/20250424/41/pdata/1/2dseq']"
      ]
     },
     "execution_count": 33,
     "metadata": {},
     "output_type": "execute_result"
    }
   ],
   "source": [
    "sysargv"
   ]
  },
  {
   "cell_type": "code",
   "execution_count": 34,
   "id": "255e9cc2-8e29-401f-8597-0f03e66cc7d4",
   "metadata": {},
   "outputs": [],
   "source": []
  },
  {
   "cell_type": "code",
   "execution_count": 35,
   "id": "4d9830bb-cc8f-4681-bd5a-05e6e17a847e",
   "metadata": {},
   "outputs": [
    {
     "data": {
      "text/plain": [
       "<generator object yield_bruker at 0x7f0ebd4cd5a0>"
      ]
     },
     "execution_count": 35,
     "metadata": {},
     "output_type": "execute_result"
    }
   ],
   "source": [
    "data"
   ]
  },
  {
   "cell_type": "code",
   "execution_count": 36,
   "id": "7327a3d4-962a-4f8d-9bbb-9532ba48a7aa",
   "metadata": {},
   "outputs": [
    {
     "ename": "NameError",
     "evalue": "name 'spec2nii' is not defined",
     "output_type": "error",
     "traceback": [
      "\u001B[0;31m---------------------------------------------------------------------------\u001B[0m",
      "\u001B[0;31mNameError\u001B[0m                                 Traceback (most recent call last)",
      "Cell \u001B[0;32mIn[36], line 1\u001B[0m\n\u001B[0;32m----> 1\u001B[0m \u001B[43mspec2nii\u001B[49m\u001B[38;5;241m.\u001B[39mauto(sysargv)\n",
      "\u001B[0;31mNameError\u001B[0m: name 'spec2nii' is not defined"
     ]
    }
   ],
   "source": [
    "spec2nii.auto(sysargv)"
   ]
  },
  {
   "cell_type": "code",
   "execution_count": 37,
   "id": "2195b89e-b370-428d-a360-0241335f1fab",
   "metadata": {},
   "outputs": [
    {
     "ename": "NameError",
     "evalue": "name 'spec2nii_class' is not defined",
     "output_type": "error",
     "traceback": [
      "\u001B[0;31m---------------------------------------------------------------------------\u001B[0m",
      "\u001B[0;31mNameError\u001B[0m                                 Traceback (most recent call last)",
      "Cell \u001B[0;32mIn[37], line 1\u001B[0m\n\u001B[0;32m----> 1\u001B[0m \u001B[43mspec2nii_class\u001B[49m\u001B[38;5;241m.\u001B[39mspec2nii\u001B[38;5;241m.\u001B[39mauto()\n",
      "\u001B[0;31mNameError\u001B[0m: name 'spec2nii_class' is not defined"
     ]
    }
   ],
   "source": [
    "spec2nii_class.spec2nii.auto()"
   ]
  },
  {
   "cell_type": "code",
   "execution_count": 38,
   "id": "03f27b0b-f609-42b2-b28d-1fbf9f34d72d",
   "metadata": {},
   "outputs": [],
   "source": [
    "import sys"
   ]
  },
  {
   "cell_type": "code",
   "execution_count": 39,
   "id": "d471dfd2-f80c-4bd5-85b3-2374aeb488e4",
   "metadata": {},
   "outputs": [],
   "source": [
    "sys.argv = sysargv"
   ]
  },
  {
   "cell_type": "code",
   "execution_count": 40,
   "id": "ba59cb7e-67e5-48e2-b3ff-605cd75c7d29",
   "metadata": {},
   "outputs": [
    {
     "data": {
      "text/plain": [
       "['spec2nii',\n",
       " 'bruker',\n",
       " '-m',\n",
       " '2DSEQ',\n",
       " '/data/pt_02093/new_data_structure/CHUV/2025_04_24_dMR_S_I/20250424/41/pdata/1/2dseq']"
      ]
     },
     "execution_count": 40,
     "metadata": {},
     "output_type": "execute_result"
    }
   ],
   "source": [
    "sys.argv"
   ]
  },
  {
   "cell_type": "code",
   "execution_count": 42,
   "id": "49c2bee1-db62-4721-8602-0bb80ee60d2f",
   "metadata": {},
   "outputs": [
    {
     "ename": "NameError",
     "evalue": "name 'spec2nii' is not defined",
     "output_type": "error",
     "traceback": [
      "\u001B[0;31m---------------------------------------------------------------------------\u001B[0m",
      "\u001B[0;31mNameError\u001B[0m                                 Traceback (most recent call last)",
      "Cell \u001B[0;32mIn[42], line 1\u001B[0m\n\u001B[0;32m----> 1\u001B[0m spec2nii_data \u001B[38;5;241m=\u001B[39m \u001B[43mspec2nii\u001B[49m()\n",
      "\u001B[0;31mNameError\u001B[0m: name 'spec2nii' is not defined"
     ]
    }
   ],
   "source": [
    "spec2nii_data = spec2nii()"
   ]
  },
  {
   "cell_type": "code",
   "execution_count": null,
   "id": "01c00ed1-6182-4fe3-ae90-ef39544c45f9",
   "metadata": {},
   "outputs": [],
   "source": [
    "data = s2n.bruker.yield_bruker(sysargv)"
   ]
  },
  {
   "cell_type": "code",
   "execution_count": null,
   "id": "a86e7341-5bf1-48b6-93bf-53048192be70",
   "metadata": {},
   "outputs": [],
   "source": [
    "for data, orientation, dwelltime, meta, name in yield_bruker(args):\n",
    "        imageOut.append(\n",
    "            gen_nifti_mrs_hdr_ext(\n",
    "                data,\n",
    "                dwelltime,\n",
    "                meta,\n",
    "                orientation.Q44,\n",
    "                no_conj=True)\n",
    "        )\n",
    "        fileoutNames.append(name)"
   ]
  }
 ],
 "metadata": {
  "kernelspec": {
   "display_name": "Python 3 (ipykernel)",
   "language": "python",
   "name": "python3"
  },
  "language_info": {
   "codemirror_mode": {
    "name": "ipython",
    "version": 3
   },
   "file_extension": ".py",
   "mimetype": "text/x-python",
   "name": "python",
   "nbconvert_exporter": "python",
   "pygments_lexer": "ipython3",
   "version": "3.12.5"
  }
 },
 "nbformat": 4,
 "nbformat_minor": 5
}
