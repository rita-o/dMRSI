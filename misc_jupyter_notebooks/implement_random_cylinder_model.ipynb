{
 "cells": [
  {
   "cell_type": "code",
   "execution_count": 1,
   "id": "initial_id",
   "metadata": {
    "ExecuteTime": {
     "end_time": "2025-02-28T13:04:08.928068Z",
     "start_time": "2025-02-28T13:04:08.634529Z"
    }
   },
   "outputs": [],
   "source": [
    "from scipy.special import j1, jnp_zeros, jvp\n",
    "import numpy as np\n",
    "from mpmath import nsum, inf, besselj, besseljzero, exp\n",
    "from matplotlib import pyplot as plt"
   ]
  },
  {
   "cell_type": "markdown",
   "id": "9bce69ab-1392-4ee4-8255-7f573e674189",
   "metadata": {},
   "source": [
    "# Implementing the randomly oriented cylinder diffusion model following Palombo et al, 2017, MRM"
   ]
  },
  {
   "cell_type": "markdown",
   "id": "b4479827-bff5-49de-9e00-165126710ed5",
   "metadata": {},
   "source": [
    "After validating the Linse et al formula implementation, here I try and reproduce Palombos signal decays. Which works now :)"
   ]
  },
  {
   "cell_type": "code",
   "execution_count": 30,
   "id": "96236df9e019c95a",
   "metadata": {
    "ExecuteTime": {
     "end_time": "2025-02-28T13:22:21.557969Z",
     "start_time": "2025-02-28T13:22:21.555942Z"
    }
   },
   "outputs": [],
   "source": [
    "t_Delta  = 63.2 # ms\n",
    "D = .332 # µm² / ms\n",
    "r = .024 # µm\n",
    "\n",
    "qs = np.arange(1e-9,1.5,2e-2) # spatial frequency of diffusion gradient\n",
    "\n",
    "#t_delta = 100000 # ms\n",
    "#gamma_gs = 2*np.pi*qs/t_delta # 1/(µm ms) frequency gradient"
   ]
  },
  {
   "cell_type": "code",
   "execution_count": 71,
   "id": "c4d1c8b6-83ea-4ed6-bad7-a6fd0ae8b9a6",
   "metadata": {
    "ExecuteTime": {
     "end_time": "2025-02-28T13:40:21.981182Z",
     "start_time": "2025-02-28T13:40:21.976666Z"
    }
   },
   "outputs": [],
   "source": [
    "\n",
    "def q(b):\n",
    "    return np.sqrt(b / (t_Delta - t_delta/3))\n",
    "\n",
    "\n",
    "def b_nm(n, m, bessel_arg, D, r):\n",
    "    # inner summand in general\n",
    "    alpha_nm2 = jnp_zeros(n, m)[-1] ** 2\n",
    "    return alpha_nm2 / (alpha_nm2 - n ** 2) / (alpha_nm2 - bessel_arg ** 2) ** 2 * np.exp(-D * alpha_nm2 * t_Delta / r ** 2)\n",
    "\n",
    "    \n",
    "def E_theta(q, D, r, theta):\n",
    "    # q value projections\n",
    "    q_perp = q*np.sin(theta)\n",
    "    q_para = q*np.cos(theta)\n",
    "    # helpers\n",
    "    bessel_arg = q_perp*r\n",
    "\n",
    "\n",
    "    # calculate inner sum\n",
    "    def a_n(n):\n",
    "        \n",
    "        #define summand dependent on n\n",
    "        def this_b_m(m):\n",
    "            return b_nm(n, m, bessel_arg, D, r)\n",
    "            \n",
    "        B = nsum(this_b_m, [1,inf])\n",
    "        \n",
    "        #outer summand\n",
    "        return jvp(int(n), bessel_arg) ** 2 * B / (1 + (int(n) == 0))\n",
    "        \n",
    "    # caculate outer sum\n",
    "    return ((2 * j1(bessel_arg)) ** 2 / bessel_arg ** 2 + 8 * bessel_arg ** 2 * nsum(a_n, [0, inf])) * np.exp(-D * q_para ** 2 * t_Delta)\n",
    "\n",
    "def E(q, D, r, n_theta=1e2):\n",
    "    delta_theta = np.pi/n_theta\n",
    "    thetas = np.arange(1e-15,np.pi,delta_theta)\n",
    "    return np.sin(thetas)*delta_theta*np.sum([E_theta(q, D, r, theta) for theta in thetas])/2\n"
   ]
  },
  {
   "cell_type": "code",
   "execution_count": 72,
   "id": "1e517a42a0db4b11",
   "metadata": {
    "ExecuteTime": {
     "end_time": "2025-02-28T13:40:22.161617Z",
     "start_time": "2025-02-28T13:40:22.159184Z"
    }
   },
   "outputs": [],
   "source": [
    "qs = np.array([.05,1]) # spatial frequency of diffusion gradient"
   ]
  },
  {
   "cell_type": "code",
   "execution_count": 73,
   "id": "772ed2b54f219e35",
   "metadata": {
    "ExecuteTime": {
     "end_time": "2025-02-28T13:40:25.015028Z",
     "start_time": "2025-02-28T13:40:24.214485Z"
    }
   },
   "outputs": [],
   "source": [
    "E_v_q = np.array([E(q,D,r,n_theta=5e1) for q in qs])\n",
    "\n"
   ]
  },
  {
   "cell_type": "code",
   "execution_count": 70,
   "id": "df1e37ab6584c60d",
   "metadata": {
    "ExecuteTime": {
     "end_time": "2025-02-28T13:33:50.636021Z",
     "start_time": "2025-02-28T13:33:50.634206Z"
    }
   },
   "outputs": [
    {
     "data": {
      "text/plain": [
       "array([mpf('0.982474002080855'), mpf('0.19344446632060386')], dtype=object)"
      ]
     },
     "execution_count": 70,
     "metadata": {},
     "output_type": "execute_result"
    }
   ],
   "source": [
    "E_v_q"
   ]
  },
  {
   "cell_type": "code",
   "execution_count": 60,
   "id": "675a460252c07b1a",
   "metadata": {
    "ExecuteTime": {
     "end_time": "2025-02-28T13:32:43.971583Z",
     "start_time": "2025-02-28T13:32:43.968528Z"
    }
   },
   "outputs": [
    {
     "data": {
      "text/plain": [
       "array([mpf('0.98270814599399903'), mpf('0.19344446632079232')],\n",
       "      dtype=object)"
      ]
     },
     "execution_count": 60,
     "metadata": {},
     "output_type": "execute_result"
    }
   ],
   "source": [
    "E_v_q"
   ]
  },
  {
   "cell_type": "markdown",
   "id": "e59cd72170bf38cb",
   "metadata": {},
   "source": [
    "## Find derivatives"
   ]
  },
  {
   "cell_type": "code",
   "execution_count": null,
   "id": "13ee149bc094e816",
   "metadata": {},
   "outputs": [],
   "source": [
    "\n",
    "\n",
    "def db_dD_nm(n, m, bessel_arg, D, r):\n",
    "    # inner summand in general\n",
    "    alpha_nm2 = jnp_zeros(n, m)[-1] ** 2\n",
    "    return alpha_nm2**2 / (alpha_nm2 - n ** 2) / (alpha_nm2 - bessel_arg ** 2) ** 2 * np.exp(-D * alpha_nm2 * t_Delta / r ** 2)\n",
    "\n",
    "def dE_dD_theta(q, D, r, theta):\n",
    "    # q value projections\n",
    "    q_perp = q * np.sin(theta)\n",
    "    q_para = q * np.cos(theta)\n",
    "    # helpers\n",
    "    bessel_arg = q_perp * r\n",
    "\n",
    "    # calculate inner sum\n",
    "    def a_n(n):\n",
    "        # define summand dependent on n\n",
    "        def this_b_m(m):\n",
    "            return b_nm(n, m, bessel_arg, D, t_Delta, r)\n",
    "\n",
    "        B = nsum(this_b_m, [1, inf])\n",
    "\n",
    "        # outer summand\n",
    "        return jvp(int(n), bessel_arg) ** 2 * B / (1 + (int(n) == 0))\n",
    "\n",
    "    def da_dD_n(n):\n",
    "        # define summand dependent on n\n",
    "        def this_db_dD_m(m):\n",
    "            return db_dD_nm(n, m, bessel_arg, D, r)\n",
    "\n",
    "        dB_dD = nsum(this_db_dD_m, [1, inf])\n",
    "\n",
    "        # outer summand\n",
    "        return jvp(int(n), bessel_arg) ** 2 * dB_dD / (1 + (int(n) == 0))\n",
    "\n",
    "    dA_dD = - t_Delta / r**2 * nsum(da_dD_n, [0, inf] )\n",
    "    # caculate outer sum\n",
    "    return (-q_para ** 2 * t_Delta * E_theta(q, D, r, theta)\n",
    "            + 8 * (q_perp * r) ** 2 * np.exp(-D * q_para ** 2 * t_Delta) * dA_dD)\n",
    "\n",
    "    #return ((-q_para**2* t_Delta)*((2 * j1(bessel_arg)) ** 2 / bessel_arg ** 2 + 8 * bessel_arg ** 2 * nsum(a_n, [0, inf]))\n",
    "    #        + 8*(q_perp*r)**2 * dA_dD) * np.exp( -D * q_para ** 2 * t_Delta)\n",
    "\n",
    "def dE_dD(q, D, r, n_theta=1e2):\n",
    "    delta_theta = np.pi/n_theta\n",
    "    thetas = np.arange(1e-15,np.pi,delta_theta)\n",
    "    return np.sum([np.sin(theta)*dE_dD_theta(q, D, r, theta)*delta_theta for theta in thetas])/2\n",
    "\n"
   ]
  },
  {
   "cell_type": "code",
   "execution_count": 177,
   "id": "45c31cc66d1505f9",
   "metadata": {
    "ExecuteTime": {
     "end_time": "2025-02-25T13:42:46.691860Z",
     "start_time": "2025-02-25T13:42:38.945938Z"
    }
   },
   "outputs": [],
   "source": [
    "dE_dD_v_q = np.array([dE_dD(q,t_Delta,r,n_theta=1e2) for q in qs])"
   ]
  },
  {
   "cell_type": "code",
   "execution_count": 178,
   "id": "eca8cb75f63e26fb",
   "metadata": {
    "ExecuteTime": {
     "end_time": "2025-02-25T13:42:48.022668Z",
     "start_time": "2025-02-25T13:42:48.020715Z"
    }
   },
   "outputs": [
    {
     "data": {
      "text/plain": [
       "array([mpf('-0.0022183792250401505'), mpf('-0.00055468741783352776'),\n",
       "       mpf('-0.0002214832295806934'), mpf('-0.00010080875933847463'),\n",
       "       mpf('-3.8042241195622115e-5')], dtype=object)"
      ]
     },
     "execution_count": 178,
     "metadata": {},
     "output_type": "execute_result"
    }
   ],
   "source": [
    "dE_dD_v_q"
   ]
  },
  {
   "cell_type": "code",
   "execution_count": 6,
   "id": "f00eaf089426cd49",
   "metadata": {
    "ExecuteTime": {
     "end_time": "2025-02-28T13:06:53.834881Z",
     "start_time": "2025-02-28T13:06:53.543791Z"
    }
   },
   "outputs": [
    {
     "ename": "ZeroDivisionError",
     "evalue": "",
     "output_type": "error",
     "traceback": [
      "\u001b[0;31m---------------------------------------------------------------------------\u001b[0m",
      "\u001b[0;31mZeroDivisionError\u001b[0m                         Traceback (most recent call last)",
      "Cell \u001b[0;32mIn[6], line 1\u001b[0m\n\u001b[0;32m----> 1\u001b[0m E_v_q \u001b[38;5;241m=\u001b[39m np\u001b[38;5;241m.\u001b[39marray([E(q,D,r,n_theta\u001b[38;5;241m=\u001b[39m\u001b[38;5;241m1e2\u001b[39m) \u001b[38;5;28;01mfor\u001b[39;00m q \u001b[38;5;129;01min\u001b[39;00m qs])\n",
      "Cell \u001b[0;32mIn[4], line 36\u001b[0m, in \u001b[0;36mE\u001b[0;34m(q, t_Delta, r, n_theta)\u001b[0m\n\u001b[1;32m     34\u001b[0m delta_theta \u001b[38;5;241m=\u001b[39m np\u001b[38;5;241m.\u001b[39mpi\u001b[38;5;241m/\u001b[39mn_theta\n\u001b[1;32m     35\u001b[0m thetas \u001b[38;5;241m=\u001b[39m np\u001b[38;5;241m.\u001b[39marange(\u001b[38;5;241m1e-15\u001b[39m,np\u001b[38;5;241m.\u001b[39mpi,delta_theta)\n\u001b[0;32m---> 36\u001b[0m \u001b[38;5;28;01mreturn\u001b[39;00m np\u001b[38;5;241m.\u001b[39msum([np\u001b[38;5;241m.\u001b[39msin(theta)\u001b[38;5;241m*\u001b[39mE_theta(q, t_Delta, r, theta)\u001b[38;5;241m*\u001b[39mdelta_theta \u001b[38;5;28;01mfor\u001b[39;00m theta \u001b[38;5;129;01min\u001b[39;00m thetas])\u001b[38;5;241m/\u001b[39m\u001b[38;5;241m2\u001b[39m\n",
      "Cell \u001b[0;32mIn[4], line 31\u001b[0m, in \u001b[0;36mE_theta\u001b[0;34m(q, t_Delta, r, theta)\u001b[0m\n\u001b[1;32m     28\u001b[0m     \u001b[38;5;28;01mreturn\u001b[39;00m besselj(\u001b[38;5;28mint\u001b[39m(n), bessel_arg,derivative\u001b[38;5;241m=\u001b[39m\u001b[38;5;241m1\u001b[39m)\u001b[38;5;241m*\u001b[39m\u001b[38;5;241m*\u001b[39m\u001b[38;5;241m2\u001b[39m \u001b[38;5;241m*\u001b[39m B \u001b[38;5;241m/\u001b[39m (\u001b[38;5;241m1\u001b[39m\u001b[38;5;241m+\u001b[39m(\u001b[38;5;28mint\u001b[39m(n)\u001b[38;5;241m==\u001b[39m\u001b[38;5;241m0\u001b[39m))\n\u001b[1;32m     30\u001b[0m \u001b[38;5;66;03m#caculate outer sum\u001b[39;00m\n\u001b[0;32m---> 31\u001b[0m \u001b[38;5;28;01mreturn\u001b[39;00m ( (\u001b[38;5;241m2\u001b[39m \u001b[38;5;241m*\u001b[39m besselj(\u001b[38;5;241m1\u001b[39m,bessel_arg))\u001b[38;5;241m*\u001b[39m\u001b[38;5;241m*\u001b[39m\u001b[38;5;241m2\u001b[39m \u001b[38;5;241m/\u001b[39m bessel_arg\u001b[38;5;241m*\u001b[39m\u001b[38;5;241m*\u001b[39m\u001b[38;5;241m2\u001b[39m  \u001b[38;5;241m+\u001b[39m  \u001b[38;5;241m8\u001b[39m\u001b[38;5;241m*\u001b[39mbessel_arg\u001b[38;5;241m*\u001b[39m\u001b[38;5;241m*\u001b[39m\u001b[38;5;241m2\u001b[39m \u001b[38;5;241m*\u001b[39m nsum(a_n,[\u001b[38;5;241m0\u001b[39m,inf]) ) \u001b[38;5;241m*\u001b[39m exp(\u001b[38;5;241m-\u001b[39mD \u001b[38;5;241m*\u001b[39m q_para\u001b[38;5;241m*\u001b[39m\u001b[38;5;241m*\u001b[39m\u001b[38;5;241m2\u001b[39m \u001b[38;5;241m*\u001b[39m t_Delta)\n",
      "File \u001b[0;32m~/anaconda3/lib/python3.12/site-packages/mpmath/calculus/extrapolation.py:1718\u001b[0m, in \u001b[0;36mnsum\u001b[0;34m(ctx, f, *intervals, **options)\u001b[0m\n\u001b[1;32m   1715\u001b[0m     ctx\u001b[38;5;241m.\u001b[39mprec \u001b[38;5;241m=\u001b[39m workprec\n\u001b[1;32m   1716\u001b[0m     \u001b[38;5;28;01mreturn\u001b[39;00m v\n\u001b[0;32m-> 1718\u001b[0m \u001b[38;5;28;01mreturn\u001b[39;00m \u001b[38;5;241m+\u001b[39mctx\u001b[38;5;241m.\u001b[39madaptive_extrapolation(update, emfun, options)\n",
      "File \u001b[0;32m~/anaconda3/lib/python3.12/site-packages/mpmath/calculus/extrapolation.py:1165\u001b[0m, in \u001b[0;36madaptive_extrapolation\u001b[0;34m(ctx, update, emfun, kwargs)\u001b[0m\n\u001b[1;32m   1163\u001b[0m     \u001b[38;5;28mprint\u001b[39m(\u001b[38;5;124m\"\u001b[39m\u001b[38;5;124m-\u001b[39m\u001b[38;5;124m\"\u001b[39m\u001b[38;5;241m*\u001b[39m\u001b[38;5;241m70\u001b[39m)\n\u001b[1;32m   1164\u001b[0m     \u001b[38;5;28mprint\u001b[39m(\u001b[38;5;124m\"\u001b[39m\u001b[38;5;124mAdding terms #\u001b[39m\u001b[38;5;132;01m%i\u001b[39;00m\u001b[38;5;124m-#\u001b[39m\u001b[38;5;132;01m%i\u001b[39;00m\u001b[38;5;124m\"\u001b[39m \u001b[38;5;241m%\u001b[39m (index, index\u001b[38;5;241m+\u001b[39mstep))\n\u001b[0;32m-> 1165\u001b[0m update(partial, xrange(index, index\u001b[38;5;241m+\u001b[39mstep))\n\u001b[1;32m   1166\u001b[0m index \u001b[38;5;241m+\u001b[39m\u001b[38;5;241m=\u001b[39m step\n\u001b[1;32m   1168\u001b[0m \u001b[38;5;66;03m# Check direct error\u001b[39;00m\n",
      "File \u001b[0;32m~/anaconda3/lib/python3.12/site-packages/mpmath/calculus/extrapolation.py:1706\u001b[0m, in \u001b[0;36mnsum.<locals>.update\u001b[0;34m(partial_sums, indices)\u001b[0m\n\u001b[1;32m   1704\u001b[0m     psum \u001b[38;5;241m=\u001b[39m ctx\u001b[38;5;241m.\u001b[39mzero\n\u001b[1;32m   1705\u001b[0m \u001b[38;5;28;01mfor\u001b[39;00m k \u001b[38;5;129;01min\u001b[39;00m indices:\n\u001b[0;32m-> 1706\u001b[0m     psum \u001b[38;5;241m=\u001b[39m psum \u001b[38;5;241m+\u001b[39m g(ctx\u001b[38;5;241m.\u001b[39mmpf(k))\n\u001b[1;32m   1707\u001b[0m     partial_sums\u001b[38;5;241m.\u001b[39mappend(psum)\n",
      "File \u001b[0;32m~/anaconda3/lib/python3.12/site-packages/mpmath/calculus/extrapolation.py:1753\u001b[0m, in \u001b[0;36mstandardize.<locals>.g\u001b[0;34m(k)\u001b[0m\n\u001b[1;32m   1751\u001b[0m \u001b[38;5;28;01mdef\u001b[39;00m \u001b[38;5;21mg\u001b[39m(k):\n\u001b[1;32m   1752\u001b[0m     args[d] \u001b[38;5;241m=\u001b[39m k\n\u001b[0;32m-> 1753\u001b[0m     \u001b[38;5;28;01mreturn\u001b[39;00m f(\u001b[38;5;241m*\u001b[39margs)\n",
      "File \u001b[0;32m~/anaconda3/lib/python3.12/site-packages/mpmath/calculus/extrapolation.py:1808\u001b[0m, in \u001b[0;36mstandardize_infinite.<locals>.g\u001b[0;34m(*args)\u001b[0m\n\u001b[1;32m   1806\u001b[0m args \u001b[38;5;241m=\u001b[39m \u001b[38;5;28mlist\u001b[39m(args)\n\u001b[1;32m   1807\u001b[0m args[dim] \u001b[38;5;241m+\u001b[39m\u001b[38;5;241m=\u001b[39m a\n\u001b[0;32m-> 1808\u001b[0m \u001b[38;5;28;01mreturn\u001b[39;00m f(\u001b[38;5;241m*\u001b[39margs)\n",
      "Cell \u001b[0;32mIn[4], line 25\u001b[0m, in \u001b[0;36mE_theta.<locals>.a_n\u001b[0;34m(n)\u001b[0m\n\u001b[1;32m     22\u001b[0m \u001b[38;5;28;01mdef\u001b[39;00m \u001b[38;5;21mthis_b_m\u001b[39m(m):\n\u001b[1;32m     23\u001b[0m     \u001b[38;5;28;01mreturn\u001b[39;00m b_nm(n,m,bessel_arg,D,t_Delta,r)\n\u001b[0;32m---> 25\u001b[0m B \u001b[38;5;241m=\u001b[39m nsum(this_b_m, [\u001b[38;5;241m1\u001b[39m,inf])\n\u001b[1;32m     27\u001b[0m \u001b[38;5;66;03m#outer summand\u001b[39;00m\n\u001b[1;32m     28\u001b[0m \u001b[38;5;28;01mreturn\u001b[39;00m besselj(\u001b[38;5;28mint\u001b[39m(n), bessel_arg,derivative\u001b[38;5;241m=\u001b[39m\u001b[38;5;241m1\u001b[39m)\u001b[38;5;241m*\u001b[39m\u001b[38;5;241m*\u001b[39m\u001b[38;5;241m2\u001b[39m \u001b[38;5;241m*\u001b[39m B \u001b[38;5;241m/\u001b[39m (\u001b[38;5;241m1\u001b[39m\u001b[38;5;241m+\u001b[39m(\u001b[38;5;28mint\u001b[39m(n)\u001b[38;5;241m==\u001b[39m\u001b[38;5;241m0\u001b[39m))\n",
      "File \u001b[0;32m~/anaconda3/lib/python3.12/site-packages/mpmath/calculus/extrapolation.py:1718\u001b[0m, in \u001b[0;36mnsum\u001b[0;34m(ctx, f, *intervals, **options)\u001b[0m\n\u001b[1;32m   1715\u001b[0m     ctx\u001b[38;5;241m.\u001b[39mprec \u001b[38;5;241m=\u001b[39m workprec\n\u001b[1;32m   1716\u001b[0m     \u001b[38;5;28;01mreturn\u001b[39;00m v\n\u001b[0;32m-> 1718\u001b[0m \u001b[38;5;28;01mreturn\u001b[39;00m \u001b[38;5;241m+\u001b[39mctx\u001b[38;5;241m.\u001b[39madaptive_extrapolation(update, emfun, options)\n",
      "File \u001b[0;32m~/anaconda3/lib/python3.12/site-packages/mpmath/calculus/extrapolation.py:1165\u001b[0m, in \u001b[0;36madaptive_extrapolation\u001b[0;34m(ctx, update, emfun, kwargs)\u001b[0m\n\u001b[1;32m   1163\u001b[0m     \u001b[38;5;28mprint\u001b[39m(\u001b[38;5;124m\"\u001b[39m\u001b[38;5;124m-\u001b[39m\u001b[38;5;124m\"\u001b[39m\u001b[38;5;241m*\u001b[39m\u001b[38;5;241m70\u001b[39m)\n\u001b[1;32m   1164\u001b[0m     \u001b[38;5;28mprint\u001b[39m(\u001b[38;5;124m\"\u001b[39m\u001b[38;5;124mAdding terms #\u001b[39m\u001b[38;5;132;01m%i\u001b[39;00m\u001b[38;5;124m-#\u001b[39m\u001b[38;5;132;01m%i\u001b[39;00m\u001b[38;5;124m\"\u001b[39m \u001b[38;5;241m%\u001b[39m (index, index\u001b[38;5;241m+\u001b[39mstep))\n\u001b[0;32m-> 1165\u001b[0m update(partial, xrange(index, index\u001b[38;5;241m+\u001b[39mstep))\n\u001b[1;32m   1166\u001b[0m index \u001b[38;5;241m+\u001b[39m\u001b[38;5;241m=\u001b[39m step\n\u001b[1;32m   1168\u001b[0m \u001b[38;5;66;03m# Check direct error\u001b[39;00m\n",
      "File \u001b[0;32m~/anaconda3/lib/python3.12/site-packages/mpmath/calculus/extrapolation.py:1706\u001b[0m, in \u001b[0;36mnsum.<locals>.update\u001b[0;34m(partial_sums, indices)\u001b[0m\n\u001b[1;32m   1704\u001b[0m     psum \u001b[38;5;241m=\u001b[39m ctx\u001b[38;5;241m.\u001b[39mzero\n\u001b[1;32m   1705\u001b[0m \u001b[38;5;28;01mfor\u001b[39;00m k \u001b[38;5;129;01min\u001b[39;00m indices:\n\u001b[0;32m-> 1706\u001b[0m     psum \u001b[38;5;241m=\u001b[39m psum \u001b[38;5;241m+\u001b[39m g(ctx\u001b[38;5;241m.\u001b[39mmpf(k))\n\u001b[1;32m   1707\u001b[0m     partial_sums\u001b[38;5;241m.\u001b[39mappend(psum)\n",
      "File \u001b[0;32m~/anaconda3/lib/python3.12/site-packages/mpmath/calculus/extrapolation.py:1753\u001b[0m, in \u001b[0;36mstandardize.<locals>.g\u001b[0;34m(k)\u001b[0m\n\u001b[1;32m   1751\u001b[0m \u001b[38;5;28;01mdef\u001b[39;00m \u001b[38;5;21mg\u001b[39m(k):\n\u001b[1;32m   1752\u001b[0m     args[d] \u001b[38;5;241m=\u001b[39m k\n\u001b[0;32m-> 1753\u001b[0m     \u001b[38;5;28;01mreturn\u001b[39;00m f(\u001b[38;5;241m*\u001b[39margs)\n",
      "File \u001b[0;32m~/anaconda3/lib/python3.12/site-packages/mpmath/calculus/extrapolation.py:1808\u001b[0m, in \u001b[0;36mstandardize_infinite.<locals>.g\u001b[0;34m(*args)\u001b[0m\n\u001b[1;32m   1806\u001b[0m args \u001b[38;5;241m=\u001b[39m \u001b[38;5;28mlist\u001b[39m(args)\n\u001b[1;32m   1807\u001b[0m args[dim] \u001b[38;5;241m+\u001b[39m\u001b[38;5;241m=\u001b[39m a\n\u001b[0;32m-> 1808\u001b[0m \u001b[38;5;28;01mreturn\u001b[39;00m f(\u001b[38;5;241m*\u001b[39margs)\n",
      "Cell \u001b[0;32mIn[4], line 23\u001b[0m, in \u001b[0;36mE_theta.<locals>.a_n.<locals>.this_b_m\u001b[0;34m(m)\u001b[0m\n\u001b[1;32m     22\u001b[0m \u001b[38;5;28;01mdef\u001b[39;00m \u001b[38;5;21mthis_b_m\u001b[39m(m):\n\u001b[0;32m---> 23\u001b[0m     \u001b[38;5;28;01mreturn\u001b[39;00m b_nm(n,m,bessel_arg,D,t_Delta,r)\n",
      "Cell \u001b[0;32mIn[4], line 7\u001b[0m, in \u001b[0;36mb_nm\u001b[0;34m(n, m, bessel_arg, D, t_Delta, r)\u001b[0m\n\u001b[1;32m      4\u001b[0m \u001b[38;5;28;01mdef\u001b[39;00m \u001b[38;5;21mb_nm\u001b[39m(n,m,bessel_arg,D,t_Delta,r):\n\u001b[1;32m      5\u001b[0m     \u001b[38;5;66;03m# inner summand in general\u001b[39;00m\n\u001b[1;32m      6\u001b[0m     alpha_nm2 \u001b[38;5;241m=\u001b[39m besseljzero(n,m,derivative\u001b[38;5;241m=\u001b[39m\u001b[38;5;241m1\u001b[39m)\u001b[38;5;241m*\u001b[39m\u001b[38;5;241m*\u001b[39m\u001b[38;5;241m2\u001b[39m\n\u001b[0;32m----> 7\u001b[0m     \u001b[38;5;28;01mreturn\u001b[39;00m alpha_nm2 \u001b[38;5;241m/\u001b[39m (alpha_nm2 \u001b[38;5;241m-\u001b[39m n\u001b[38;5;241m*\u001b[39m\u001b[38;5;241m*\u001b[39m\u001b[38;5;241m2\u001b[39m) \u001b[38;5;241m/\u001b[39m (alpha_nm2\u001b[38;5;241m-\u001b[39mbessel_arg\u001b[38;5;241m*\u001b[39m\u001b[38;5;241m*\u001b[39m\u001b[38;5;241m2\u001b[39m)\u001b[38;5;241m*\u001b[39m\u001b[38;5;241m*\u001b[39m\u001b[38;5;241m2\u001b[39m \u001b[38;5;241m*\u001b[39m exp(\u001b[38;5;241m-\u001b[39mD\u001b[38;5;241m*\u001b[39malpha_nm2\u001b[38;5;241m*\u001b[39mt_Delta\u001b[38;5;241m/\u001b[39mr\u001b[38;5;241m*\u001b[39m\u001b[38;5;241m*\u001b[39m\u001b[38;5;241m2\u001b[39m)\n",
      "File \u001b[0;32m<string>:7\u001b[0m, in \u001b[0;36m__div__\u001b[0;34m(self, other)\u001b[0m\n",
      "File \u001b[0;32m~/anaconda3/lib/python3.12/site-packages/mpmath/libmp/libmpf.py:956\u001b[0m, in \u001b[0;36mmpf_div\u001b[0;34m(s, t, prec, rnd)\u001b[0m\n\u001b[1;32m    954\u001b[0m \u001b[38;5;28;01mif\u001b[39;00m \u001b[38;5;129;01mnot\u001b[39;00m sman \u001b[38;5;129;01mor\u001b[39;00m \u001b[38;5;129;01mnot\u001b[39;00m tman:\n\u001b[1;32m    955\u001b[0m     \u001b[38;5;28;01mif\u001b[39;00m s \u001b[38;5;241m==\u001b[39m fzero:\n\u001b[0;32m--> 956\u001b[0m         \u001b[38;5;28;01mif\u001b[39;00m t \u001b[38;5;241m==\u001b[39m fzero: \u001b[38;5;28;01mraise\u001b[39;00m \u001b[38;5;167;01mZeroDivisionError\u001b[39;00m\n\u001b[1;32m    957\u001b[0m         \u001b[38;5;28;01mif\u001b[39;00m t \u001b[38;5;241m==\u001b[39m fnan: \u001b[38;5;28;01mreturn\u001b[39;00m fnan\n\u001b[1;32m    958\u001b[0m         \u001b[38;5;28;01mreturn\u001b[39;00m fzero\n",
      "\u001b[0;31mZeroDivisionError\u001b[0m: "
     ]
    }
   ],
   "source": [
    "E_v_q = np.array([E(q,D,r,n_theta=1e2) for q in qs])"
   ]
  },
  {
   "cell_type": "code",
   "execution_count": 170,
   "id": "48f953934d59df62",
   "metadata": {
    "ExecuteTime": {
     "end_time": "2025-02-25T13:32:20.725652Z",
     "start_time": "2025-02-25T13:32:16.758466Z"
    }
   },
   "outputs": [],
   "source": [
    "E_v_q_dD = np.array([E(q,D+1e-12,r,n_theta=1e2) for q in qs])"
   ]
  },
  {
   "cell_type": "code",
   "execution_count": 172,
   "id": "865df6c163f2b9e0",
   "metadata": {
    "ExecuteTime": {
     "end_time": "2025-02-25T13:32:27.116797Z",
     "start_time": "2025-02-25T13:32:27.113347Z"
    }
   },
   "outputs": [
    {
     "data": {
      "text/plain": [
       "array([mpf('-0.050737192225369654'), mpf('-0.52180482157382357'),\n",
       "       mpf('-0.57420734833613096'), mpf('-0.36412539650143572'),\n",
       "       mpf('-0.29129476608602545')], dtype=object)"
      ]
     },
     "execution_count": 172,
     "metadata": {},
     "output_type": "execute_result"
    }
   ],
   "source": [
    "(E_v_q_dD-E_v_q)/1e-12"
   ]
  },
  {
   "cell_type": "code",
   "execution_count": 169,
   "id": "55e5c06a85ca09fb",
   "metadata": {
    "ExecuteTime": {
     "end_time": "2025-02-25T13:31:43.496886Z",
     "start_time": "2025-02-25T13:31:43.494320Z"
    }
   },
   "outputs": [
    {
     "data": {
      "text/plain": [
       "array([mpf('-0.051026849412494357'), mpf('-0.52189763621868224'),\n",
       "       mpf('-0.57408777731637883'), mpf('-0.364184155055014'),\n",
       "       mpf('-0.29133406798109718')], dtype=object)"
      ]
     },
     "execution_count": 169,
     "metadata": {},
     "output_type": "execute_result"
    }
   ],
   "source": [
    "(E_v_q_dD-E_v_q)/1e-9"
   ]
  },
  {
   "cell_type": "markdown",
   "id": "911bfb9999b926cc",
   "metadata": {},
   "source": [
    "Use mpmath functions to speed up calculation maybe?"
   ]
  },
  {
   "cell_type": "code",
   "execution_count": 118,
   "id": "95c269c3d5b43c7c",
   "metadata": {
    "ExecuteTime": {
     "end_time": "2025-02-25T10:40:16.816608Z",
     "start_time": "2025-02-25T10:40:16.810256Z"
    }
   },
   "outputs": [
    {
     "data": {
      "text/plain": [
       "1.8411837813406595"
      ]
     },
     "execution_count": 118,
     "metadata": {},
     "output_type": "execute_result"
    }
   ],
   "source": [
    "jnp_zeros(1,1)[-1]"
   ]
  },
  {
   "cell_type": "code",
   "execution_count": 122,
   "id": "975c1930a615bad2",
   "metadata": {
    "ExecuteTime": {
     "end_time": "2025-02-25T10:40:39.909329Z",
     "start_time": "2025-02-25T10:40:39.903304Z"
    }
   },
   "outputs": [
    {
     "data": {
      "text/plain": [
       "mpf('1.8411837813406593')"
      ]
     },
     "execution_count": 122,
     "metadata": {},
     "output_type": "execute_result"
    }
   ],
   "source": [
    "besseljzero(1,1,derivative=1)"
   ]
  },
  {
   "cell_type": "code",
   "execution_count": 124,
   "id": "9f21c462b26b60fa",
   "metadata": {
    "ExecuteTime": {
     "end_time": "2025-02-25T10:42:07.235465Z",
     "start_time": "2025-02-25T10:42:07.231230Z"
    }
   },
   "outputs": [
    {
     "data": {
      "text/plain": [
       "0.32514710081303305"
      ]
     },
     "execution_count": 124,
     "metadata": {},
     "output_type": "execute_result"
    }
   ],
   "source": [
    "jvp(1,1)"
   ]
  },
  {
   "cell_type": "code",
   "execution_count": 126,
   "id": "c6ab4379833cb311",
   "metadata": {
    "ExecuteTime": {
     "end_time": "2025-02-25T10:42:34.212091Z",
     "start_time": "2025-02-25T10:42:34.207836Z"
    }
   },
   "outputs": [
    {
     "data": {
      "text/plain": [
       "mpf('0.32514710081303305')"
      ]
     },
     "execution_count": 126,
     "metadata": {},
     "output_type": "execute_result"
    }
   ],
   "source": [
    "besselj(1,1,derivative=1)"
   ]
  },
  {
   "cell_type": "code",
   "execution_count": 128,
   "id": "8b18b6c62c4dcd92",
   "metadata": {
    "ExecuteTime": {
     "end_time": "2025-02-25T10:43:53.364865Z",
     "start_time": "2025-02-25T10:43:53.360923Z"
    }
   },
   "outputs": [
    {
     "data": {
      "text/plain": [
       "0.44005058574493355"
      ]
     },
     "execution_count": 128,
     "metadata": {},
     "output_type": "execute_result"
    }
   ],
   "source": [
    "j1(1)"
   ]
  },
  {
   "cell_type": "code",
   "execution_count": 129,
   "id": "7016bd1a34db941e",
   "metadata": {
    "ExecuteTime": {
     "end_time": "2025-02-25T10:44:00.305597Z",
     "start_time": "2025-02-25T10:44:00.299594Z"
    }
   },
   "outputs": [
    {
     "data": {
      "text/plain": [
       "mpf('0.44005058574493352')"
      ]
     },
     "execution_count": 129,
     "metadata": {},
     "output_type": "execute_result"
    }
   ],
   "source": [
    "besselj(1,1)"
   ]
  },
  {
   "cell_type": "code",
   "execution_count": 4,
   "id": "b333b923b623af9",
   "metadata": {
    "ExecuteTime": {
     "end_time": "2025-02-28T13:05:14.517545Z",
     "start_time": "2025-02-28T13:05:14.513348Z"
    }
   },
   "outputs": [],
   "source": [
    "def q(gamma_g, t_delta):\n",
    "    return gamma_g * t_delta\n",
    "\n",
    "def b_nm(n,m,bessel_arg,D,t_Delta,r):\n",
    "    # inner summand in general\n",
    "    alpha_nm2 = besseljzero(n,m,derivative=1)**2\n",
    "    return alpha_nm2 / (alpha_nm2 - n**2) / (alpha_nm2-bessel_arg**2)**2 * exp(-D*alpha_nm2*t_Delta/r**2)\n",
    "\n",
    "\n",
    "def E_theta(q, t_Delta, r, theta):\n",
    "    # q value projections\n",
    "    q_perp = q*np.sin(theta)\n",
    "    q_para = q*np.cos(theta)\n",
    "    # helpers\n",
    "    bessel_arg = q_perp*r\n",
    "\n",
    "\n",
    "    # calculate inner sum\n",
    "    def a_n(n):\n",
    "\n",
    "        #define summand dependent on n\n",
    "        def this_b_m(m):\n",
    "            return b_nm(n,m,bessel_arg,D,t_Delta,r)\n",
    "\n",
    "        B = nsum(this_b_m, [1,inf])\n",
    "\n",
    "        #outer summand\n",
    "        return besselj(int(n), bessel_arg,derivative=1)**2 * B / (1+(int(n)==0))\n",
    "\n",
    "    #caculate outer sum\n",
    "    return ( (2 * besselj(1,bessel_arg))**2 / bessel_arg**2  +  8*bessel_arg**2 * nsum(a_n,[0,inf]) ) * exp(-D * q_para**2 * t_Delta)\n",
    "\n",
    "def E(q, t_Delta, r, n_theta=1e2):\n",
    "    delta_theta = np.pi/n_theta\n",
    "    thetas = np.arange(1e-15,np.pi,delta_theta)\n",
    "    return np.sum([np.sin(theta)*E_theta(q, t_Delta, r, theta)*delta_theta for theta in thetas])/2 #\n",
    "\n"
   ]
  },
  {
   "cell_type": "markdown",
   "id": "65f7a03889883226",
   "metadata": {},
   "source": [
    "Try to vectorize"
   ]
  },
  {
   "cell_type": "code",
   "execution_count": 138,
   "id": "a7080105496d549f",
   "metadata": {
    "ExecuteTime": {
     "end_time": "2025-02-25T10:51:02.580967Z",
     "start_time": "2025-02-25T10:51:02.575561Z"
    }
   },
   "outputs": [],
   "source": [
    "def b_nm(n,m,bessel_arg,D,t_Delta,r):\n",
    "    # inner summand in general\n",
    "    alpha_nm2 = jnp_zeros(n,m)[-1]**2\n",
    "    return alpha_nm2 / (alpha_nm2 - n**2) / (alpha_nm2-bessel_arg**2)**2 * np.exp(-D*alpha_nm2*t_Delta/r**2)\n",
    "\n",
    "\n",
    "def E(q, t_Delta, r, n_theta=1e2):\n",
    "    delta_theta = np.pi/n_theta\n",
    "    thetas = np.arange(1e-15,np.pi,delta_theta)\n",
    "\n",
    "    # q value projections\n",
    "    q_perps = q*np.sin(thetas)\n",
    "    q_paras = q*np.cos(thetas)\n",
    "    # helpers\n",
    "    bessel_args = q_perps*r\n",
    "\n",
    "    # calculate inner sum\n",
    "    def a_n(n):\n",
    "        #define summand dependent on n\n",
    "        def this_b_m(m):\n",
    "            return b_nm(n,m,bessel_args,D,t_Delta,r)\n",
    "\n",
    "        B = nsum(this_b_m, [1,inf])\n",
    "\n",
    "        #outer summand\n",
    "        return jvp(int(n), bessel_args)**2 * B / (1+(int(n)==0))\n",
    "\n",
    "    #caculate outer sum\n",
    "    E_thetas = ( (2 * j1(bessel_args))**2 / bessel_args**2  +  8*bessel_args**2 * nsum(a_n,[0,inf]) ) * np.exp(-D * q_paras**2 * t_Delta)\n",
    "\n",
    "    return E_thetas\n",
    "    #np.sum([np.sin(theta)*E_theta(q, t_Delta, r, theta)*delta_theta for theta in thetas])/2 #\n",
    "\n"
   ]
  },
  {
   "cell_type": "markdown",
   "id": "b8f1d1e2-a37c-46b2-9ca9-03cd1cddae09",
   "metadata": {},
   "source": [
    "Everything ok ;) The lineshape is good, but my result appeared much larger than Palombis, ie a factor 10!\n",
    "However, this was only due to a different logscale: They use basis e, why on earth, but well ok."
   ]
  },
  {
   "cell_type": "code",
   "execution_count": 104,
   "id": "7a368e2e-e23c-4346-95e5-d0520918c2ef",
   "metadata": {
    "ExecuteTime": {
     "end_time": "2025-02-25T10:09:30.092709Z",
     "start_time": "2025-02-25T10:09:30.026577Z"
    }
   },
   "outputs": [
    {
     "data": {
      "text/plain": [
       "[<matplotlib.lines.Line2D at 0x7f0c119b0080>]"
      ]
     },
     "execution_count": 104,
     "metadata": {},
     "output_type": "execute_result"
    },
    {
     "data": {
      "image/png": "[encoded data removed]",
      "text/plain": [
       "<Figure size 640x480 with 1 Axes>"
      ]
     },
     "metadata": {},
     "output_type": "display_data"
    }
   ],
   "source": [
    "plt.semilogy(qs, E_v_q,'.',base = np.e)\n",
    "#plt.ylim([0.01,1])"
   ]
  },
  {
   "cell_type": "markdown",
   "id": "c0adbca3-4520-4bdf-9bed-9f37ca4fd659",
   "metadata": {},
   "source": [
    "## Evaluate E_theta at 90° following Linse et al. 1995"
   ]
  },
  {
   "cell_type": "markdown",
   "id": "104eea62-4a10-4098-b016-bcbccbdff889",
   "metadata": {},
   "source": [
    "Validate formula by reproducing Fig. 3 in Linse et al!"
   ]
  },
  {
   "cell_type": "code",
   "execution_count": 114,
   "id": "aa26ff71-1d75-417d-a7b0-a29fe7f3e305",
   "metadata": {},
   "outputs": [],
   "source": [
    "\n",
    "def b_nm(n,m,bessel_arg,D,t_Delta,r): \n",
    "    # inner summand in general\n",
    "    alpha_nm2 = jnp_zeros(n,m)[-1]**2\n",
    "    return alpha_nm2 / (alpha_nm2 - n**2) / (alpha_nm2-bessel_arg**2)**2 * np.exp(-D*alpha_nm2*t_Delta/r**2)\n",
    "\n",
    "    \n",
    "def E_theta(q, t_Delta, theta, r):\n",
    "    # q value projections\n",
    "    q_perp = q*np.sin(theta)\n",
    "    q_para = q*np.cos(theta)\n",
    "    # helpers\n",
    "    bessel_arg = q_perp*r\n",
    "\n",
    "\n",
    "    # calculate inner sum\n",
    "    def a_n(n):\n",
    "        \n",
    "        #define summand dependent on n\n",
    "        def this_b_m(m):\n",
    "            return b_nm(n,m,bessel_arg,D,t_Delta,r)\n",
    "            \n",
    "        B = nsum(this_b_m, [1,inf])\n",
    "        \n",
    "        #outer summand\n",
    "        return jvp(int(n), bessel_arg)**2 * B / (1+(int(n)==0))\n",
    "        \n",
    "    #caculate outer sum\n",
    "    A = nsum(a_n,[0,inf])\n",
    "    \n",
    "    return ((2*j1(bessel_arg))**2/bessel_arg**2 + 8*bessel_arg**2 * A)* np.exp(-D*q_para**2*t_Delta)\n"
   ]
  },
  {
   "cell_type": "code",
   "execution_count": 174,
   "id": "116355ac-4409-4dfc-ae29-ef2f8ea5c7b2",
   "metadata": {},
   "outputs": [],
   "source": [
    "theta = np.pi/2\n",
    "\n",
    "D=1\n",
    "r=1\n",
    "\n",
    "q_stars = np.arange(1e-9, 3.5,.01)\n",
    "qs = q_stars * np.pi # Linse reduced units lead to this scaling\n",
    "t_Delta_stars = np.array([.05,.1,.2,.5,1])\n",
    "t_Deltas = t_Delta_stars * 4 # Linse reduced unit lead to this scaling\n",
    "E_v_qs = np.array([[E_theta(q,t_Delta,theta,r) for q in qs] for t_Delta in t_Deltas])"
   ]
  },
  {
   "cell_type": "code",
   "execution_count": 175,
   "id": "60f2ef9f-b88f-4e13-b926-15ffc959dcee",
   "metadata": {},
   "outputs": [
    {
     "data": {
      "text/plain": [
       "<matplotlib.legend.Legend at 0x7f2d1081fec0>"
      ]
     },
     "execution_count": 175,
     "metadata": {},
     "output_type": "execute_result"
    },
    {
     "data": {
      "image/png": "[encoded data removed]",
      "text/plain": [
       "<Figure size 640x480 with 1 Axes>"
      ]
     },
     "metadata": {},
     "output_type": "display_data"
    }
   ],
   "source": [
    "[plt.semilogy(q_stars, E_v_q,label=i) for i,E_v_q in enumerate(E_v_qs)]\n",
    "plt.ylim(0.0001,1.05)\n",
    "plt.xlim(q_stars[0],q_stars[-1])\n",
    "plt.legend()"
   ]
  },
  {
   "cell_type": "markdown",
   "id": "4ecc3f6e-e9d2-4024-9adc-b4cba60f372e",
   "metadata": {},
   "source": [
    "Beautiful! This is Linse and Södermann Fig 3b"
   ]
  }
 ],
 "metadata": {
  "kernelspec": {
   "display_name": "Python 3 (ipykernel)",
   "language": "python",
   "name": "python3"
  },
  "language_info": {
   "codemirror_mode": {
    "name": "ipython",
    "version": 3
   },
   "file_extension": ".py",
   "mimetype": "text/x-python",
   "name": "python",
   "nbconvert_exporter": "python",
   "pygments_lexer": "ipython3",
   "version": "3.12.3"
  }
 },
 "nbformat": 4,
 "nbformat_minor": 5
}
