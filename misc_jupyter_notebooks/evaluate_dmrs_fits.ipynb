{
 "cells": [
  {
   "cell_type": "code",
   "execution_count": 1,
   "id": "initial_id",
   "metadata": {
    "ExecuteTime": {
     "end_time": "2025-02-06T12:12:58.391097Z",
     "start_time": "2025-02-06T12:12:58.093494Z"
    }
   },
   "outputs": [],
   "source": [
    "import os\n",
    "import pandas as pd\n",
    "from matplotlib import pyplot as plt\n",
    "import numpy as np"
   ]
  },
  {
   "cell_type": "code",
   "execution_count": 2,
   "id": "1e47577e39eacdf2",
   "metadata": {
    "ExecuteTime": {
     "end_time": "2025-02-06T12:12:58.402522Z",
     "start_time": "2025-02-06T12:12:58.397760Z"
    }
   },
   "outputs": [],
   "source": [
    "subj_list = ['sub-01', 'sub-04', 'sub-05', 'sub-06']\n",
    "sess_list = ['ses-01']\n",
    "\n",
    "analysis_path = '/home/malte/Documents/Projects/dMRS_starting_data_cristina/CristinasTestData/derivatives/analysis_all_models'\n",
    "\n",
    "free_parameters = {}\n",
    "for subj in subj_list:\n",
    "    free_parameters[subj] = {}\n",
    "    for sess in sess_list:\n",
    "        free_parameters[subj][sess] = pd.read_csv(os.path.join(analysis_path, subj, sess, 'dmrs','dyn_fit_callaghan', 'free_parameters.csv'))"
   ]
  },
  {
   "cell_type": "code",
   "execution_count": 3,
   "id": "5723b747-3cc2-4f9a-b637-cd3d152a5c8c",
   "metadata": {
    "ExecuteTime": {
     "end_time": "2025-02-06T12:12:59.177390Z",
     "start_time": "2025-02-06T12:12:59.175918Z"
    }
   },
   "outputs": [],
   "source": [
    "metabolite_list = ['Cr', 'Ins', 'Glu', 'GPC', 'NAA', 'PCho', 'PCr'] # according to Marco Palombo the metabolites with highest cell specificity.#['Cho','Cr', 'Ins', 'Glu', 'GPC', 'NAA', 'PCho', 'PCr'] # according to Marco Palombo the metabolites with highest cell specificity."
   ]
  },
  {
   "cell_type": "code",
   "execution_count": 4,
   "id": "efd44a6b-b496-49f7-b68c-0ca51f6cb34f",
   "metadata": {
    "ExecuteTime": {
     "end_time": "2025-02-06T12:13:00.977338Z",
     "start_time": "2025-02-06T12:13:00.973913Z"
    }
   },
   "outputs": [
    {
     "data": {
      "text/plain": [
       "6    5.24365\n",
       "Name: mean, dtype: float64"
      ]
     },
     "execution_count": 4,
     "metadata": {},
     "output_type": "execute_result"
    }
   ],
   "source": [
    "free_parameters[subj][sess]['mean'][free_parameters[subj][sess]['Unnamed: 0']== 'conc_Cr_c_amp']"
   ]
  },
  {
   "cell_type": "code",
   "execution_count": 105,
   "id": "5f26fbbb-ebd9-418f-a5c6-398c3992bdd0",
   "metadata": {},
   "outputs": [
    {
     "data": {
      "text/html": [
       "<div>\n",
       "<style scoped>\n",
       "    .dataframe tbody tr th:only-of-type {\n",
       "        vertical-align: middle;\n",
       "    }\n",
       "\n",
       "    .dataframe tbody tr th {\n",
       "        vertical-align: top;\n",
       "    }\n",
       "\n",
       "    .dataframe thead th {\n",
       "        text-align: right;\n",
       "    }\n",
       "</style>\n",
       "<table border=\"1\" class=\"dataframe\">\n",
       "  <thead>\n",
       "    <tr style=\"text-align: right;\">\n",
       "      <th></th>\n",
       "      <th>Unnamed: 0</th>\n",
       "      <th>mean</th>\n",
       "      <th>sd</th>\n",
       "    </tr>\n",
       "  </thead>\n",
       "  <tbody>\n",
       "    <tr>\n",
       "      <th>0</th>\n",
       "      <td>conc_Ala_c_amp</td>\n",
       "      <td>3.387047</td>\n",
       "      <td>0.342981</td>\n",
       "    </tr>\n",
       "    <tr>\n",
       "      <th>1</th>\n",
       "      <td>conc_Ala_c_adc</td>\n",
       "      <td>1.164789</td>\n",
       "      <td>0.243217</td>\n",
       "    </tr>\n",
       "    <tr>\n",
       "      <th>2</th>\n",
       "      <td>conc_Asc_c_amp</td>\n",
       "      <td>19.236456</td>\n",
       "      <td>0.724664</td>\n",
       "    </tr>\n",
       "    <tr>\n",
       "      <th>3</th>\n",
       "      <td>conc_Asc_c_adc</td>\n",
       "      <td>0.498481</td>\n",
       "      <td>0.066358</td>\n",
       "    </tr>\n",
       "    <tr>\n",
       "      <th>4</th>\n",
       "      <td>conc_Asp_c_amp</td>\n",
       "      <td>8.834175</td>\n",
       "      <td>0.603918</td>\n",
       "    </tr>\n",
       "    <tr>\n",
       "      <th>...</th>\n",
       "      <td>...</td>\n",
       "      <td>...</td>\n",
       "      <td>...</td>\n",
       "    </tr>\n",
       "    <tr>\n",
       "      <th>79</th>\n",
       "      <td>baseline_2_b_adc</td>\n",
       "      <td>0.104337</td>\n",
       "      <td>0.028890</td>\n",
       "    </tr>\n",
       "    <tr>\n",
       "      <th>80</th>\n",
       "      <td>baseline_2_b_off</td>\n",
       "      <td>0.149286</td>\n",
       "      <td>0.052510</td>\n",
       "    </tr>\n",
       "    <tr>\n",
       "      <th>81</th>\n",
       "      <td>baseline_3_b_amp</td>\n",
       "      <td>-1.047291</td>\n",
       "      <td>0.082355</td>\n",
       "    </tr>\n",
       "    <tr>\n",
       "      <th>82</th>\n",
       "      <td>baseline_3_b_adc</td>\n",
       "      <td>0.015901</td>\n",
       "      <td>0.005174</td>\n",
       "    </tr>\n",
       "    <tr>\n",
       "      <th>83</th>\n",
       "      <td>baseline_3_b_off</td>\n",
       "      <td>0.811908</td>\n",
       "      <td>0.081440</td>\n",
       "    </tr>\n",
       "  </tbody>\n",
       "</table>\n",
       "<p>84 rows × 3 columns</p>\n",
       "</div>"
      ],
      "text/plain": [
       "          Unnamed: 0       mean        sd\n",
       "0     conc_Ala_c_amp   3.387047  0.342981\n",
       "1     conc_Ala_c_adc   1.164789  0.243217\n",
       "2     conc_Asc_c_amp  19.236456  0.724664\n",
       "3     conc_Asc_c_adc   0.498481  0.066358\n",
       "4     conc_Asp_c_amp   8.834175  0.603918\n",
       "..               ...        ...       ...\n",
       "79  baseline_2_b_adc   0.104337  0.028890\n",
       "80  baseline_2_b_off   0.149286  0.052510\n",
       "81  baseline_3_b_amp  -1.047291  0.082355\n",
       "82  baseline_3_b_adc   0.015901  0.005174\n",
       "83  baseline_3_b_off   0.811908  0.081440\n",
       "\n",
       "[84 rows x 3 columns]"
      ]
     },
     "execution_count": 105,
     "metadata": {},
     "output_type": "execute_result"
    }
   ],
   "source": [
    "free_parameters[subj][sess]"
   ]
  },
  {
   "cell_type": "code",
   "execution_count": 61,
   "id": "76bad09e-859d-4ae9-9536-153b1ae22c63",
   "metadata": {
    "ExecuteTime": {
     "end_time": "2025-02-06T12:49:23.866816Z",
     "start_time": "2025-02-06T12:49:23.861606Z"
    }
   },
   "outputs": [],
   "source": [
    "def plot_variable(variable_name):\n",
    "    for i,metab in enumerate(metabolite_list):\n",
    "        plt.gca().set_prop_cycle(None)\n",
    "        for j,subj in enumerate(subj_list):\n",
    "            for sess in sess_list:\n",
    "                plt.errorbar(x=i-.1+.05*j,\n",
    "                         y=free_parameters[subj][sess]['mean'][free_parameters[subj][sess]['Unnamed: 0']== 'conc_'+metab+'_'+variable_name].to_numpy(),\n",
    "                          yerr=free_parameters[subj][sess]['sd'][free_parameters[subj][sess]['Unnamed: 0']== 'conc_'+metab+'_'+variable_name].to_numpy(),\n",
    "                              marker='x',\n",
    "                             alpha=1)\n",
    "    plt.xticks(range(len(metabolite_list)),metabolite_list)\n",
    "    return plt.show()"
   ]
  },
  {
   "cell_type": "code",
   "execution_count": 62,
   "id": "6a35ac7a84b0722d",
   "metadata": {
    "ExecuteTime": {
     "end_time": "2025-02-06T12:49:24.276558Z",
     "start_time": "2025-02-06T12:49:24.273669Z"
    }
   },
   "outputs": [],
   "source": [
    "def plot_relative_concentration(variable_name='c_amp'):\n",
    "    for i,metab in enumerate(metabolite_list):\n",
    "        plt.gca().set_prop_cycle(None)\n",
    "        for j,subj in enumerate(subj_list):\n",
    "            for sess in sess_list:\n",
    "                plt.errorbar(x=i-.2+.1*j,\n",
    "                         y=free_parameters[subj][sess]['mean'][free_parameters[subj][sess]['Unnamed: 0']== 'conc_'+metab+'_'+variable_name].to_numpy()/free_parameters[subj][sess]['mean'][free_parameters[subj][sess]['Unnamed: 0']== 'conc_'+'Cr'+'_'+variable_name].to_numpy(),\n",
    "                          yerr=free_parameters[subj][sess]['sd'][free_parameters[subj][sess]['Unnamed: 0']== 'conc_'+metab+'_'+variable_name].to_numpy(),\n",
    "                              marker='x',\n",
    "                             alpha=1)\n",
    "    plt.xticks(range(len(metabolite_list)),metabolite_list)\n",
    "    return plt.show()"
   ]
  },
  {
   "cell_type": "code",
   "execution_count": 63,
   "id": "efa998c7c1b3c648",
   "metadata": {
    "ExecuteTime": {
     "end_time": "2025-02-06T12:49:24.513553Z",
     "start_time": "2025-02-06T12:49:24.454062Z"
    }
   },
   "outputs": [
    {
     "data": {
      "image/png": "[encoded data removed]",
      "text/plain": [
       "<Figure size 640x480 with 1 Axes>"
      ]
     },
     "metadata": {},
     "output_type": "display_data"
    }
   ],
   "source": [
    "\n",
    "plot_relative_concentration()"
   ]
  },
  {
   "cell_type": "code",
   "execution_count": 64,
   "id": "cc315d1145cfdd39",
   "metadata": {
    "ExecuteTime": {
     "end_time": "2025-02-06T12:49:25.233041Z",
     "start_time": "2025-02-06T12:49:25.174724Z"
    }
   },
   "outputs": [
    {
     "data": {
      "image/png": "[encoded data removed]",
      "text/plain": [
       "<Figure size 640x480 with 1 Axes>"
      ]
     },
     "metadata": {},
     "output_type": "display_data"
    }
   ],
   "source": [
    "plot_variable('c_adc')"
   ]
  },
  {
   "cell_type": "code",
   "execution_count": null,
   "id": "e5b8e20276652bc5",
   "metadata": {},
   "outputs": [],
   "source": []
  }
 ],
 "metadata": {
  "kernelspec": {
   "display_name": "Python 3 (ipykernel)",
   "language": "python",
   "name": "python3"
  },
  "language_info": {
   "codemirror_mode": {
    "name": "ipython",
    "version": 3
   },
   "file_extension": ".py",
   "mimetype": "text/x-python",
   "name": "python",
   "nbconvert_exporter": "python",
   "pygments_lexer": "ipython3",
   "version": "3.12.3"
  }
 },
 "nbformat": 4,
 "nbformat_minor": 5
}
